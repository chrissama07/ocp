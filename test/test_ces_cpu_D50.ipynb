{
 "cells": [
  {
   "cell_type": "code",
   "execution_count": 81,
   "metadata": {
    "collapsed": true,
    "pycharm": {
     "name": "#%%\n"
    }
   },
   "outputs": [],
   "source": [
    "import random\n",
    "import numpy as np\n",
    "import cec2017.functions as functions\n",
    "import copy"
   ]
  },
  {
   "cell_type": "code",
   "execution_count": 82,
   "outputs": [],
   "source": [
    "Dim = 50\n",
    "NP = 10\n",
    "bound = 100"
   ],
   "metadata": {
    "collapsed": false,
    "pycharm": {
     "name": "#%%\n"
    }
   }
  },
  {
   "cell_type": "code",
   "execution_count": 83,
   "outputs": [
    {
     "data": {
      "text/plain": "array([[-7.11830800e+01,  5.98571319e+00, -3.59676246e+01,\n        -9.15284244e+01, -1.02783462e+01,  4.58339348e+01,\n        -2.63562397e+01,  6.30589356e+01, -7.13875409e+01,\n        -8.08148368e+01,  4.80136531e+01, -4.81009534e+01,\n        -4.73344762e+01,  8.67315130e+01,  4.38790804e+01,\n         4.53686627e+01,  8.91864113e+01, -6.74839294e+01,\n        -3.76776453e+01,  2.49077597e+00,  3.57000364e+01,\n        -7.46298796e+01, -5.38939402e+01, -3.00430818e+01,\n         5.24854363e+01,  5.93001101e+01,  4.56069842e+01,\n         2.32538129e+01,  6.49195517e+01,  9.55319263e+01,\n         1.42548191e+01, -1.40582925e+01, -7.18728474e+01,\n         9.04935044e+01, -6.14930354e+01,  5.87051272e+01,\n        -6.84122140e+01,  1.23401043e+01,  4.98817504e+01,\n         4.94672680e+01,  1.47617382e+01,  4.25427777e+01,\n        -2.54084862e+01,  2.07197910e+01, -2.92076557e+01,\n        -3.58238023e+01, -5.25759325e+01,  3.25413594e+01,\n         1.95573936e+01, -5.23651163e+01],\n       [ 4.81154282e+01, -3.81252454e+01, -8.76578209e+01,\n        -1.20938021e+00, -1.65546075e+01, -7.31269540e+01,\n         1.89947891e+01, -4.21618195e+00,  7.50282557e+00,\n        -6.00175926e+01,  9.13593129e+01, -3.71770937e+01,\n         8.94677510e+01,  7.14957859e+01, -3.97812281e+01,\n        -3.59671546e+01,  8.91875770e+01,  3.54501987e+01,\n        -6.45890125e+01,  8.95876371e+01, -7.76090652e+01,\n        -5.46652824e+01,  1.80422384e+01, -1.96238044e+01,\n         3.54234335e+01, -4.67380241e+01, -7.60594691e-02,\n        -2.89483975e+01, -5.89542680e+01,  9.10292199e+01,\n         7.84931100e+01, -2.98725598e+01,  5.69297678e+01,\n        -1.78345632e+01,  5.73051829e+01, -8.52676611e+01,\n         3.13260144e+01, -2.77612866e+01, -2.34330251e+01,\n         6.00328036e+01,  5.37077391e+01, -4.64918989e+01,\n        -5.94850464e+01,  5.16748173e+01,  6.39664063e+01,\n        -3.26641029e+01, -3.55877593e+01,  4.67361100e+01,\n         7.96480234e+01, -7.52252717e+01],\n       [ 7.89110360e+01,  8.84033941e+01, -3.77309555e+01,\n         3.98543024e+00,  8.19218620e+01, -4.86689399e+00,\n        -3.50227076e+01, -8.98155868e+01, -5.02770739e+01,\n         5.85901477e+00,  3.91312457e+01, -2.23064467e+01,\n         8.00677808e+01,  8.70065907e+01, -1.54127794e+01,\n        -1.97602450e+01,  4.80264004e+01, -4.67308733e+01,\n        -2.02473015e+01,  8.49657749e+01,  8.88138079e+01,\n         6.21801836e+01, -7.54483071e+00, -8.29393855e+01,\n         6.22377083e+01, -4.58463181e+01,  9.80710809e+01,\n        -4.76138210e+01,  6.28639142e+01,  4.65850225e+01,\n        -6.88696547e+01,  5.40954353e+01, -2.85276690e+01,\n         8.44365823e+01,  4.75498500e+01,  5.24193888e+01,\n         5.32333749e+01,  7.77091452e+01,  7.33615348e+01,\n         5.43877682e+01,  8.01273891e+01, -1.19622985e+01,\n         8.80338965e+01,  6.28456320e+01,  9.28781423e+01,\n         1.76211912e+01, -3.41202446e+01,  1.91230186e+00,\n         9.23852470e+01,  1.49485934e+01],\n       [ 2.21990348e+01,  9.28641748e+01,  1.45108550e+01,\n         5.72291526e+01,  4.55945803e+01, -1.36271457e+01,\n        -3.85318081e+01,  2.42364231e+01,  3.07437028e+01,\n         8.48757707e+01,  6.07549610e+01,  1.08263940e+01,\n         9.79525054e+01, -5.82432929e+01, -8.80695150e+01,\n        -8.07339807e+00, -8.22687219e+01,  6.50467129e+01,\n        -7.52634526e+01,  7.07415014e+01,  8.91690918e+00,\n         1.52981831e+01,  4.03672056e+01,  7.97576828e+01,\n         3.75361739e+01,  5.82987576e+01,  7.07073103e+01,\n        -1.26405692e+01,  9.84934293e+01,  3.89061599e+01,\n         8.64474167e+01, -1.54918807e+01,  3.66345723e+01,\n        -7.65020662e+01,  6.42517907e+01,  6.99653657e+01,\n        -4.03633193e+01, -2.18295611e+01, -1.66800388e+01,\n         7.76705449e+00, -4.04963233e+01,  9.31474229e+01,\n         4.88254723e+01,  2.64631513e+01, -3.37230345e+01,\n         1.59664742e+01,  9.10873407e+01,  1.12097923e+01,\n        -8.42990363e+01,  4.50350458e+01],\n       [ 6.40854907e+01, -4.59111460e+01, -8.05795896e+01,\n        -1.08647823e+01, -1.20861169e+01,  5.62752294e+00,\n         2.21566567e+01,  1.35894916e+01,  7.88039282e+01,\n         4.73372431e+00,  2.84188722e+00,  7.46983726e+01,\n        -5.21840006e+01, -3.50434611e+01,  4.99446771e+01,\n        -1.45609343e+01,  6.98755353e+01, -9.30578070e+01,\n         3.33359335e+01, -2.81853027e+01, -5.71517807e+01,\n         3.85941415e+01,  8.81788186e+01,  6.62728202e+01,\n         6.36642070e+01,  7.34859955e+01,  5.52678065e+01,\n         6.64581340e+01, -6.60564279e+00, -6.75602123e+01,\n        -8.96337334e+01,  3.30076136e+00, -3.99292554e+01,\n        -8.55440409e+01,  2.65331382e+01,  7.63581236e+01,\n        -4.15510458e+01, -2.94931887e+01,  7.21134573e+01,\n         4.81963927e+01,  6.94410502e+01, -2.90953940e+01,\n         8.25399563e+01,  4.72501874e+01, -2.12086144e+01,\n        -4.06557363e+01, -9.31239942e+01,  9.11273625e+01,\n         2.33009970e+01, -4.40133496e+01],\n       [ 9.37999983e+01,  7.41400348e+01,  2.20335029e+01,\n         3.05278425e+01, -2.16162115e+01,  5.82914748e+01,\n        -6.50477956e+01, -7.43529083e+01,  3.07184525e+01,\n        -2.71653631e+01,  1.09613619e+01, -1.59448543e+00,\n        -7.30448146e+00,  4.87503844e+01,  7.74605667e+01,\n        -9.22485315e+01,  9.24838459e+01, -6.48566157e+01,\n         9.19837036e+01,  7.52045999e+01, -2.38070950e+01,\n         7.21673726e+01,  1.66867546e+01,  6.59190057e+01,\n         4.37703848e+01, -5.89847811e+01, -7.16001943e+01,\n         6.01321700e+01, -9.22953248e+01,  5.63404469e+01,\n        -8.21346969e+01, -7.19724523e+01, -3.85083407e+01,\n        -3.94408826e+01,  8.89298120e+01, -2.37943867e+01,\n         2.27381201e+01,  8.37091401e+01, -3.11979727e+01,\n        -6.15131241e+01, -3.66057023e+01,  7.29818635e+01,\n         1.19184432e+01,  6.44265862e+01,  3.11593369e+01,\n         8.87776020e+01, -5.79626490e+01, -5.27284488e+01,\n         1.69188621e+01, -4.49641754e+01],\n       [-6.59575984e+01, -6.79438216e+01, -8.72649550e+01,\n        -2.83794886e+01, -6.63254017e+01,  4.70302036e+01,\n        -2.82973194e+01, -6.36773633e+01, -7.52429119e+01,\n        -9.22002406e+01,  6.33327920e+01,  1.38009953e+01,\n        -3.77502401e+01, -2.25417068e+01,  6.18767272e+01,\n         2.77920462e+01,  9.29451907e+01,  4.64165148e+01,\n         6.99113299e+01,  2.17006583e+01,  7.51222292e+01,\n         1.76256245e+01, -7.46538083e+01, -7.04061138e+01,\n         9.54342110e+01, -1.35599269e+01,  8.60096459e+01,\n        -7.57130521e+01,  7.67272180e+01, -3.41717494e+01,\n         7.19191120e+00,  7.57723012e+01,  2.94910606e+01,\n        -4.42929912e+01, -2.25216057e+01,  7.94734031e+01,\n        -3.32165539e+01,  4.91457344e+01, -2.67454945e+01,\n        -7.91370288e+01, -3.78133494e+01,  1.63601943e+01,\n         9.66299701e+01,  5.82827207e+01, -3.45993766e+01,\n         8.94634442e+01,  6.38877151e+01, -2.82261002e+01,\n         5.50139736e+01,  7.50662245e+01],\n       [-4.37285989e+01,  8.41768988e+01, -5.61060236e+01,\n         7.61824967e+01, -8.15434602e+01,  2.14570876e+01,\n        -5.26649021e+01, -2.77733806e+01,  8.33852897e+01,\n        -5.22239953e+01,  7.25877306e+01,  5.42600472e+01,\n        -1.54172558e+01,  5.21482488e+01, -5.66139223e+01,\n        -9.03960595e+01,  9.20325510e+01, -4.66033702e+01,\n         5.01612809e+01,  3.75680662e+01, -3.38062368e+01,\n        -3.53185994e+01, -5.36604176e+01,  2.75255481e+01,\n        -2.11689036e+00,  7.35522307e+01, -1.30287867e+01,\n        -1.29375217e+01, -6.90654557e+01,  4.67476179e+01,\n         8.20155379e+01, -8.96089954e+01, -9.10745659e+01,\n        -9.55247014e+00, -1.44660363e+01, -9.22351576e+01,\n         5.84807023e+01, -3.98190308e+01,  1.22991067e+01,\n         4.64570026e+01, -1.74232847e+01, -8.79033223e+01,\n         3.19746219e+01,  7.84870363e+01, -7.37897948e+01,\n         5.27881175e+01,  3.28552070e+01,  7.11167425e+01,\n         9.05164978e+01,  9.57261104e+01],\n       [ 7.29057662e+01, -4.31732787e+01, -1.62675753e+01,\n        -8.48789571e+01,  6.56239062e+01,  9.71035971e+00,\n        -4.39450049e+01, -9.38766914e+00,  1.71679369e+01,\n        -4.47718248e+01, -8.64927155e+00,  5.61322835e+01,\n        -6.23410395e+01, -5.52904694e+01, -5.07675405e+01,\n         9.70969729e+01, -1.83067658e+01,  9.41286764e+01,\n         2.54381922e+01, -3.02641904e+01, -7.61348805e+01,\n         9.61973376e+01,  9.69503920e+01, -4.37762905e+01,\n         9.46240612e+01, -1.63130153e+01, -9.20418031e+01,\n         7.22838098e+01,  3.73975306e+01,  5.50971832e+01,\n         8.85444785e+01,  3.46002796e+01,  7.77204372e+01,\n        -1.90567884e+01, -5.59039368e+01,  6.66767405e+01,\n         5.93668361e+01, -6.37464070e+01, -3.30823494e+00,\n         9.83666856e+01,  4.56919968e+01,  8.41147213e+01,\n         3.77920043e+01,  9.89952748e+01,  6.53287296e+01,\n         4.45960847e+00, -8.50342266e+01, -3.81387596e+01,\n        -4.85784042e+01,  2.84709616e+01],\n       [ 3.33756523e+01,  4.97309745e+01, -3.65862041e+01,\n         5.60365976e+01, -7.07517529e+01,  8.21312151e+01,\n         8.64453866e+00,  7.04851984e+01,  4.58037651e+01,\n         4.69760085e+01,  9.89267007e+01, -8.32242771e+00,\n        -5.15831581e+01, -2.67280820e+01,  5.03853976e+01,\n         9.44903062e+01,  3.67490364e+01,  8.95013476e+01,\n         6.75066583e+01, -8.04998182e+01, -6.73233517e+01,\n        -9.30554478e+01,  6.23872737e+00, -1.31684464e+00,\n        -2.59427164e+01,  2.12370676e+00,  9.11647762e+01,\n         2.34277763e+01, -2.55884710e+01,  8.48942309e-01,\n        -3.40134370e+01, -8.28065384e+01,  3.02449073e+01,\n        -1.20738790e+00,  1.77165931e+01, -5.18503374e+01,\n        -4.96460857e+01,  8.36453611e+01, -1.13431418e+01,\n         9.23232233e+01, -5.31867571e+01,  1.06575142e+00,\n        -6.00055904e+01, -5.25742663e+01,  3.91301520e+01,\n         7.08602622e+01,  9.60714896e+01,  1.89452651e+01,\n         9.43552028e+01,  7.50657290e+01]])"
     },
     "execution_count": 83,
     "metadata": {},
     "output_type": "execute_result"
    }
   ],
   "source": [
    "X = np.random.uniform(low=-bound, high=bound, size=Dim)\n",
    "X_min = X.min()\n",
    "X_max = X.max()\n",
    "X_list = np.empty([NP, Dim])\n",
    "for i in range(NP):\n",
    "    for j in range(Dim):\n",
    "        X_list[i][j] = X_min + random.uniform(0, 1) * (X_max - X_min)\n",
    "\n",
    "X_list"
   ],
   "metadata": {
    "collapsed": false,
    "pycharm": {
     "name": "#%%\n"
    }
   }
  },
  {
   "cell_type": "code",
   "execution_count": 84,
   "outputs": [],
   "source": [
    "\"\"\":parameter for DE\"\"\"\n",
    "T_DE = 100\n",
    "no = 5\n",
    "CR = 0.9  # rate of crossover\n",
    "\n",
    "\"\"\":parameter for MMS\"\"\"\n",
    "mms_e = 0.000001\n",
    "mms_F = 0.5"
   ],
   "metadata": {
    "collapsed": false,
    "pycharm": {
     "name": "#%%\n"
    }
   }
  },
  {
   "cell_type": "code",
   "execution_count": 85,
   "outputs": [],
   "source": [
    "\"\"\":parameter k and F: for current/rand/1\"\"\"\n",
    "k = 0.3\n",
    "F = 0.5"
   ],
   "metadata": {
    "collapsed": false,
    "pycharm": {
     "name": "#%%\n"
    }
   }
  },
  {
   "cell_type": "code",
   "execution_count": 86,
   "outputs": [],
   "source": [
    "\"\"\":parameter for crossoverSBX\"\"\"\n",
    "sbx_n = 10"
   ],
   "metadata": {
    "collapsed": false,
    "pycharm": {
     "name": "#%%\n"
    }
   }
  },
  {
   "cell_type": "code",
   "execution_count": 87,
   "outputs": [],
   "source": [
    "# f = functions.f1"
   ],
   "metadata": {
    "collapsed": false,
    "pycharm": {
     "name": "#%%\n"
    }
   }
  },
  {
   "cell_type": "code",
   "execution_count": 88,
   "outputs": [],
   "source": [
    "def feas(x):\n",
    "    if x.max() <= bound and x.min() >= -bound:\n",
    "        return 1\n",
    "    else:\n",
    "        return 0"
   ],
   "metadata": {
    "collapsed": false,
    "pycharm": {
     "name": "#%%\n"
    }
   }
  },
  {
   "cell_type": "code",
   "execution_count": 89,
   "outputs": [],
   "source": [
    "def select_better_fit(x1, x2, f):\n",
    "    if f(x1) <= f(x2):\n",
    "        return x1\n",
    "    else:\n",
    "        return x2"
   ],
   "metadata": {
    "collapsed": false,
    "pycharm": {
     "name": "#%%\n"
    }
   }
  },
  {
   "cell_type": "code",
   "execution_count": 90,
   "outputs": [],
   "source": [
    "def current_to_rand(x_list, r1, r2, r3, i):\n",
    "    return np.add(x_list[i], k * np.subtract(x_list[r1], x_list[i]), F * np.subtract(x_list[r2], x_list[r3]))"
   ],
   "metadata": {
    "collapsed": false,
    "pycharm": {
     "name": "#%%\n"
    }
   }
  },
  {
   "cell_type": "code",
   "execution_count": 91,
   "outputs": [],
   "source": [
    "def immsade(xx_list, r1, r2, r3):\n",
    "    immsade_omega = random.uniform(0.7, 1.0)\n",
    "    immsade_F = random.uniform(0.5, 0.8)\n",
    "    v_delta = np.add(np.multiply(immsade_omega, xx_list[r1]),\n",
    "                     immsade_F * np.subtract(xx_list[r2], xx_list[r3]))\n",
    "    v_delta = np.maximum(v_delta, -100)\n",
    "    v_delta = np.minimum(v_delta, 100)\n",
    "    return v_delta"
   ],
   "metadata": {
    "collapsed": false,
    "pycharm": {
     "name": "#%%\n"
    }
   }
  },
  {
   "cell_type": "code",
   "execution_count": 92,
   "outputs": [],
   "source": [
    "def crossover_SBX(x_i, v_j, f):\n",
    "    beta = 0\n",
    "    while isinstance(beta, complex):\n",
    "        sbx_rand = random.random()\n",
    "        if sbx_rand <= 0.5:\n",
    "            beta = (2 * sbx_rand) ** (1 / (1 + sbx_n))\n",
    "        else:\n",
    "            beta = (1 / (2 - sbx_n * 2)) ** (1 / (1 + sbx_n))\n",
    "\n",
    "    c1 = 0.5 * np.add((1 + beta) * x_i, (1 - beta) * v_j)  # crossover\n",
    "    c2 = 0.5 * np.add((1 - beta) * x_i, (1 + beta) * v_j)\n",
    "    return select_better_fit(c1, c2, f)"
   ],
   "metadata": {
    "collapsed": false,
    "pycharm": {
     "name": "#%%\n"
    }
   }
  },
  {
   "cell_type": "code",
   "execution_count": 93,
   "outputs": [],
   "source": [
    "def DE(f):\n",
    "    x_list = copy.deepcopy(X_list)\n",
    "    x_best = x_list[0]\n",
    "    # print(x_list[0])\n",
    "\n",
    "    t = 1\n",
    "    while t <= T_DE:\n",
    "        for i in range(NP):\n",
    "            u_best = np.empty([Dim])\n",
    "            for j in range(Dim):\n",
    "                r_list = random.sample(range(NP), 5)\n",
    "                for m in range(no):\n",
    "                    while r_list[m] == i:\n",
    "                        r_list[m] = random.randint(0, NP - 1)\n",
    "\n",
    "                v_j = np.empty([Dim])\n",
    "                v_j = immsade(x_list, r_list[1], r_list[2], r_list[3])\n",
    "\n",
    "                cr_rand = random.random()\n",
    "                if cr_rand <= CR:\n",
    "                    u_j = crossover_SBX(x_list[i], v_j, f)\n",
    "                else:\n",
    "                    u_j = x_list[i]\n",
    "\n",
    "                if j == 0:\n",
    "                    u_best = u_j\n",
    "                else:\n",
    "                    u_best = select_better_fit(u_best, u_j, f)\n",
    "\n",
    "                if f(u_best) <= f(x_list[i]) and feas(u_best) == 1:\n",
    "                    x_list[i] = u_best\n",
    "\n",
    "                if f(x_list[i]) < f(x_best) and feas(x_list[i]) == 1:\n",
    "                    x_best = x_list[i]\n",
    "\n",
    "        t += 1\n",
    "    return x_best\n"
   ],
   "metadata": {
    "collapsed": false,
    "pycharm": {
     "name": "#%%\n"
    }
   }
  },
  {
   "cell_type": "code",
   "execution_count": 94,
   "outputs": [],
   "source": [
    "\"\"\":parameter: for AGDE\"\"\"\n",
    "T_AGDE = 100"
   ],
   "metadata": {
    "collapsed": false,
    "pycharm": {
     "name": "#%%\n"
    }
   }
  },
  {
   "cell_type": "code",
   "execution_count": 95,
   "outputs": [],
   "source": [
    "def index_of_X_best(xx_list, f):\n",
    "    index = 0\n",
    "    min_fit = f(xx_list[0])\n",
    "    for i in range(len(xx_list)):\n",
    "        if f(xx_list[i]) < min_fit:\n",
    "            index = i\n",
    "            min_fit = f(xx_list[i])\n",
    "    return index\n",
    "\n",
    "\n",
    "def index_of_X_worst(xx_list, f):\n",
    "    index = 0\n",
    "    max_fit = f(xx_list[0])\n",
    "    for i in range(len(xx_list)):\n",
    "        if f(xx_list[i]) > max_fit:\n",
    "            index = i\n",
    "            max_fit = f(xx_list[i])\n",
    "    return index\n",
    "\n",
    "\n",
    "def compare_max(delta):\n",
    "    \"\"\"\n",
    "    lower bound\n",
    "    :param delta: delta\n",
    "    :return: turn into lower bound delta\n",
    "    \"\"\"\n",
    "\n",
    "    em = np.linspace(-100, -100, Dim)\n",
    "    delta = np.maximum(delta, em)\n",
    "    return delta\n",
    "\n",
    "\n",
    "def compare_min(delta):\n",
    "    on = np.linspace(100, 100, Dim)\n",
    "    delta = np.minimum(delta, on)\n",
    "    # for i in range(len(delta)):\n",
    "    #     delta[i] = min(delta[i], 1)\n",
    "    return delta\n",
    "\n",
    "def agde(xx_list, agde_F, agde_p, f):\n",
    "    agde_NP = max(int(NP * agde_p), 0)\n",
    "    r_list = random.randint(max(agde_NP * 2 - 1, 0), NP - 1)\n",
    "    if max(agde_NP, 0) >= max(agde_NP * 2 - 1, 1):\n",
    "        m = max(agde_NP, 0) + 1\n",
    "    else:\n",
    "        m = max(agde_NP * 2 - 1, 1)\n",
    "    x_p_worst = xx_list[index_of_X_worst(xx_list[max(agde_NP, 0): m], f)]\n",
    "    x_p_best = xx_list[index_of_X_best(xx_list[: max(agde_NP - 1, 1)], f)]\n",
    "    v_delta = np.add(xx_list[r_list], np.multiply(agde_F, np.subtract(x_p_best, x_p_worst)))\n",
    "    return v_delta"
   ],
   "metadata": {
    "collapsed": false,
    "pycharm": {
     "name": "#%%\n"
    }
   }
  },
  {
   "cell_type": "code",
   "execution_count": 96,
   "outputs": [],
   "source": [
    "def AGDE(f):\n",
    "    xx_list = copy.deepcopy(X_list)\n",
    "    x_best = xx_list[0]\n",
    "    # print(xx_list[0])\n",
    "\n",
    "    G = 0\n",
    "    p_j = 0.5\n",
    "    s_j_sum = 0\n",
    "    while G <= T_AGDE:  # iteration of DE\n",
    "        n_s_j = 0\n",
    "        f_j = 1\n",
    "        for i in range(NP):  # iteration of generation\n",
    "            agde_F = random.uniform(0.1, 1)\n",
    "            Cr = 0\n",
    "            if G == 1:\n",
    "                if random.uniform(0, 1) <= 0.5:\n",
    "                    Cr = random.uniform(0.05, 0.15)\n",
    "                else:\n",
    "                    Cr = random.uniform(0.9, 1)\n",
    "            else:\n",
    "                if random.uniform(0, 1) <= p_j:\n",
    "                    Cr = random.uniform(0.05, 0.15)\n",
    "                else:\n",
    "                    Cr = random.uniform(0.9, 1)\n",
    "            j_random = random.randint(1, NP)\n",
    "\n",
    "            u_best = np.empty([Dim])\n",
    "            for j in range(Dim):\n",
    "                vj = agde(xx_list, agde_F, p_j, f)\n",
    "                vj = compare_max(vj)\n",
    "                vj = compare_min(vj)\n",
    "                if random.uniform(0, 1) < Cr or j == j_random:\n",
    "                    u_j = crossover_SBX(xx_list[i], vj, f)\n",
    "                else:\n",
    "                    u_j = xx_list[i]\n",
    "\n",
    "                if j == 0:\n",
    "                    u_best = u_j\n",
    "                else:\n",
    "                    u_best = select_better_fit(u_best, u_j, f)\n",
    "\n",
    "                if f(u_best) <= f(xx_list[i]) and feas(u_best) == 1:\n",
    "                    xx_list[i] = u_best\n",
    "\n",
    "                if f(xx_list[i]) < f(x_best) and feas(xx_list[i]) == 1:\n",
    "                    x_best = xx_list[i]\n",
    "\n",
    "        G += 1\n",
    "\n",
    "        s_j = n_s_j / (n_s_j + f_j) + 0.01\n",
    "        s_j_sum += s_j\n",
    "        p_s_j = s_j / s_j_sum\n",
    "        if (((G - 1) * p_j + p_s_j) / G) < 0.5:\n",
    "            p_j = ((G - 1) * p_j + p_s_j) / G\n",
    "\n",
    "    return x_best"
   ],
   "metadata": {
    "collapsed": false,
    "pycharm": {
     "name": "#%%\n"
    }
   }
  },
  {
   "cell_type": "code",
   "execution_count": 97,
   "outputs": [],
   "source": [
    "\"\"\":parameter: for GSK\"\"\"\n",
    "T_GSK = 100\n",
    "GSK_p = 0.1\n",
    "k_f = 0.01   # 0.5\n",
    "k_r = 0.1   # 0.9\n",
    "K = 10"
   ],
   "metadata": {
    "collapsed": false,
    "pycharm": {
     "name": "#%%\n"
    }
   }
  },
  {
   "cell_type": "code",
   "execution_count": 98,
   "outputs": [],
   "source": [
    "def junior(xx_list, r, i, f):\n",
    "    if random.uniform(0, 1) <= k_r:\n",
    "        if f(xx_list[i]) > f(xx_list[r]):\n",
    "            v_delta = np.add(xx_list[i],\n",
    "                             k_f * np.add(np.subtract(xx_list[max(0, i - 1)], xx_list[min(NP - 1, i + 1)]),\n",
    "                                          np.subtract(xx_list[r], xx_list[i])))\n",
    "        else:\n",
    "            v_delta = np.add(xx_list[i],\n",
    "                             k_f * np.add(np.subtract(xx_list[max(0, i - 1)], xx_list[min(NP - 1, i + 1)]),\n",
    "                                          np.subtract(xx_list[i], xx_list[r])))\n",
    "    else:\n",
    "        v_delta = xx_list[i]\n",
    "    return v_delta\n",
    "\n",
    "\n",
    "def senior(xx_list, i, D_junior, f):\n",
    "    if random.uniform(0, 1) <= k_r:\n",
    "        D_senior = NP - D_junior\n",
    "        NP_1 = int(D_senior * GSK_p)\n",
    "        r_list = random.randint(D_junior - 1 + NP_1 * 2, NP - 1)\n",
    "        if max(D_junior - 1 + NP_1, 0) >= max(D_junior - 1 + NP_1 * 2 - 1, 1):\n",
    "            m = max(D_junior - 1 + NP_1, 0) + 1\n",
    "        else:\n",
    "            m = max(D_junior - 1 + NP_1 * 2 - 1, 1)\n",
    "        if max(D_junior - 1, 0) >= max(D_junior - 1 + NP_1 - 1, 1):\n",
    "            n = max(D_junior - 1, 0) + 1\n",
    "        else:\n",
    "            n = max(D_junior - 1 + NP_1 - 1, 1)\n",
    "        x_p_worst = xx_list[index_of_X_worst(xx_list[max(D_junior - 1 + NP_1, 0): m], f)]\n",
    "        x_p_best = xx_list[index_of_X_best(xx_list[max(D_junior - 1, 0): n], f)]\n",
    "        if f(xx_list[i]) > f(xx_list[r_list]):\n",
    "            v_delta = np.add(xx_list[i],\n",
    "                             k_f * np.add(np.subtract(x_p_best, x_p_worst),\n",
    "                                          np.subtract(xx_list[r_list], xx_list[i])))\n",
    "        else:\n",
    "            v_delta = np.add(xx_list[i],\n",
    "                             k_f * np.add(np.subtract(x_p_best, x_p_worst),\n",
    "                                          np.subtract(xx_list[i], xx_list[r_list])))\n",
    "    else:\n",
    "        v_delta = xx_list[i]\n",
    "    return v_delta\n"
   ],
   "metadata": {
    "collapsed": false,
    "pycharm": {
     "name": "#%%\n"
    }
   }
  },
  {
   "cell_type": "code",
   "execution_count": 99,
   "outputs": [],
   "source": [
    "def GSK(f):\n",
    "    \"\"\"\n",
    "    DE algorithm\n",
    "    :param x_list:\n",
    "    :return: best x by DE\n",
    "    \"\"\"\n",
    "    xxx_list = copy.deepcopy(X_list)\n",
    "\n",
    "    x_best = xxx_list[0]\n",
    "    # print(xxx_list[0])\n",
    "    G = 0\n",
    "\n",
    "    while G <= T_GSK:  # iteration of DE\n",
    "        D_junior = int(NP * pow((1 - G / T_GSK), K))\n",
    "\n",
    "        for i in range(NP):  # iteration of generation\n",
    "\n",
    "            u_best = np.empty([Dim])\n",
    "            for j in range(NP):\n",
    "                vj = np.empty([Dim])\n",
    "                r = random.randint(0, NP - 1)\n",
    "                if j <= D_junior:\n",
    "                    vj = junior(xxx_list, r, j, f)\n",
    "                else:\n",
    "                    vj = senior(xxx_list, j, D_junior, f)\n",
    "\n",
    "                vj = compare_max(vj)\n",
    "                vj = compare_min(vj)\n",
    "\n",
    "                if j == 0:\n",
    "                    u_best = vj\n",
    "                else:\n",
    "                    u_best = select_better_fit(u_best, vj, f)\n",
    "\n",
    "                if f(u_best) <= f(xxx_list[i]) and feas(u_best) == 1:\n",
    "                    xxx_list[i] = u_best\n",
    "\n",
    "                if f(xxx_list[i]) < f(x_best) and feas(xxx_list[i]) == 1:\n",
    "                    x_best = xxx_list[i]\n",
    "\n",
    "        G += 1\n",
    "\n",
    "    return x_best\n"
   ],
   "metadata": {
    "collapsed": false,
    "pycharm": {
     "name": "#%%\n"
    }
   }
  },
  {
   "cell_type": "code",
   "execution_count": null,
   "outputs": [
    {
     "name": "stdout",
     "output_type": "stream",
     "text": [
      "f1 1033799770584.857 1822645109002.9226 2892703995152.149 \n",
      "\n",
      "f2 3.7660653271976755e+73 9.786854118080145e+78 2.526768024474163e+91 \n",
      "\n",
      "f3 262721.49190126767 429534.78770971653 13253807188.164618 \n",
      "\n"
     ]
    }
   ],
   "source": [
    "import os\n",
    "test_list = np.empty([len(functions.all_functions), 3])\n",
    "test_path = r'D:\\profile\\codes\\python_projects\\ocp\\test\\output\\D50'\n",
    "for i in range(51):\n",
    "    j = 0\n",
    "    for f in functions.all_functions:\n",
    "        x_best_DE_fit = 0\n",
    "        x_best_AGDE_fit = 0\n",
    "        x_best_GSK_fit = 0\n",
    "        x_best_DE_fit = f(DE(f))\n",
    "        x_best_AGDE_fit = f(AGDE(f))\n",
    "        x_best_GSK_fit = f(GSK(f))\n",
    "        print(f.__name__, x_best_DE_fit, x_best_AGDE_fit, x_best_GSK_fit, \"\\n\")\n",
    "        test_list[j][0] = x_best_DE_fit\n",
    "        test_list[j][1] = x_best_AGDE_fit\n",
    "        test_list[j][2] = x_best_GSK_fit\n",
    "        j += 1\n",
    "\n",
    "    np.savetxt(os.path.join(test_path, str(i) + \".txt\"), test_list)\n",
    "\n",
    "\n"
   ],
   "metadata": {
    "collapsed": false,
    "pycharm": {
     "name": "#%%\n",
     "is_executing": true
    }
   }
  },
  {
   "cell_type": "code",
   "execution_count": null,
   "outputs": [],
   "source": [
    "import cec2017.utils as utils\n",
    "for f in functions.all_functions:\n",
    "    utils.surface_plot(f, points=120, dimension=Dim)"
   ],
   "metadata": {
    "collapsed": false,
    "pycharm": {
     "name": "#%%\n",
     "is_executing": true
    }
   }
  }
 ],
 "metadata": {
  "kernelspec": {
   "display_name": "Python 3",
   "language": "python",
   "name": "python3"
  },
  "language_info": {
   "codemirror_mode": {
    "name": "ipython",
    "version": 2
   },
   "file_extension": ".py",
   "mimetype": "text/x-python",
   "name": "python",
   "nbconvert_exporter": "python",
   "pygments_lexer": "ipython2",
   "version": "2.7.6"
  }
 },
 "nbformat": 4,
 "nbformat_minor": 0
}