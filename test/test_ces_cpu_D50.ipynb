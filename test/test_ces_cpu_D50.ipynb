{
 "cells": [
  {
   "cell_type": "code",
   "execution_count": 101,
   "metadata": {
    "collapsed": true,
    "pycharm": {
     "name": "#%%\n"
    }
   },
   "outputs": [],
   "source": [
    "import random\n",
    "import numpy as np\n",
    "import cec2017.functions as functions\n",
    "import copy"
   ]
  },
  {
   "cell_type": "code",
   "execution_count": 102,
   "outputs": [],
   "source": [
    "Dim = 50\n",
    "NP = 10\n",
    "bound = 100"
   ],
   "metadata": {
    "collapsed": false,
    "pycharm": {
     "name": "#%%\n"
    }
   }
  },
  {
   "cell_type": "code",
   "execution_count": 103,
   "outputs": [
    {
     "data": {
      "text/plain": "array([[-5.56786386e+01,  3.25568896e+01,  6.81740003e+01,\n        -4.09473711e+01,  5.37531080e+01,  3.42448320e+01,\n         3.82539399e+01, -5.37722659e+01,  6.94841093e+01,\n         1.29998909e+01, -8.84509123e+01, -7.44961244e+01,\n         3.59442992e+01, -8.68303519e+01,  4.69850222e+01,\n        -4.91986163e+01, -2.28377350e+01,  7.91061107e+01,\n         3.18889298e+01,  7.42161135e+01,  6.56870159e+01,\n         4.64613940e+01, -2.93586826e+01, -5.07948769e+01,\n         1.81629319e+01,  9.46666846e+01,  4.64747143e+01,\n         5.24495359e+01, -5.05655833e+01,  7.86990925e+01,\n        -1.88600445e+01,  9.49122409e+01,  2.03787872e+01,\n        -3.71247344e+01,  5.73513704e+01,  5.75307026e+01,\n        -5.18950570e+01, -7.16766475e+01, -4.71382558e+01,\n         8.20186927e+01, -6.94858501e+01, -2.12229744e+00,\n        -1.12091797e+01,  5.71222890e+01, -1.73179639e+01,\n        -7.65394787e+01,  4.63283831e+01, -1.84948838e+01,\n        -7.26327824e+01,  8.00803281e+01],\n       [-7.54765171e+00,  4.77664780e+01,  2.41531539e+00,\n        -5.14043077e+01, -7.10156579e+01, -1.36751878e+01,\n         5.29809562e+01, -4.64916968e+01, -8.28379830e+01,\n         7.10843592e+01, -2.42584889e+01,  8.45003267e+01,\n         1.63252253e+01,  6.22655463e+01, -2.11039079e+01,\n        -8.47046611e+01,  4.70802786e+01,  4.85729690e+01,\n         2.77867503e+01,  4.04523987e+01,  3.31151753e+00,\n         5.31225536e+01,  7.72057994e+01,  4.95719134e+01,\n         6.07906468e+01, -1.35059561e+01,  1.88503213e+01,\n        -8.18577155e+01,  5.89400948e+01,  7.58456105e+01,\n         7.62772886e+01,  7.78518922e+01, -6.24987510e+01,\n        -6.43183876e+01,  5.81701100e+01, -1.53191727e+01,\n        -3.07734513e+01, -8.34336460e+01,  8.22479659e+01,\n        -5.92808982e+01, -2.22340061e+01, -6.70775920e+01,\n         4.33377141e+01, -6.11373299e+00, -5.08643722e+01,\n         7.46246270e+01, -8.89110554e+01, -9.13681690e+01,\n         7.03800705e+01, -2.35207715e+01],\n       [ 6.24450009e+01, -3.28648170e+01, -3.03152242e+00,\n         6.01405123e+01, -4.99112230e+01, -2.71314934e+01,\n         9.18651722e+01,  9.37156830e+01, -5.60289653e+00,\n        -2.22107737e+01,  6.00172938e+01, -4.36606958e+01,\n        -2.30300514e+00,  1.47154286e+01, -7.03529263e+01,\n        -2.37319629e+01, -3.06030071e+01,  8.89518753e+01,\n         1.43662761e+01, -3.85262883e+01, -8.18989656e+01,\n        -8.68131215e+01,  1.31547505e+01, -8.25720766e+01,\n         6.79580529e+01,  7.94423594e+01, -5.50179650e+01,\n        -4.48651370e+01,  5.17878070e+01, -2.35279788e+01,\n         2.86883290e+01,  6.20883058e+01,  3.91805095e+00,\n        -9.38836106e+01, -3.20841298e+01,  1.25599804e+01,\n         8.66293772e+01, -7.72270565e+01,  1.70058318e+00,\n        -1.26618804e+00,  1.13563457e+01,  8.68400001e+01,\n        -9.25088863e+01, -7.72026883e+01, -8.63453718e+01,\n         8.67928738e+00, -1.86173910e+01, -8.17419234e+01,\n         4.80833751e+01, -5.97291468e+01],\n       [ 1.70090972e+01,  2.01065422e+01, -5.21308054e+01,\n        -3.51844870e+01, -5.80292168e+01, -2.86452655e+01,\n        -6.22879811e+01,  5.86537625e+01, -5.89050736e+01,\n         2.16877490e+01, -4.83477726e+01, -4.84322107e+01,\n         7.43873422e+01, -2.07076634e+01,  7.25819073e+01,\n         7.12827114e+01, -2.33393965e+01, -3.09431251e+00,\n         9.41176322e+01, -8.85957313e+01, -4.61724183e+01,\n         6.98581058e+01, -4.67600812e+01, -4.08278906e+00,\n        -6.97900736e+00,  7.62689454e+01, -7.53933943e+01,\n        -6.10432146e+01, -4.01387909e+01,  9.29506247e+01,\n         5.81572193e+01, -4.39426651e+01, -7.78408780e+01,\n        -1.36328744e+01,  9.22425764e+01, -8.68050306e+01,\n        -3.30624112e+01,  8.78855572e+01, -8.78825478e+01,\n         7.96037679e+01,  7.13851508e+01,  3.00071174e+01,\n        -5.05523130e+00, -4.01030384e+01,  3.74618986e+01,\n         2.38958566e-01,  7.54369411e+01, -4.16595219e+01,\n         6.12563226e+00, -8.64040589e+01],\n       [-6.14453465e+01, -5.80008910e+01,  7.99178334e+01,\n        -1.41837580e+01,  5.88234607e+01,  3.49563535e+01,\n        -7.74805955e+01, -2.20033038e+01,  6.32707331e+01,\n         4.40460331e+01,  5.08882998e+01,  4.27688445e+01,\n         5.99637718e+01,  5.39792827e+01, -3.31839676e+01,\n        -7.46478554e+01,  1.32407758e+01, -1.68419455e+01,\n        -3.06727143e+01, -6.54481170e+01, -6.96133753e+01,\n         8.12082269e+00, -7.97003826e+01,  2.63142775e+01,\n         7.14477528e+01,  4.46487347e+01, -1.65178247e+01,\n         6.85946694e+01, -6.54527877e+01,  3.62452943e+01,\n        -3.63371182e+01,  8.09572632e+01,  7.27275459e+01,\n        -1.29226377e+01, -3.22460418e+01, -4.16181033e+01,\n         8.46984388e+01,  7.40101781e+01, -4.59501047e+01,\n         5.32028129e+00, -4.63682217e+01,  7.62917377e+01,\n        -2.88854838e+01, -8.31926724e+01, -6.43763638e+01,\n        -2.04084082e+01,  9.12343751e+01,  8.07459485e+00,\n         4.75595127e+01,  3.40000946e+01],\n       [-2.08402061e+01,  8.50916443e+01, -9.68881910e+01,\n         7.65164995e+01,  9.19411980e+01,  8.93479033e+01,\n         1.01026667e+01, -2.16067275e+01, -1.76387324e+01,\n         1.84487693e+01,  7.17436975e+01, -8.01630103e+01,\n         2.02659986e+01, -9.26145114e+01, -6.65854924e+01,\n         1.72423909e+01, -3.42138953e+01, -1.29006274e+01,\n        -4.66680433e+01, -5.73000452e+01,  6.50519818e+01,\n        -7.86834592e+01, -7.54095574e+01,  7.39598887e+01,\n        -3.20708784e+01,  5.21026269e+00, -1.01393100e+01,\n        -1.98269996e+01, -5.27477548e+01,  9.76091893e+00,\n        -2.42386347e+01, -7.35139265e+01, -6.43421090e+01,\n         3.01918545e+01, -7.46928015e+01,  8.16504445e+01,\n         1.76348151e+01,  2.30605818e+01,  3.00656306e+01,\n         3.94767420e+01,  6.68454672e+01, -7.15329901e+01,\n        -6.36056505e+01,  3.91327124e+01,  6.53673205e+01,\n         8.38199648e+00,  5.64106854e+01,  7.50910080e+00,\n         8.69599949e+01, -8.89421646e+01],\n       [ 7.00841477e+01,  3.18870597e+01,  7.88283278e+01,\n         5.92636369e+01,  7.01740046e+01,  7.47866838e+01,\n         6.48547100e+01, -5.71812563e+01,  2.72798184e+01,\n        -3.05350491e+01, -9.39877537e+01, -4.72674297e+01,\n        -6.25633339e+01, -8.25363867e+01,  1.50338468e+01,\n         7.36963593e-02,  8.15152384e+01,  3.23888873e+01,\n         9.17546222e+01,  8.72023104e+01,  6.62114380e+01,\n         7.63103049e+01,  6.45279864e+01, -8.60613031e+01,\n         4.93906251e+01,  4.90470013e+01, -1.46626999e+01,\n        -4.94896526e+01, -1.62507594e+01,  7.56698080e+01,\n         7.46127170e+01, -8.67718690e+01,  7.83466785e+01,\n         7.01779100e+01, -7.65813782e+01, -3.29454191e+01,\n         1.88728429e+01,  3.92919138e+00,  8.72054947e+01,\n        -2.80503046e+01, -4.01829445e+01,  2.07996346e+01,\n        -8.60534268e+00,  3.76776760e+01, -5.47316225e+01,\n        -7.00454513e+00, -2.69318828e+01, -9.33369266e+01,\n         9.07523015e+01, -8.78157904e+01],\n       [-1.47009113e+00,  1.25941671e+00,  4.51579245e+01,\n         8.34747852e+01, -2.74325981e+01,  6.75340611e+01,\n         7.92350686e+01, -5.70430760e+01,  5.69244922e+01,\n        -4.55068146e+01,  1.97053295e+01, -6.01034960e+00,\n         1.35553853e+01,  5.11056248e+01, -8.34359623e+01,\n         6.31246342e+01, -7.92110109e+01, -9.38862266e+01,\n         1.00882679e+01, -3.23499417e+01,  7.61974892e+01,\n        -2.18391433e+00, -9.41924193e+01, -8.67298782e+01,\n        -3.48569151e+01,  8.88708806e+01, -2.92640521e+01,\n        -6.27290163e+01, -3.50954505e+01,  7.95920589e+01,\n         3.64148720e+01,  1.05959531e+01, -2.80514775e+01,\n         1.13377879e+01, -3.58218173e+01, -8.23877426e+01,\n         1.36768496e+01, -5.84159481e+01, -5.94169079e+01,\n        -1.56723709e+01,  9.19749880e+01,  2.73204603e+01,\n         5.61039595e+01,  5.58353464e+01,  4.85479888e+01,\n         7.42398704e+01,  3.54195213e+01, -5.15340588e+01,\n         1.77253724e+01,  6.84353365e+01],\n       [-8.27585914e+01,  1.48219005e+01,  2.84958621e+01,\n        -6.98209181e+01, -1.15672996e+01, -6.04942492e+01,\n        -2.39441910e+01, -7.74739528e+00,  6.49463736e+01,\n         3.24097371e+01,  8.79177847e+01, -7.37570558e+01,\n        -4.99641527e+01, -5.14765323e+01, -2.49272660e+01,\n         5.68974336e+01, -7.15626359e+01, -2.42045646e+01,\n         5.56980463e+01,  7.79971644e+01,  4.61089800e+01,\n        -1.84542323e+01, -5.40273224e+01,  3.70905509e+01,\n        -5.80754399e+01, -1.21283593e+01, -2.08368563e+01,\n         4.66896615e+01, -3.75349139e+01,  4.21385683e+01,\n         9.25328222e+01, -7.56519392e+01,  4.11635244e+01,\n         7.24487090e+01, -1.77476532e+01,  3.57474653e+01,\n         6.01391987e+01, -1.26992141e+01, -7.70890348e+01,\n         8.46584923e+01, -6.00767412e+01, -9.28765586e+01,\n         2.59238473e+01, -1.81454352e+01,  5.53335582e+01,\n        -5.86352772e+01,  2.83758484e+01, -5.25473802e+01,\n        -4.08724923e+01,  9.30208157e+01],\n       [-3.48307039e+01,  5.32758721e+01, -5.95485562e+01,\n        -3.79365598e+01, -9.14141334e+01,  8.28994987e+01,\n        -1.84310541e+01,  3.17463695e+01, -5.14920341e+01,\n        -8.01935175e+01, -9.20803201e+01,  5.19145905e+01,\n         8.66772497e+01, -1.66299821e+01,  3.08648150e+01,\n         6.88826068e+01,  3.55586276e+01,  6.60852419e+01,\n         3.30033753e+01, -2.22554971e+01, -9.55119416e+01,\n        -2.66068748e+01,  2.92494068e+01,  3.79265831e+00,\n        -4.80937099e+01,  1.89695038e+01,  3.91985456e+01,\n         2.86970501e+01, -6.96136285e+01,  4.73894000e+00,\n        -7.09795216e+00, -3.31255438e+01,  2.32946023e+01,\n        -8.79974266e+00,  5.84768045e+00, -6.71957645e+01,\n         6.92999311e+01,  2.17595132e+01, -8.28325069e+01,\n         6.53429431e+01,  1.49059017e+01, -9.06790569e+00,\n        -8.10403345e+01, -5.71820043e+01, -4.74261699e+01,\n        -3.62194920e+01,  2.78306787e+01, -3.27126254e+01,\n         3.94611418e+01, -6.12336048e+01]])"
     },
     "execution_count": 103,
     "metadata": {},
     "output_type": "execute_result"
    }
   ],
   "source": [
    "X = np.random.uniform(low=-bound, high=bound, size=Dim)\n",
    "X_min = X.min()\n",
    "X_max = X.max()\n",
    "X_list = np.empty([NP, Dim])\n",
    "for i in range(NP):\n",
    "    for j in range(Dim):\n",
    "        X_list[i][j] = X_min + random.uniform(0, 1) * (X_max - X_min)\n",
    "\n",
    "X_list"
   ],
   "metadata": {
    "collapsed": false,
    "pycharm": {
     "name": "#%%\n"
    }
   }
  },
  {
   "cell_type": "code",
   "execution_count": 104,
   "outputs": [],
   "source": [
    "\"\"\":parameter for DE\"\"\"\n",
    "T_DE = 100\n",
    "no = 5\n",
    "CR = 0.9  # rate of crossover\n",
    "\n",
    "\"\"\":parameter for MMS\"\"\"\n",
    "mms_e = 0.000001\n",
    "mms_F = 0.5"
   ],
   "metadata": {
    "collapsed": false,
    "pycharm": {
     "name": "#%%\n"
    }
   }
  },
  {
   "cell_type": "code",
   "execution_count": 105,
   "outputs": [],
   "source": [
    "\"\"\":parameter k and F: for current/rand/1\"\"\"\n",
    "k = 0.3\n",
    "F = 0.5"
   ],
   "metadata": {
    "collapsed": false,
    "pycharm": {
     "name": "#%%\n"
    }
   }
  },
  {
   "cell_type": "code",
   "execution_count": 106,
   "outputs": [],
   "source": [
    "\"\"\":parameter for crossoverSBX\"\"\"\n",
    "sbx_n = 10"
   ],
   "metadata": {
    "collapsed": false,
    "pycharm": {
     "name": "#%%\n"
    }
   }
  },
  {
   "cell_type": "code",
   "execution_count": 107,
   "outputs": [],
   "source": [
    "# f = functions.f1"
   ],
   "metadata": {
    "collapsed": false,
    "pycharm": {
     "name": "#%%\n"
    }
   }
  },
  {
   "cell_type": "code",
   "execution_count": 108,
   "outputs": [],
   "source": [
    "def feas(x):\n",
    "    if x.max() <= bound and x.min() >= -bound:\n",
    "        return 1\n",
    "    else:\n",
    "        return 0"
   ],
   "metadata": {
    "collapsed": false,
    "pycharm": {
     "name": "#%%\n"
    }
   }
  },
  {
   "cell_type": "code",
   "execution_count": 109,
   "outputs": [],
   "source": [
    "def select_better_fit(x1, x2, f):\n",
    "    if f(x1) <= f(x2):\n",
    "        return x1\n",
    "    else:\n",
    "        return x2"
   ],
   "metadata": {
    "collapsed": false,
    "pycharm": {
     "name": "#%%\n"
    }
   }
  },
  {
   "cell_type": "code",
   "execution_count": 110,
   "outputs": [],
   "source": [
    "def current_to_rand(x_list, r1, r2, r3, i):\n",
    "    return np.add(x_list[i], k * np.subtract(x_list[r1], x_list[i]), F * np.subtract(x_list[r2], x_list[r3]))"
   ],
   "metadata": {
    "collapsed": false,
    "pycharm": {
     "name": "#%%\n"
    }
   }
  },
  {
   "cell_type": "code",
   "execution_count": 111,
   "outputs": [],
   "source": [
    "def immsade(xx_list, r1, r2, r3):\n",
    "    immsade_omega = random.uniform(0.7, 1.0)\n",
    "    immsade_F = random.uniform(0.5, 0.8)\n",
    "    v_delta = np.add(np.multiply(immsade_omega, xx_list[r1]),\n",
    "                     immsade_F * np.subtract(xx_list[r2], xx_list[r3]))\n",
    "    v_delta = np.maximum(v_delta, -100)\n",
    "    v_delta = np.minimum(v_delta, 100)\n",
    "    return v_delta"
   ],
   "metadata": {
    "collapsed": false,
    "pycharm": {
     "name": "#%%\n"
    }
   }
  },
  {
   "cell_type": "code",
   "execution_count": 112,
   "outputs": [],
   "source": [
    "def crossover_SBX(x_i, v_j, f):\n",
    "    beta = 0\n",
    "    while isinstance(beta, complex):\n",
    "        sbx_rand = random.random()\n",
    "        if sbx_rand <= 0.5:\n",
    "            beta = (2 * sbx_rand) ** (1 / (1 + sbx_n))\n",
    "        else:\n",
    "            beta = (1 / (2 - sbx_n * 2)) ** (1 / (1 + sbx_n))\n",
    "\n",
    "    c1 = 0.5 * np.add((1 + beta) * x_i, (1 - beta) * v_j)  # crossover\n",
    "    c2 = 0.5 * np.add((1 - beta) * x_i, (1 + beta) * v_j)\n",
    "    return select_better_fit(c1, c2, f)"
   ],
   "metadata": {
    "collapsed": false,
    "pycharm": {
     "name": "#%%\n"
    }
   }
  },
  {
   "cell_type": "code",
   "execution_count": 113,
   "outputs": [],
   "source": [
    "def DE(f):\n",
    "    x_list = copy.deepcopy(X_list)\n",
    "    x_best = x_list[0]\n",
    "    # print(x_list[0])\n",
    "\n",
    "    t = 1\n",
    "    while t <= T_DE:\n",
    "        for i in range(NP):\n",
    "            u_best = np.empty([Dim])\n",
    "            for j in range(Dim):\n",
    "                r_list = random.sample(range(NP), 5)\n",
    "                for m in range(no):\n",
    "                    while r_list[m] == i:\n",
    "                        r_list[m] = random.randint(0, NP - 1)\n",
    "\n",
    "                v_j = np.empty([Dim])\n",
    "                v_j = immsade(x_list, r_list[1], r_list[2], r_list[3])\n",
    "\n",
    "                cr_rand = random.random()\n",
    "                if cr_rand <= CR:\n",
    "                    u_j = crossover_SBX(x_list[i], v_j, f)\n",
    "                else:\n",
    "                    u_j = x_list[i]\n",
    "\n",
    "                if j == 0:\n",
    "                    u_best = u_j\n",
    "                else:\n",
    "                    u_best = select_better_fit(u_best, u_j, f)\n",
    "\n",
    "                if f(u_best) <= f(x_list[i]) and feas(u_best) == 1:\n",
    "                    x_list[i] = u_best\n",
    "\n",
    "                if f(x_list[i]) < f(x_best) and feas(x_list[i]) == 1:\n",
    "                    x_best = x_list[i]\n",
    "\n",
    "        t += 1\n",
    "    return x_best\n"
   ],
   "metadata": {
    "collapsed": false,
    "pycharm": {
     "name": "#%%\n"
    }
   }
  },
  {
   "cell_type": "code",
   "execution_count": 114,
   "outputs": [],
   "source": [
    "\"\"\":parameter: for AGDE\"\"\"\n",
    "T_AGDE = 100"
   ],
   "metadata": {
    "collapsed": false,
    "pycharm": {
     "name": "#%%\n"
    }
   }
  },
  {
   "cell_type": "code",
   "execution_count": 115,
   "outputs": [],
   "source": [
    "def index_of_X_best(xx_list, f):\n",
    "    index = 0\n",
    "    min_fit = f(xx_list[0])\n",
    "    for i in range(len(xx_list)):\n",
    "        if f(xx_list[i]) < min_fit:\n",
    "            index = i\n",
    "            min_fit = f(xx_list[i])\n",
    "    return index\n",
    "\n",
    "\n",
    "def index_of_X_worst(xx_list, f):\n",
    "    index = 0\n",
    "    max_fit = f(xx_list[0])\n",
    "    for i in range(len(xx_list)):\n",
    "        if f(xx_list[i]) > max_fit:\n",
    "            index = i\n",
    "            max_fit = f(xx_list[i])\n",
    "    return index\n",
    "\n",
    "\n",
    "def compare_max(delta):\n",
    "    \"\"\"\n",
    "    lower bound\n",
    "    :param delta: delta\n",
    "    :return: turn into lower bound delta\n",
    "    \"\"\"\n",
    "\n",
    "    em = np.linspace(-100, -100, Dim)\n",
    "    delta = np.maximum(delta, em)\n",
    "    return delta\n",
    "\n",
    "\n",
    "def compare_min(delta):\n",
    "    on = np.linspace(100, 100, Dim)\n",
    "    delta = np.minimum(delta, on)\n",
    "    # for i in range(len(delta)):\n",
    "    #     delta[i] = min(delta[i], 1)\n",
    "    return delta\n",
    "\n",
    "def agde(xx_list, agde_F, agde_p, f):\n",
    "    agde_NP = max(int(NP * agde_p), 0)\n",
    "    r_list = random.randint(max(agde_NP * 2 - 1, 0), NP - 1)\n",
    "    if max(agde_NP, 0) >= max(agde_NP * 2 - 1, 1):\n",
    "        m = max(agde_NP, 0) + 1\n",
    "    else:\n",
    "        m = max(agde_NP * 2 - 1, 1)\n",
    "    x_p_worst = xx_list[index_of_X_worst(xx_list[max(agde_NP, 0): m], f)]\n",
    "    x_p_best = xx_list[index_of_X_best(xx_list[: max(agde_NP - 1, 1)], f)]\n",
    "    v_delta = np.add(xx_list[r_list], np.multiply(agde_F, np.subtract(x_p_best, x_p_worst)))\n",
    "    return v_delta"
   ],
   "metadata": {
    "collapsed": false,
    "pycharm": {
     "name": "#%%\n"
    }
   }
  },
  {
   "cell_type": "code",
   "execution_count": 116,
   "outputs": [],
   "source": [
    "def AGDE(f):\n",
    "    xx_list = copy.deepcopy(X_list)\n",
    "    x_best = xx_list[0]\n",
    "    # print(xx_list[0])\n",
    "\n",
    "    G = 0\n",
    "    p_j = 0.5\n",
    "    s_j_sum = 0\n",
    "    while G <= T_AGDE:  # iteration of DE\n",
    "        n_s_j = 0\n",
    "        f_j = 1\n",
    "        for i in range(NP):  # iteration of generation\n",
    "            agde_F = random.uniform(0.1, 1)\n",
    "            Cr = 0\n",
    "            if G == 1:\n",
    "                if random.uniform(0, 1) <= 0.5:\n",
    "                    Cr = random.uniform(0.05, 0.15)\n",
    "                else:\n",
    "                    Cr = random.uniform(0.9, 1)\n",
    "            else:\n",
    "                if random.uniform(0, 1) <= p_j:\n",
    "                    Cr = random.uniform(0.05, 0.15)\n",
    "                else:\n",
    "                    Cr = random.uniform(0.9, 1)\n",
    "            j_random = random.randint(1, NP)\n",
    "\n",
    "            u_best = np.empty([Dim])\n",
    "            for j in range(Dim):\n",
    "                vj = agde(xx_list, agde_F, p_j, f)\n",
    "                vj = compare_max(vj)\n",
    "                vj = compare_min(vj)\n",
    "                if random.uniform(0, 1) < Cr or j == j_random:\n",
    "                    u_j = crossover_SBX(xx_list[i], vj, f)\n",
    "                else:\n",
    "                    u_j = xx_list[i]\n",
    "\n",
    "                if j == 0:\n",
    "                    u_best = u_j\n",
    "                else:\n",
    "                    u_best = select_better_fit(u_best, u_j, f)\n",
    "\n",
    "                if f(u_best) <= f(xx_list[i]) and feas(u_best) == 1:\n",
    "                    xx_list[i] = u_best\n",
    "\n",
    "                if f(xx_list[i]) < f(x_best) and feas(xx_list[i]) == 1:\n",
    "                    x_best = xx_list[i]\n",
    "\n",
    "        G += 1\n",
    "\n",
    "        s_j = n_s_j / (n_s_j + f_j) + 0.01\n",
    "        s_j_sum += s_j\n",
    "        p_s_j = s_j / s_j_sum\n",
    "        if (((G - 1) * p_j + p_s_j) / G) < 0.5:\n",
    "            p_j = ((G - 1) * p_j + p_s_j) / G\n",
    "\n",
    "    return x_best"
   ],
   "metadata": {
    "collapsed": false,
    "pycharm": {
     "name": "#%%\n"
    }
   }
  },
  {
   "cell_type": "code",
   "execution_count": 117,
   "outputs": [],
   "source": [
    "\"\"\":parameter: for GSK\"\"\"\n",
    "T_GSK = 100\n",
    "GSK_p = 0.1\n",
    "k_f = 0.01   # 0.5\n",
    "k_r = 0.1   # 0.9\n",
    "K = 10"
   ],
   "metadata": {
    "collapsed": false,
    "pycharm": {
     "name": "#%%\n"
    }
   }
  },
  {
   "cell_type": "code",
   "execution_count": 118,
   "outputs": [],
   "source": [
    "def junior(xx_list, r, i, f):\n",
    "    if random.uniform(0, 1) <= k_r:\n",
    "        if f(xx_list[i]) > f(xx_list[r]):\n",
    "            v_delta = np.add(xx_list[i],\n",
    "                             k_f * np.add(np.subtract(xx_list[max(0, i - 1)], xx_list[min(NP - 1, i + 1)]),\n",
    "                                          np.subtract(xx_list[r], xx_list[i])))\n",
    "        else:\n",
    "            v_delta = np.add(xx_list[i],\n",
    "                             k_f * np.add(np.subtract(xx_list[max(0, i - 1)], xx_list[min(NP - 1, i + 1)]),\n",
    "                                          np.subtract(xx_list[i], xx_list[r])))\n",
    "    else:\n",
    "        v_delta = xx_list[i]\n",
    "    return v_delta\n",
    "\n",
    "\n",
    "def senior(xx_list, i, D_junior, f):\n",
    "    if random.uniform(0, 1) <= k_r:\n",
    "        D_senior = NP - D_junior\n",
    "        NP_1 = int(D_senior * GSK_p)\n",
    "        r_list = random.randint(D_junior - 1 + NP_1 * 2, NP - 1)\n",
    "        if max(D_junior - 1 + NP_1, 0) >= max(D_junior - 1 + NP_1 * 2 - 1, 1):\n",
    "            m = max(D_junior - 1 + NP_1, 0) + 1\n",
    "        else:\n",
    "            m = max(D_junior - 1 + NP_1 * 2 - 1, 1)\n",
    "        if max(D_junior - 1, 0) >= max(D_junior - 1 + NP_1 - 1, 1):\n",
    "            n = max(D_junior - 1, 0) + 1\n",
    "        else:\n",
    "            n = max(D_junior - 1 + NP_1 - 1, 1)\n",
    "        x_p_worst = xx_list[index_of_X_worst(xx_list[max(D_junior - 1 + NP_1, 0): m], f)]\n",
    "        x_p_best = xx_list[index_of_X_best(xx_list[max(D_junior - 1, 0): n], f)]\n",
    "        if f(xx_list[i]) > f(xx_list[r_list]):\n",
    "            v_delta = np.add(xx_list[i],\n",
    "                             k_f * np.add(np.subtract(x_p_best, x_p_worst),\n",
    "                                          np.subtract(xx_list[r_list], xx_list[i])))\n",
    "        else:\n",
    "            v_delta = np.add(xx_list[i],\n",
    "                             k_f * np.add(np.subtract(x_p_best, x_p_worst),\n",
    "                                          np.subtract(xx_list[i], xx_list[r_list])))\n",
    "    else:\n",
    "        v_delta = xx_list[i]\n",
    "    return v_delta\n"
   ],
   "metadata": {
    "collapsed": false,
    "pycharm": {
     "name": "#%%\n"
    }
   }
  },
  {
   "cell_type": "code",
   "execution_count": 119,
   "outputs": [],
   "source": [
    "def GSK(f):\n",
    "    \"\"\"\n",
    "    DE algorithm\n",
    "    :param x_list:\n",
    "    :return: best x by DE\n",
    "    \"\"\"\n",
    "    xxx_list = copy.deepcopy(X_list)\n",
    "\n",
    "    x_best = xxx_list[0]\n",
    "    # print(xxx_list[0])\n",
    "    G = 0\n",
    "\n",
    "    while G <= T_GSK:  # iteration of DE\n",
    "        D_junior = int(NP * pow((1 - G / T_GSK), K))\n",
    "\n",
    "        for i in range(NP):  # iteration of generation\n",
    "\n",
    "            u_best = np.empty([Dim])\n",
    "            for j in range(NP):\n",
    "                vj = np.empty([Dim])\n",
    "                r = random.randint(0, NP - 1)\n",
    "                if j <= D_junior:\n",
    "                    vj = junior(xxx_list, r, j, f)\n",
    "                else:\n",
    "                    vj = senior(xxx_list, j, D_junior, f)\n",
    "\n",
    "                vj = compare_max(vj)\n",
    "                vj = compare_min(vj)\n",
    "\n",
    "                if j == 0:\n",
    "                    u_best = vj\n",
    "                else:\n",
    "                    u_best = select_better_fit(u_best, vj, f)\n",
    "\n",
    "                if f(u_best) <= f(xxx_list[i]) and feas(u_best) == 1:\n",
    "                    xxx_list[i] = u_best\n",
    "\n",
    "                if f(xxx_list[i]) < f(x_best) and feas(xxx_list[i]) == 1:\n",
    "                    x_best = xxx_list[i]\n",
    "\n",
    "        G += 1\n",
    "\n",
    "    return x_best\n"
   ],
   "metadata": {
    "collapsed": false,
    "pycharm": {
     "name": "#%%\n"
    }
   }
  },
  {
   "cell_type": "code",
   "execution_count": null,
   "outputs": [],
   "source": [
    "import os\n",
    "test_list = np.empty([len(functions.all_functions), 3])\n",
    "test_path = r'D:\\profile\\codes\\python_projects\\ocp\\test\\output\\D50'\n",
    "for i in range(1, 52):\n",
    "    j = 0\n",
    "    for f in functions.all_functions:\n",
    "        x_best_DE_fit = 0\n",
    "        x_best_AGDE_fit = 0\n",
    "        x_best_GSK_fit = 0\n",
    "        x_best_DE_fit = f(DE(f))\n",
    "        x_best_AGDE_fit = f(AGDE(f))\n",
    "        x_best_GSK_fit = f(GSK(f))\n",
    "        print(f.__name__, x_best_DE_fit, x_best_AGDE_fit, x_best_GSK_fit, \"\\n\")\n",
    "        test_list[j][0] = x_best_DE_fit\n",
    "        test_list[j][1] = x_best_AGDE_fit\n",
    "        test_list[j][2] = x_best_GSK_fit\n",
    "        j += 1\n",
    "\n",
    "    np.savetxt(os.path.join(test_path, str(i) + \".txt\"), test_list)\n",
    "\n",
    "\n"
   ],
   "metadata": {
    "collapsed": false,
    "pycharm": {
     "name": "#%%\n",
     "is_executing": true
    }
   }
  },
  {
   "cell_type": "code",
   "execution_count": null,
   "outputs": [],
   "source": [
    "import cec2017.utils as utils\n",
    "for f in functions.all_functions:\n",
    "    utils.surface_plot(f, points=120, dimension=Dim)"
   ],
   "metadata": {
    "collapsed": false,
    "pycharm": {
     "name": "#%%\n",
     "is_executing": true
    }
   }
  }
 ],
 "metadata": {
  "kernelspec": {
   "display_name": "Python 3",
   "language": "python",
   "name": "python3"
  },
  "language_info": {
   "codemirror_mode": {
    "name": "ipython",
    "version": 2
   },
   "file_extension": ".py",
   "mimetype": "text/x-python",
   "name": "python",
   "nbconvert_exporter": "python",
   "pygments_lexer": "ipython2",
   "version": "2.7.6"
  }
 },
 "nbformat": 4,
 "nbformat_minor": 0
}