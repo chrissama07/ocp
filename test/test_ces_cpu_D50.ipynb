{
 "cells": [
  {
   "cell_type": "code",
   "execution_count": 41,
   "metadata": {
    "collapsed": true,
    "pycharm": {
     "name": "#%%\n"
    }
   },
   "outputs": [],
   "source": [
    "import random\n",
    "import numpy as np\n",
    "import cec2017.functions as functions\n",
    "import copy"
   ]
  },
  {
   "cell_type": "code",
   "execution_count": 42,
   "outputs": [],
   "source": [
    "Dim = 50\n",
    "NP = 10\n",
    "bound = 100"
   ],
   "metadata": {
    "collapsed": false,
    "pycharm": {
     "name": "#%%\n"
    }
   }
  },
  {
   "cell_type": "code",
   "execution_count": 43,
   "outputs": [
    {
     "data": {
      "text/plain": "array([[-9.35016037e+01, -7.81713754e+01,  4.74960610e+01,\n         5.16637286e+01,  4.64734478e+01,  6.98878313e+01,\n        -6.03772949e+00,  4.70212951e+01, -5.24085829e+01,\n         6.24905079e+01,  2.25790170e+01, -2.62562205e+01,\n         2.53030561e+01, -2.17072773e+01, -9.60448284e+00,\n         3.33549260e+00, -7.60109081e+01,  8.36572447e+01,\n        -2.65333510e+01, -1.12199793e+01, -2.49223770e+01,\n         2.21685754e+01,  4.28413485e-03, -1.45895351e+01,\n        -9.13580723e+01, -7.08653101e+00, -9.47894505e+01,\n         3.39424479e+01, -4.26643686e+01,  5.90828920e+01,\n        -4.26413110e+01, -7.14451560e+01, -4.85739360e+01,\n         6.77988086e+01,  1.34859799e+01, -3.01473344e+01,\n        -5.01675181e+01,  8.76666629e+01,  5.38010889e+01,\n         3.56539044e+01,  2.68663384e+01, -5.81135401e+01,\n        -1.66541317e+01,  6.28201777e+01,  2.58975377e+00,\n         3.49020618e+00,  9.21157284e+01, -2.31994085e+01,\n        -7.04642662e+01,  4.83762384e+01],\n       [ 3.06163213e+01,  2.06744996e+01, -6.54478306e+01,\n        -5.92587956e+01,  1.13227084e+01, -6.44950541e+01,\n        -9.64664104e+00, -5.88352407e+01, -4.06721421e+01,\n         1.23735004e+01, -7.77544132e+00, -5.27685013e+01,\n        -1.34835304e+01, -7.51742871e+01,  9.86550535e+01,\n         5.36316024e+01, -5.75190823e+01, -1.71355096e+01,\n         9.31800248e+01,  8.76053893e+01, -4.13333969e+01,\n         6.47420343e+01, -3.18014053e+01, -7.53614733e+01,\n        -7.44352986e+01, -1.53861505e+01,  6.70944075e+01,\n         8.56675658e+01,  3.52344957e+00,  3.32514121e+01,\n        -2.88493433e+01,  3.44514081e+01,  9.50697348e+01,\n        -6.88307789e+00, -9.07131270e+01,  9.02602086e+01,\n         5.72999703e+01,  5.89082883e+01,  2.05197345e+01,\n         8.34110958e+01, -8.84057541e+01,  2.55112889e+01,\n        -2.55307402e+01,  9.29566777e+01, -1.81105108e+01,\n         1.25082897e+01,  6.88599633e+01,  3.06431861e+01,\n        -3.61982297e+01,  7.05032417e+01],\n       [-8.95738662e+01, -1.44987850e+01,  2.03759814e+01,\n        -9.94917104e+01, -8.16717261e+01, -3.74864073e+01,\n        -4.95373421e+01,  2.66302142e+00, -5.59830463e+01,\n        -6.16962212e+00,  1.06414649e+01, -4.94208389e+01,\n        -2.86891724e+00, -1.28368124e+01,  3.12789840e+01,\n         7.47554487e+01,  5.10897558e+00,  8.44328600e+01,\n         1.00326602e+01, -7.36832838e+01, -6.01571802e+01,\n        -9.07497039e+01, -7.63082658e+01, -8.86301789e+01,\n        -5.64813827e+01, -1.60898429e+01,  5.95611582e+01,\n        -8.71194869e+00,  8.74042946e+01,  5.53663620e+01,\n        -5.20377260e+01,  9.39478378e+01, -6.24088558e+00,\n        -7.18918016e+01, -3.44027957e+01, -3.52731787e+01,\n        -3.72296204e+00,  1.50216950e+00,  7.76986614e+01,\n         7.28047031e+01,  3.34871685e+01,  2.74159918e+00,\n        -1.60262149e+01, -1.88538241e+01,  7.18318913e+01,\n         4.76444144e+01,  6.03000155e+01,  4.78210435e+00,\n         1.13996008e+00, -3.82617553e+00],\n       [-4.31187656e+01, -6.53813316e+01, -3.44178168e+01,\n         3.28542549e+01,  9.91345109e+01, -2.92537167e+00,\n         3.07807275e+01,  1.29880576e+01, -8.65851822e+01,\n         3.24557694e+01, -8.11220129e+01,  5.67063390e+01,\n         3.68141088e+00, -4.04416327e+01,  9.25307567e+01,\n        -4.46117320e+01, -6.87921328e+01,  7.59981008e+01,\n         2.71923748e+01,  5.21576003e+01, -8.16599843e+01,\n         9.60888925e+01,  2.94205054e+01,  4.13154077e+01,\n         5.40040166e+01, -8.40352591e+01,  1.02729436e+01,\n         2.54007029e+01,  9.38705208e+01,  3.00769655e+01,\n         5.30612182e+01,  8.95362221e+01, -7.35798377e+01,\n         7.33350528e+01, -9.30002224e+01,  1.04680750e+00,\n         4.37067160e+01, -4.19644003e+01,  2.95722132e+01,\n        -3.05026033e+01,  3.77543702e+01,  3.00558831e+01,\n        -8.58276672e+01,  4.69712980e+01,  1.01348498e+01,\n         5.28335763e+01,  6.39661789e+01, -4.38445573e+01,\n        -7.38762114e+01,  2.64943774e+01],\n       [-4.64684740e+01,  2.09741648e+01, -3.22967084e+00,\n         8.32798675e+01, -2.48737750e+01, -8.72606807e+01,\n         1.86095410e+01, -9.84156045e+01, -7.33078236e+01,\n         1.74642356e+01, -8.26275250e+01, -6.32542815e+01,\n         7.65942427e+01,  2.56368012e+01,  7.14881565e+01,\n         4.55656201e+01, -6.82080703e+01,  4.69163090e+01,\n         1.92212747e+01, -3.51040996e+01,  3.32490349e+01,\n         2.26427901e+01,  1.86881838e+01,  7.84396865e+01,\n         4.21434903e+01,  2.44023104e+01, -8.89044889e+01,\n         1.53374912e+01, -1.15506615e+01, -7.05589035e+01,\n        -2.98506351e+01,  7.30870765e+01,  8.67177191e+01,\n        -2.52378248e+01,  1.15545723e+01,  7.49588673e+01,\n        -9.37919732e+01, -5.67826683e+01, -9.78268690e+01,\n        -9.05134290e+00,  1.05498650e+01, -8.02583668e+00,\n         2.86301145e+01, -7.42133340e+01, -9.21015264e+01,\n        -5.28832390e+01,  5.36547642e+01,  9.30034061e+00,\n        -1.00700875e-02,  7.15034228e+01],\n       [-1.44674746e+01,  3.77529167e+01,  5.53220759e+01,\n        -8.83975381e+01,  7.65084108e+00,  1.53152809e+01,\n         7.84947344e+01,  8.28911673e+01, -9.46335339e+00,\n        -4.89861941e+01, -4.13754357e+01,  6.50163061e+01,\n         1.84215350e+01,  3.29427909e+01, -4.60732497e+01,\n         6.97262094e+01,  8.48194189e+01, -5.20432109e+01,\n        -9.61445751e+00,  9.40476524e+00,  9.04206933e+01,\n         9.45831724e+01,  1.95826547e+01,  2.89488041e+01,\n         3.25686269e+01,  2.10252969e+01, -9.56322104e+01,\n         9.32039774e+01, -2.42387213e+01, -3.59104286e+01,\n        -1.55759556e+01, -2.46978697e+01, -4.98356900e+01,\n        -9.33220746e+01,  8.39669004e+01, -3.48779923e+01,\n        -6.69675488e+01, -8.34236302e+01, -2.89219824e+01,\n        -5.79254978e+01, -8.93281676e+01,  8.15995030e+01,\n         8.86578698e+01, -1.06502579e+01, -4.81455473e+01,\n        -4.29168602e+01, -8.55463830e+01,  6.11299415e+01,\n        -7.04151852e+01, -2.09510968e+00],\n       [-8.65152599e+00, -6.08294207e+01, -4.85008916e+01,\n         8.41750127e+01,  7.70673849e+01, -7.58166532e+01,\n         4.55945259e+01, -7.21957148e+01, -8.04011605e+01,\n         2.42107165e+01,  2.93730214e+00,  6.96900070e+01,\n        -9.43439402e+01, -6.81070136e+01,  1.39925862e+01,\n         6.70123714e+01, -9.18999599e+01, -1.80270464e+01,\n        -8.35581884e+01, -6.44192114e+01, -7.27281091e+01,\n         3.42227770e+01,  3.60464566e+01,  4.28768262e+01,\n        -9.36831160e+01,  3.82816317e+01,  4.46173202e+01,\n         9.56534628e+01, -5.20671052e+01, -1.14153633e+01,\n         6.50723105e+01, -1.46344079e+01, -6.50241759e+00,\n        -6.90925597e+01, -5.86021846e+01, -8.37748139e+01,\n         2.67838730e+01,  5.39416774e+01, -8.39575007e+01,\n         1.65414850e+01, -6.81858533e+01,  7.23241125e+01,\n        -1.11840759e+01, -3.83981715e+01,  4.47264113e+01,\n        -8.50984277e+01,  2.73680606e+01,  8.92403345e+01,\n         1.60651797e-01,  1.85627434e+01],\n       [-5.46536495e+01,  6.23357607e+01, -7.63846767e+01,\n         8.37774199e+01, -6.36818186e+01, -7.79138546e+01,\n         8.02782959e+01,  9.21563975e+01,  9.55568960e+01,\n        -7.08961657e+00,  3.46851165e+01, -4.49540358e+01,\n         7.48311697e+01,  9.65024666e+01, -8.58768849e+00,\n         7.79094809e+01, -4.41563323e+01, -1.32609308e+01,\n         7.31172513e+01, -1.67044395e+01,  3.38442247e+01,\n         3.08245277e+01,  8.27509088e+01, -2.74235996e+01,\n         9.80941518e+01,  2.31422878e+01,  9.39803565e+01,\n         2.26845027e+01, -1.44688928e+01, -6.09608023e+01,\n         5.82648526e+01,  5.02401608e+01,  2.62731437e+01,\n         3.94319071e+01,  7.78089982e+01,  9.44156465e+01,\n        -6.46365898e+01,  6.07626278e+01, -2.12106645e+01,\n        -8.46866785e+01, -9.20361462e+01, -3.80423059e+01,\n         7.72855163e+01,  1.28005589e+01,  7.86966887e+01,\n        -3.70889867e+01,  4.51484995e+01, -6.81448480e+01,\n        -5.48712294e+01, -5.61383004e+01],\n       [-7.52110497e+01, -8.24014016e+01,  3.12331890e+01,\n        -9.97305083e+01,  8.96033697e+00, -5.39363046e+01,\n        -4.97597697e+01,  5.69977622e+01, -6.66765546e+01,\n         1.60898095e+01,  7.70574922e+01,  5.08455147e+01,\n         5.15407190e+01, -5.20364493e+01,  4.72108864e+01,\n         7.67404594e+01, -4.85096128e+01, -5.52333661e+00,\n         7.60412484e+01, -7.44643797e+01, -4.02395231e+01,\n        -5.49475675e+01, -8.82324456e+00, -3.76466329e+00,\n        -1.22453276e+01, -1.45197269e+01, -3.89319932e+01,\n         8.96222805e+01,  3.45069813e+01,  5.43713969e+01,\n         7.44827818e+01,  1.71083079e+01,  9.41840713e+01,\n        -2.50619507e+01, -7.37529280e+00,  7.37854171e+01,\n         3.18651978e+01,  3.53042946e+01, -1.87847061e+01,\n        -1.40245905e+01, -5.40022470e+00,  6.58535253e+01,\n         3.13952651e+00,  5.75628914e+00,  5.51781870e+01,\n         4.81694659e+01,  3.93860681e+01, -7.60920488e+01,\n        -5.53427975e+01,  7.22440255e+01],\n       [ 9.06878655e+01,  6.28843207e+01,  7.70730155e+01,\n         6.97002888e+01,  3.69347239e+01, -5.16821400e+01,\n         5.39566401e+01,  9.53239684e+01,  2.54009477e+01,\n        -2.07567440e+01,  4.32663142e+01,  4.73272704e+01,\n        -5.56832137e+01, -7.62346155e+01, -9.63177704e+01,\n         4.67884285e+01,  7.16266456e+01,  6.72187699e+00,\n        -4.18092275e+00,  2.56660032e+01, -4.02132829e+01,\n        -7.56029930e+01, -1.73206774e+01, -6.57273475e+01,\n        -8.43260333e+00,  8.83812102e+01,  2.31742953e+01,\n         3.90131840e+01, -9.18074079e+01,  8.80446155e+01,\n         8.46352538e+01,  1.70609576e+01, -9.85806973e+01,\n         8.25031768e+01, -6.69959628e+01,  1.71541749e+01,\n         5.36443920e+01, -1.09197498e+01,  2.85505539e+01,\n        -4.37412536e+01, -3.71927801e+01,  1.81952143e+01,\n        -8.00684972e+01, -8.53632159e+01,  7.74869323e+01,\n        -7.93123195e+01, -1.56964153e+01, -7.50286982e+01,\n        -4.91298152e+01, -9.64358707e+01]])"
     },
     "execution_count": 43,
     "metadata": {},
     "output_type": "execute_result"
    }
   ],
   "source": [
    "X = np.random.uniform(low=-bound, high=bound, size=Dim)\n",
    "X_min = X.min()\n",
    "X_max = X.max()\n",
    "X_list = np.empty([NP, Dim])\n",
    "for i in range(NP):\n",
    "    for j in range(Dim):\n",
    "        X_list[i][j] = X_min + random.uniform(0, 1) * (X_max - X_min)\n",
    "\n",
    "X_list"
   ],
   "metadata": {
    "collapsed": false,
    "pycharm": {
     "name": "#%%\n"
    }
   }
  },
  {
   "cell_type": "code",
   "execution_count": 44,
   "outputs": [],
   "source": [
    "\"\"\":parameter for DE\"\"\"\n",
    "T_DE = 100\n",
    "no = 5\n",
    "CR = 0.9  # rate of crossover\n",
    "\n",
    "\"\"\":parameter for MMS\"\"\"\n",
    "mms_e = 0.000001\n",
    "mms_F = 0.5"
   ],
   "metadata": {
    "collapsed": false,
    "pycharm": {
     "name": "#%%\n"
    }
   }
  },
  {
   "cell_type": "code",
   "execution_count": 45,
   "outputs": [],
   "source": [
    "\"\"\":parameter k and F: for current/rand/1\"\"\"\n",
    "k = 0.3\n",
    "F = 0.5"
   ],
   "metadata": {
    "collapsed": false,
    "pycharm": {
     "name": "#%%\n"
    }
   }
  },
  {
   "cell_type": "code",
   "execution_count": 46,
   "outputs": [],
   "source": [
    "\"\"\":parameter for crossoverSBX\"\"\"\n",
    "sbx_n = 10"
   ],
   "metadata": {
    "collapsed": false,
    "pycharm": {
     "name": "#%%\n"
    }
   }
  },
  {
   "cell_type": "code",
   "execution_count": 47,
   "outputs": [],
   "source": [
    "# f = functions.f1"
   ],
   "metadata": {
    "collapsed": false,
    "pycharm": {
     "name": "#%%\n"
    }
   }
  },
  {
   "cell_type": "code",
   "execution_count": 48,
   "outputs": [],
   "source": [
    "def feas(x):\n",
    "    if x.max() <= bound and x.min() >= -bound:\n",
    "        return 1\n",
    "    else:\n",
    "        return 0"
   ],
   "metadata": {
    "collapsed": false,
    "pycharm": {
     "name": "#%%\n"
    }
   }
  },
  {
   "cell_type": "code",
   "execution_count": 49,
   "outputs": [],
   "source": [
    "def select_better_fit(x1, x2, f):\n",
    "    if f(x1) <= f(x2):\n",
    "        return x1\n",
    "    else:\n",
    "        return x2"
   ],
   "metadata": {
    "collapsed": false,
    "pycharm": {
     "name": "#%%\n"
    }
   }
  },
  {
   "cell_type": "code",
   "execution_count": 50,
   "outputs": [],
   "source": [
    "def current_to_rand(x_list, r1, r2, r3, i):\n",
    "    return np.add(x_list[i], k * np.subtract(x_list[r1], x_list[i]), F * np.subtract(x_list[r2], x_list[r3]))"
   ],
   "metadata": {
    "collapsed": false,
    "pycharm": {
     "name": "#%%\n"
    }
   }
  },
  {
   "cell_type": "code",
   "execution_count": 51,
   "outputs": [],
   "source": [
    "def immsade(xx_list, r1, r2, r3):\n",
    "    immsade_omega = random.uniform(0.7, 1.0)\n",
    "    immsade_F = random.uniform(0.5, 0.8)\n",
    "    v_delta = np.add(np.multiply(immsade_omega, xx_list[r1]),\n",
    "                     immsade_F * np.subtract(xx_list[r2], xx_list[r3]))\n",
    "    v_delta = np.maximum(v_delta, -100)\n",
    "    v_delta = np.minimum(v_delta, 100)\n",
    "    return v_delta"
   ],
   "metadata": {
    "collapsed": false,
    "pycharm": {
     "name": "#%%\n"
    }
   }
  },
  {
   "cell_type": "code",
   "execution_count": 52,
   "outputs": [],
   "source": [
    "def crossover_SBX(x_i, v_j, f):\n",
    "    beta = 0\n",
    "    while isinstance(beta, complex):\n",
    "        sbx_rand = random.random()\n",
    "        if sbx_rand <= 0.5:\n",
    "            beta = (2 * sbx_rand) ** (1 / (1 + sbx_n))\n",
    "        else:\n",
    "            beta = (1 / (2 - sbx_n * 2)) ** (1 / (1 + sbx_n))\n",
    "\n",
    "    c1 = 0.5 * np.add((1 + beta) * x_i, (1 - beta) * v_j)  # crossover\n",
    "    c2 = 0.5 * np.add((1 - beta) * x_i, (1 + beta) * v_j)\n",
    "    return select_better_fit(c1, c2, f)"
   ],
   "metadata": {
    "collapsed": false,
    "pycharm": {
     "name": "#%%\n"
    }
   }
  },
  {
   "cell_type": "code",
   "execution_count": 53,
   "outputs": [],
   "source": [
    "def DE(f):\n",
    "    x_list = copy.deepcopy(X_list)\n",
    "    x_best = x_list[0]\n",
    "    # print(x_list[0])\n",
    "\n",
    "    t = 1\n",
    "    while t <= T_DE:\n",
    "        for i in range(NP):\n",
    "            u_best = np.empty([Dim])\n",
    "            for j in range(Dim):\n",
    "                r_list = random.sample(range(NP), 5)\n",
    "                for m in range(no):\n",
    "                    while r_list[m] == i:\n",
    "                        r_list[m] = random.randint(0, NP - 1)\n",
    "\n",
    "                v_j = np.empty([Dim])\n",
    "                v_j = immsade(x_list, r_list[1], r_list[2], r_list[3])\n",
    "\n",
    "                cr_rand = random.random()\n",
    "                if cr_rand <= CR:\n",
    "                    u_j = crossover_SBX(x_list[i], v_j, f)\n",
    "                else:\n",
    "                    u_j = x_list[i]\n",
    "\n",
    "                if j == 0:\n",
    "                    u_best = u_j\n",
    "                else:\n",
    "                    u_best = select_better_fit(u_best, u_j, f)\n",
    "\n",
    "                if f(u_best) <= f(x_list[i]) and feas(u_best) == 1:\n",
    "                    x_list[i] = u_best\n",
    "\n",
    "                if f(x_list[i]) < f(x_best) and feas(x_list[i]) == 1:\n",
    "                    x_best = x_list[i]\n",
    "\n",
    "        t += 1\n",
    "    return x_best\n"
   ],
   "metadata": {
    "collapsed": false,
    "pycharm": {
     "name": "#%%\n"
    }
   }
  },
  {
   "cell_type": "code",
   "execution_count": 54,
   "outputs": [],
   "source": [
    "\"\"\":parameter: for AGDE\"\"\"\n",
    "T_AGDE = 100"
   ],
   "metadata": {
    "collapsed": false,
    "pycharm": {
     "name": "#%%\n"
    }
   }
  },
  {
   "cell_type": "code",
   "execution_count": 55,
   "outputs": [],
   "source": [
    "def index_of_X_best(xx_list, f):\n",
    "    index = 0\n",
    "    min_fit = f(xx_list[0])\n",
    "    for i in range(len(xx_list)):\n",
    "        if f(xx_list[i]) < min_fit:\n",
    "            index = i\n",
    "            min_fit = f(xx_list[i])\n",
    "    return index\n",
    "\n",
    "\n",
    "def index_of_X_worst(xx_list, f):\n",
    "    index = 0\n",
    "    max_fit = f(xx_list[0])\n",
    "    for i in range(len(xx_list)):\n",
    "        if f(xx_list[i]) > max_fit:\n",
    "            index = i\n",
    "            max_fit = f(xx_list[i])\n",
    "    return index\n",
    "\n",
    "\n",
    "def compare_max(delta):\n",
    "    \"\"\"\n",
    "    lower bound\n",
    "    :param delta: delta\n",
    "    :return: turn into lower bound delta\n",
    "    \"\"\"\n",
    "\n",
    "    em = np.linspace(-100, -100, Dim)\n",
    "    delta = np.maximum(delta, em)\n",
    "    return delta\n",
    "\n",
    "\n",
    "def compare_min(delta):\n",
    "    on = np.linspace(100, 100, Dim)\n",
    "    delta = np.minimum(delta, on)\n",
    "    # for i in range(len(delta)):\n",
    "    #     delta[i] = min(delta[i], 1)\n",
    "    return delta\n",
    "\n",
    "def agde(xx_list, agde_F, agde_p, f):\n",
    "    agde_NP = max(int(NP * agde_p), 0)\n",
    "    r_list = random.randint(max(agde_NP * 2 - 1, 0), NP - 1)\n",
    "    if max(agde_NP, 0) >= max(agde_NP * 2 - 1, 1):\n",
    "        m = max(agde_NP, 0) + 1\n",
    "    else:\n",
    "        m = max(agde_NP * 2 - 1, 1)\n",
    "    x_p_worst = xx_list[index_of_X_worst(xx_list[max(agde_NP, 0): m], f)]\n",
    "    x_p_best = xx_list[index_of_X_best(xx_list[: max(agde_NP - 1, 1)], f)]\n",
    "    v_delta = np.add(xx_list[r_list], np.multiply(agde_F, np.subtract(x_p_best, x_p_worst)))\n",
    "    return v_delta"
   ],
   "metadata": {
    "collapsed": false,
    "pycharm": {
     "name": "#%%\n"
    }
   }
  },
  {
   "cell_type": "code",
   "execution_count": 56,
   "outputs": [],
   "source": [
    "def AGDE(f):\n",
    "    xx_list = copy.deepcopy(X_list)\n",
    "    x_best = xx_list[0]\n",
    "    # print(xx_list[0])\n",
    "\n",
    "    G = 0\n",
    "    p_j = 0.5\n",
    "    s_j_sum = 0\n",
    "    while G <= T_AGDE:  # iteration of DE\n",
    "        n_s_j = 0\n",
    "        f_j = 1\n",
    "        for i in range(NP):  # iteration of generation\n",
    "            agde_F = random.uniform(0.1, 1)\n",
    "            Cr = 0\n",
    "            if G == 1:\n",
    "                if random.uniform(0, 1) <= 0.5:\n",
    "                    Cr = random.uniform(0.05, 0.15)\n",
    "                else:\n",
    "                    Cr = random.uniform(0.9, 1)\n",
    "            else:\n",
    "                if random.uniform(0, 1) <= p_j:\n",
    "                    Cr = random.uniform(0.05, 0.15)\n",
    "                else:\n",
    "                    Cr = random.uniform(0.9, 1)\n",
    "            j_random = random.randint(1, NP)\n",
    "\n",
    "            u_best = np.empty([Dim])\n",
    "            for j in range(Dim):\n",
    "                vj = agde(xx_list, agde_F, p_j, f)\n",
    "                vj = compare_max(vj)\n",
    "                vj = compare_min(vj)\n",
    "                if random.uniform(0, 1) < Cr or j == j_random:\n",
    "                    u_j = crossover_SBX(xx_list[i], vj, f)\n",
    "                else:\n",
    "                    u_j = xx_list[i]\n",
    "\n",
    "                if j == 0:\n",
    "                    u_best = u_j\n",
    "                else:\n",
    "                    u_best = select_better_fit(u_best, u_j, f)\n",
    "\n",
    "                if f(u_best) <= f(xx_list[i]) and feas(u_best) == 1:\n",
    "                    xx_list[i] = u_best\n",
    "\n",
    "                if f(xx_list[i]) < f(x_best) and feas(xx_list[i]) == 1:\n",
    "                    x_best = xx_list[i]\n",
    "\n",
    "        G += 1\n",
    "\n",
    "        s_j = n_s_j / (n_s_j + f_j) + 0.01\n",
    "        s_j_sum += s_j\n",
    "        p_s_j = s_j / s_j_sum\n",
    "        if (((G - 1) * p_j + p_s_j) / G) < 0.5:\n",
    "            p_j = ((G - 1) * p_j + p_s_j) / G\n",
    "\n",
    "    return x_best"
   ],
   "metadata": {
    "collapsed": false,
    "pycharm": {
     "name": "#%%\n"
    }
   }
  },
  {
   "cell_type": "code",
   "execution_count": 57,
   "outputs": [],
   "source": [
    "\"\"\":parameter: for GSK\"\"\"\n",
    "T_GSK = 100\n",
    "GSK_p = 0.1\n",
    "k_f = 0.01   # 0.5\n",
    "k_r = 0.1   # 0.9\n",
    "K = 10"
   ],
   "metadata": {
    "collapsed": false,
    "pycharm": {
     "name": "#%%\n"
    }
   }
  },
  {
   "cell_type": "code",
   "execution_count": 58,
   "outputs": [],
   "source": [
    "def junior(xx_list, r, i, f):\n",
    "    if random.uniform(0, 1) <= k_r:\n",
    "        if f(xx_list[i]) > f(xx_list[r]):\n",
    "            v_delta = np.add(xx_list[i],\n",
    "                             k_f * np.add(np.subtract(xx_list[max(0, i - 1)], xx_list[min(NP - 1, i + 1)]),\n",
    "                                          np.subtract(xx_list[r], xx_list[i])))\n",
    "        else:\n",
    "            v_delta = np.add(xx_list[i],\n",
    "                             k_f * np.add(np.subtract(xx_list[max(0, i - 1)], xx_list[min(NP - 1, i + 1)]),\n",
    "                                          np.subtract(xx_list[i], xx_list[r])))\n",
    "    else:\n",
    "        v_delta = xx_list[i]\n",
    "    return v_delta\n",
    "\n",
    "\n",
    "def senior(xx_list, i, D_junior, f):\n",
    "    if random.uniform(0, 1) <= k_r:\n",
    "        D_senior = NP - D_junior\n",
    "        NP_1 = int(D_senior * GSK_p)\n",
    "        r_list = random.randint(D_junior - 1 + NP_1 * 2, NP - 1)\n",
    "        if max(D_junior - 1 + NP_1, 0) >= max(D_junior - 1 + NP_1 * 2 - 1, 1):\n",
    "            m = max(D_junior - 1 + NP_1, 0) + 1\n",
    "        else:\n",
    "            m = max(D_junior - 1 + NP_1 * 2 - 1, 1)\n",
    "        if max(D_junior - 1, 0) >= max(D_junior - 1 + NP_1 - 1, 1):\n",
    "            n = max(D_junior - 1, 0) + 1\n",
    "        else:\n",
    "            n = max(D_junior - 1 + NP_1 - 1, 1)\n",
    "        x_p_worst = xx_list[index_of_X_worst(xx_list[max(D_junior - 1 + NP_1, 0): m], f)]\n",
    "        x_p_best = xx_list[index_of_X_best(xx_list[max(D_junior - 1, 0): n], f)]\n",
    "        if f(xx_list[i]) > f(xx_list[r_list]):\n",
    "            v_delta = np.add(xx_list[i],\n",
    "                             k_f * np.add(np.subtract(x_p_best, x_p_worst),\n",
    "                                          np.subtract(xx_list[r_list], xx_list[i])))\n",
    "        else:\n",
    "            v_delta = np.add(xx_list[i],\n",
    "                             k_f * np.add(np.subtract(x_p_best, x_p_worst),\n",
    "                                          np.subtract(xx_list[i], xx_list[r_list])))\n",
    "    else:\n",
    "        v_delta = xx_list[i]\n",
    "    return v_delta\n"
   ],
   "metadata": {
    "collapsed": false,
    "pycharm": {
     "name": "#%%\n"
    }
   }
  },
  {
   "cell_type": "code",
   "execution_count": 59,
   "outputs": [],
   "source": [
    "def GSK(f):\n",
    "    \"\"\"\n",
    "    DE algorithm\n",
    "    :param x_list:\n",
    "    :return: best x by DE\n",
    "    \"\"\"\n",
    "    xxx_list = copy.deepcopy(X_list)\n",
    "\n",
    "    x_best = xxx_list[0]\n",
    "    # print(xxx_list[0])\n",
    "    G = 0\n",
    "\n",
    "    while G <= T_GSK:  # iteration of DE\n",
    "        D_junior = int(NP * pow((1 - G / T_GSK), K))\n",
    "\n",
    "        for i in range(NP):  # iteration of generation\n",
    "\n",
    "            u_best = np.empty([Dim])\n",
    "            for j in range(NP):\n",
    "                vj = np.empty([Dim])\n",
    "                r = random.randint(0, NP - 1)\n",
    "                if j <= D_junior:\n",
    "                    vj = junior(xxx_list, r, j, f)\n",
    "                else:\n",
    "                    vj = senior(xxx_list, j, D_junior, f)\n",
    "\n",
    "                vj = compare_max(vj)\n",
    "                vj = compare_min(vj)\n",
    "\n",
    "                if j == 0:\n",
    "                    u_best = vj\n",
    "                else:\n",
    "                    u_best = select_better_fit(u_best, vj, f)\n",
    "\n",
    "                if f(u_best) <= f(xxx_list[i]) and feas(u_best) == 1:\n",
    "                    xxx_list[i] = u_best\n",
    "\n",
    "                if f(xxx_list[i]) < f(x_best) and feas(xxx_list[i]) == 1:\n",
    "                    x_best = xxx_list[i]\n",
    "\n",
    "        G += 1\n",
    "\n",
    "    return x_best\n"
   ],
   "metadata": {
    "collapsed": false,
    "pycharm": {
     "name": "#%%\n"
    }
   }
  },
  {
   "cell_type": "code",
   "execution_count": null,
   "outputs": [
    {
     "name": "stdout",
     "output_type": "stream",
     "text": [
      "f1 1201907412448.2207 2239306868423.354 3095125938278.031 \n",
      "\n",
      "f2 7.518767208926275e+73 3.634330374726402e+82 8.795531579245464e+88 \n",
      "\n",
      "f3 237632.94087249215 299817.50280662376 1306869.385254114 \n",
      "\n",
      "f4 37627.54489346527 72120.63413723842 180618.93400088995 \n",
      "\n",
      "f5 1248.8632746472651 1530.8864176126579 1882.0990953890264 \n",
      "\n",
      "f6 724.8790489396098 777.4890548798361 826.3508597919135 \n",
      "\n",
      "f7 2047.1693856349343 4159.26577977913 6176.546787279056 \n",
      "\n"
     ]
    }
   ],
   "source": [
    "import os\n",
    "i = 0\n",
    "test_list = np.empty([len(functions.all_functions), 3])\n",
    "test_path = r'D:\\profile\\codes\\python_projects\\ocp\\test\\output\\D50'\n",
    "for i in range(51):\n",
    "    for f in functions.all_functions:\n",
    "        x_best_DE_fit = 0\n",
    "        x_best_AGDE_fit = 0\n",
    "        x_best_GSK_fit = 0\n",
    "        x_best_DE_fit = f(DE(f))\n",
    "        x_best_AGDE_fit = f(AGDE(f))\n",
    "        x_best_GSK_fit = f(GSK(f))\n",
    "        print(f.__name__, x_best_DE_fit, x_best_AGDE_fit, x_best_GSK_fit, \"\\n\")\n",
    "        test_list[i][0] = x_best_DE_fit\n",
    "        test_list[i][1] = x_best_AGDE_fit\n",
    "        test_list[i][2] = x_best_GSK_fit\n",
    "\n",
    "    i += 1\n",
    "    np.savetxt(os.path.join(test_path, str(i) + \"\\n\"), test_list)\n",
    "\n",
    "\n"
   ],
   "metadata": {
    "collapsed": false,
    "pycharm": {
     "name": "#%%\n",
     "is_executing": true
    }
   }
  },
  {
   "cell_type": "code",
   "execution_count": null,
   "outputs": [],
   "source": [
    "import cec2017.utils as utils\n",
    "for f in functions.all_functions:\n",
    "    utils.surface_plot(f, points=120, dimension=Dim)"
   ],
   "metadata": {
    "collapsed": false,
    "pycharm": {
     "name": "#%%\n",
     "is_executing": true
    }
   }
  }
 ],
 "metadata": {
  "kernelspec": {
   "display_name": "Python 3",
   "language": "python",
   "name": "python3"
  },
  "language_info": {
   "codemirror_mode": {
    "name": "ipython",
    "version": 2
   },
   "file_extension": ".py",
   "mimetype": "text/x-python",
   "name": "python",
   "nbconvert_exporter": "python",
   "pygments_lexer": "ipython2",
   "version": "2.7.6"
  }
 },
 "nbformat": 4,
 "nbformat_minor": 0
}