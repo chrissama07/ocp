{
 "cells": [
  {
   "cell_type": "code",
   "execution_count": 61,
   "metadata": {
    "collapsed": true,
    "pycharm": {
     "name": "#%%\n"
    }
   },
   "outputs": [],
   "source": [
    "import random\n",
    "import numpy as np\n",
    "import cec2017.functions as functions\n",
    "import copy"
   ]
  },
  {
   "cell_type": "code",
   "execution_count": 62,
   "outputs": [],
   "source": [
    "Dim = 50\n",
    "NP = 10\n",
    "bound = 100"
   ],
   "metadata": {
    "collapsed": false,
    "pycharm": {
     "name": "#%%\n"
    }
   }
  },
  {
   "cell_type": "code",
   "execution_count": 63,
   "outputs": [
    {
     "data": {
      "text/plain": "array([[-41.69659011, -95.24848006,  61.32311946,  76.42373736,\n         27.90811163, -52.22153454,   3.79673079,  50.62221589,\n        -30.93655126,  71.60562696, -95.06950706,  54.05362097,\n         72.26064005,  45.8675756 , -35.03721644,  74.34796664,\n        -10.78466428,  16.52985649, -29.06452248, -58.363396  ,\n        -80.14975685, -52.70424079,  40.12031186, -89.41088755,\n         50.78591529, -79.84050959,  95.86098357, -25.98747006,\n        -32.39391257, -84.59175947, -71.73662888, -34.6772563 ,\n        -18.06444255,  91.00187593,  87.59939772, -28.81199213,\n          5.17021905,   6.82845306,  -7.0254796 ,  97.86332412,\n        -93.95807631,   1.05013796,  86.91504261, -12.03352453,\n        -25.24126234,  21.55834756, -43.18298711,   7.25770416,\n        -45.09755547, -17.61225186],\n       [-20.16970019, -55.68691329,   4.15095672,  -2.66503749,\n        -66.48024823,  10.61684141,  59.74310717,  -9.8272069 ,\n         68.43894217,  49.80224602,  38.68398977,  13.01979018,\n        -83.7349419 ,  44.6400087 , -89.07949597,  85.13680942,\n        -67.68603759, -68.80657566, -13.41628008,  -3.90378854,\n        -39.42128205, -23.83761169, -78.60106041, -72.61070082,\n        -48.95882553,  61.2573449 , -64.61225625,  31.84358854,\n        -17.38418082,  92.91072548, -77.94963635,  94.74654702,\n         78.43651947, -81.9762724 ,  55.81264066, -29.35765289,\n         38.71191982,  51.48565014, -48.01901658,  50.7518229 ,\n         52.93138648, -94.42693764, -10.35772195,  56.12242284,\n         49.80488873,  47.94877663,  56.9980654 , -21.64021853,\n         48.44581933,  96.16888084],\n       [ 93.61694909,  58.19322041,  18.90299044, -12.06061924,\n         42.68947738,  36.01348096, -33.95283207, -62.86670402,\n        -34.62727692,  92.58641821, -71.46770167,  34.54554553,\n        -25.64051619, -91.35376708, -21.50500165, -11.64498675,\n        -93.1751447 , -84.00688259, -75.58438788,  39.08400347,\n         21.2829113 ,  67.7982873 ,  39.28331205, -64.45291507,\n         -4.28800964, -52.77741423,  38.71043333,  88.01944894,\n          1.23959029,  70.86819283, -88.45609054,  30.04562431,\n         26.18642074,   7.49806153, -52.71314853, -79.22676056,\n        -49.82987035,  -8.45837799, -49.04522422, -61.86667814,\n         31.87876469,  63.94616794,   4.11488211,  86.11568243,\n         54.08483485,  37.27115443, -60.84072441,  14.19707916,\n         85.899541  ,  77.00867029],\n       [ 42.17476411,  -5.3960801 ,  65.16924651, -72.14129256,\n        -36.45400972, -56.59116189,  -0.87905721,  39.2887273 ,\n          5.20994747, -83.72400256, -80.32496568,  92.84997736,\n         16.78787739,  53.0987868 ,  65.84337128, -62.60826153,\n         38.72052644, -63.67021623, -30.38924322,  76.21118609,\n         32.26966491,  54.1577725 , -54.50324362,  62.71795229,\n         47.56589465,  70.54522029, -19.49946549,  10.47765188,\n         95.41299297, -33.6878029 , -37.45249082, -37.98954475,\n         76.82826419,  20.50524845, -15.57832364,  17.52155932,\n         88.5396204 , -37.15564269, -71.60745775, -31.44885771,\n        -18.46052097, -70.93040031, -64.31891461,  -1.3168378 ,\n         68.8377502 ,  33.58381632,  73.47259562,  35.04166737,\n        -77.84074596,  25.54104062],\n       [ 97.55413131, -66.37547002,  39.01903271, -79.36089688,\n         29.99402198, -78.38214053,  72.44217627, -57.49674515,\n        -75.92929065,  59.90886316, -16.20521381, -74.69881042,\n         72.51056921,  86.343354  , -95.69323926, -82.44067845,\n        -23.07682916, -18.04296979, -80.64949447, -68.64566923,\n         73.59829691,  86.3788153 ,  -0.66911528,  84.24145793,\n          5.76121037, -57.94856092,  81.29806178, -80.19286332,\n         73.71346766,  40.16692026,  -9.5393476 ,  67.60802044,\n        -57.27499645,  76.97389278,  62.62150156, -91.452628  ,\n        -45.23593537, -86.34202671,  31.83405245,  56.55300513,\n         62.79843319,  93.51285855, -47.28600843,  68.72082161,\n        -77.10293868,  56.35775392, -46.02728735,  63.72292096,\n         40.39813114, -50.23812474],\n       [-51.71718164, -58.73106153,  52.81188943,  11.15000906,\n         63.86044843, -78.97084465,   3.51796967, -93.80998118,\n         60.32436813, -35.31119778, -97.21243728,  35.45389236,\n        -36.10943029,  78.05376599,  59.61142423,  18.67410387,\n        -62.42221871, -55.59966676, -10.25658541, -14.39261789,\n        -87.05691281,  -8.17193098,  -6.68388108, -96.44465137,\n        -53.97693813,   8.39249737, -14.84110585, -21.85723469,\n        -88.13296183,  54.88818184, -47.65597265,  76.31801372,\n         15.38152222, -44.66132497,  65.15956491, -97.65796981,\n        -62.52472644,  95.50690095,  81.82159078,  85.17252457,\n         18.37292938, -45.60872198,  51.3618573 ,  82.8581901 ,\n         58.8924539 , -29.83807637,  42.18273598, -97.65428361,\n         39.08084976,  60.40380592],\n       [-79.54982662, -30.64518961, -25.88345038, -58.57306872,\n         29.64013283, -19.7011608 ,  67.9419542 , -90.59549962,\n         -4.33822359, -47.70656339, -84.04787669, -13.71555654,\n        -40.24864585,   6.94761761,   4.88077362, -45.90766374,\n          4.92894069,  41.53220076, -23.37270175,   8.27454525,\n        -85.65005509, -45.29985226,  66.6242598 ,  -0.69658831,\n         30.00202149, -68.38318406,  60.90899085,  60.84819191,\n        -67.52735641, -82.84411257,  43.11294807,  37.06654326,\n         24.44231663, -80.01184462, -13.22944196,  31.37946004,\n         62.58583156,   7.77219817,  36.61869097, -45.19050023,\n         44.37878368, -13.68385256,  87.12941484, -38.59182291,\n         81.27961965,  43.82427037,  73.18971736,   3.71257881,\n        -64.66899455, -27.83445044],\n       [-31.29864697, -46.38611715, -36.27742488, -38.16542117,\n         82.10214421,  40.57782226, -65.71967876, -31.17263713,\n         27.20972022,  71.08045757, -79.3227888 , -15.11853932,\n         48.80671429, -76.7301116 , -43.42619958, -55.93173472,\n          4.37084322,  39.22918698, -96.27021995,   6.10040542,\n        -18.2606931 , -22.44620414,  28.26066171,  30.42553021,\n         48.55922733,  74.21963623, -12.40149898,  72.55315908,\n         36.12196252,  97.93286958,   7.85670688, -24.0467323 ,\n         37.64618882, -36.7237062 ,  98.03433307,  41.66074343,\n        -16.35446165, -49.34470144,  46.92668625,  61.69613819,\n        -30.28994247,   6.16154158, -93.90256082, -65.73286963,\n        -80.13943292,  44.74219622,  72.72674842, -32.21167227,\n        -95.47172849,  -0.99369969],\n       [ 77.02009769,  64.22246879,  65.72137268, -14.06137219,\n         94.32604409, -90.08951199, -53.74061211, -65.09637532,\n        -40.41298194,  -8.13483068,  59.60935815, -22.53877455,\n        -55.96261423,  22.8655317 ,  16.02990632, -61.03852366,\n        -93.89531792,  88.91290513,  69.49112862, -64.55516049,\n         88.89886586, -61.42289645,  79.92183104,   7.49752644,\n         11.4997801 , -77.8816952 , -45.04904456,  13.10532033,\n        -80.70363105,  47.13111199, -96.67612243, -51.93202476,\n          3.09071724,  85.72230958, -13.11171922,  78.65663504,\n         -9.99088179, -67.29214306,  75.57678818,  33.8709184 ,\n         32.54564036,   6.40124926,  70.84920746, -64.61142851,\n        -10.97838726,  48.4344085 , -85.85037116,   0.80659712,\n         38.17454337,  56.65778121],\n       [ 62.63576445,  50.55634617, -90.89636049, -27.41858102,\n         -4.3532533 ,  83.43286704, -75.78930012,  70.60000351,\n        -79.27941921,  35.23337898, -56.53049582,  74.9627335 ,\n         -3.11570883, -65.11795167,  45.93521076, -40.68367753,\n         28.79354418,  73.19667408,  22.41821533, -90.70085116,\n        -84.50934515, -89.88745853, -96.75189975,  69.9568998 ,\n         75.2988807 ,  37.28735052, -30.40818306,  -6.35027413,\n        -91.22716997, -54.71555195,  30.83834867,  38.1603787 ,\n         55.07502325,  47.88807924,  21.33477156,  84.17345705,\n        -58.15440294,  -5.21454125, -31.45293483, -11.9676307 ,\n         97.94577417,  59.79829402,  62.55217217,  17.09831874,\n         40.98302541,  -2.32401762,  69.698483  , -87.40113545,\n         40.52386148, -42.26625058]])"
     },
     "execution_count": 63,
     "metadata": {},
     "output_type": "execute_result"
    }
   ],
   "source": [
    "X = np.random.uniform(low=-bound, high=bound, size=Dim)\n",
    "X_min = X.min()\n",
    "X_max = X.max()\n",
    "X_list = np.empty([NP, Dim])\n",
    "for i in range(NP):\n",
    "    for j in range(Dim):\n",
    "        X_list[i][j] = X_min + random.uniform(0, 1) * (X_max - X_min)\n",
    "\n",
    "X_list"
   ],
   "metadata": {
    "collapsed": false,
    "pycharm": {
     "name": "#%%\n"
    }
   }
  },
  {
   "cell_type": "code",
   "execution_count": 64,
   "outputs": [],
   "source": [
    "\"\"\":parameter for DE\"\"\"\n",
    "T_DE = 100\n",
    "no = 5\n",
    "CR = 0.9  # rate of crossover\n",
    "\n",
    "\"\"\":parameter for MMS\"\"\"\n",
    "mms_e = 0.000001\n",
    "mms_F = 0.5"
   ],
   "metadata": {
    "collapsed": false,
    "pycharm": {
     "name": "#%%\n"
    }
   }
  },
  {
   "cell_type": "code",
   "execution_count": 65,
   "outputs": [],
   "source": [
    "\"\"\":parameter k and F: for current/rand/1\"\"\"\n",
    "k = 0.3\n",
    "F = 0.5"
   ],
   "metadata": {
    "collapsed": false,
    "pycharm": {
     "name": "#%%\n"
    }
   }
  },
  {
   "cell_type": "code",
   "execution_count": 66,
   "outputs": [],
   "source": [
    "\"\"\":parameter for crossoverSBX\"\"\"\n",
    "sbx_n = 10"
   ],
   "metadata": {
    "collapsed": false,
    "pycharm": {
     "name": "#%%\n"
    }
   }
  },
  {
   "cell_type": "code",
   "execution_count": 67,
   "outputs": [],
   "source": [
    "# f = functions.f1"
   ],
   "metadata": {
    "collapsed": false,
    "pycharm": {
     "name": "#%%\n"
    }
   }
  },
  {
   "cell_type": "code",
   "execution_count": 68,
   "outputs": [],
   "source": [
    "def feas(x):\n",
    "    if x.max() <= bound and x.min() >= -bound:\n",
    "        return 1\n",
    "    else:\n",
    "        return 0"
   ],
   "metadata": {
    "collapsed": false,
    "pycharm": {
     "name": "#%%\n"
    }
   }
  },
  {
   "cell_type": "code",
   "execution_count": 69,
   "outputs": [],
   "source": [
    "def select_better_fit(x1, x2, f):\n",
    "    if f(x1) <= f(x2):\n",
    "        return x1\n",
    "    else:\n",
    "        return x2"
   ],
   "metadata": {
    "collapsed": false,
    "pycharm": {
     "name": "#%%\n"
    }
   }
  },
  {
   "cell_type": "code",
   "execution_count": 70,
   "outputs": [],
   "source": [
    "def current_to_rand(x_list, r1, r2, r3, i):\n",
    "    return np.add(x_list[i], k * np.subtract(x_list[r1], x_list[i]), F * np.subtract(x_list[r2], x_list[r3]))"
   ],
   "metadata": {
    "collapsed": false,
    "pycharm": {
     "name": "#%%\n"
    }
   }
  },
  {
   "cell_type": "code",
   "execution_count": 71,
   "outputs": [],
   "source": [
    "def immsade(xx_list, r1, r2, r3):\n",
    "    immsade_omega = random.uniform(0.7, 1.0)\n",
    "    immsade_F = random.uniform(0.5, 0.8)\n",
    "    v_delta = np.add(np.multiply(immsade_omega, xx_list[r1]),\n",
    "                     immsade_F * np.subtract(xx_list[r2], xx_list[r3]))\n",
    "    v_delta = np.maximum(v_delta, -100)\n",
    "    v_delta = np.minimum(v_delta, 100)\n",
    "    return v_delta"
   ],
   "metadata": {
    "collapsed": false,
    "pycharm": {
     "name": "#%%\n"
    }
   }
  },
  {
   "cell_type": "code",
   "execution_count": 72,
   "outputs": [],
   "source": [
    "def crossover_SBX(x_i, v_j, f):\n",
    "    beta = 0\n",
    "    while isinstance(beta, complex):\n",
    "        sbx_rand = random.random()\n",
    "        if sbx_rand <= 0.5:\n",
    "            beta = (2 * sbx_rand) ** (1 / (1 + sbx_n))\n",
    "        else:\n",
    "            beta = (1 / (2 - sbx_n * 2)) ** (1 / (1 + sbx_n))\n",
    "\n",
    "    c1 = 0.5 * np.add((1 + beta) * x_i, (1 - beta) * v_j)  # crossover\n",
    "    c2 = 0.5 * np.add((1 - beta) * x_i, (1 + beta) * v_j)\n",
    "    return select_better_fit(c1, c2, f)"
   ],
   "metadata": {
    "collapsed": false,
    "pycharm": {
     "name": "#%%\n"
    }
   }
  },
  {
   "cell_type": "code",
   "execution_count": 73,
   "outputs": [],
   "source": [
    "def DE(f):\n",
    "    x_list = copy.deepcopy(X_list)\n",
    "    x_best = x_list[0]\n",
    "    # print(x_list[0])\n",
    "\n",
    "    t = 1\n",
    "    while t <= T_DE:\n",
    "        for i in range(NP):\n",
    "            u_best = np.empty([Dim])\n",
    "            for j in range(Dim):\n",
    "                r_list = random.sample(range(NP), 5)\n",
    "                for m in range(no):\n",
    "                    while r_list[m] == i:\n",
    "                        r_list[m] = random.randint(0, NP - 1)\n",
    "\n",
    "                v_j = np.empty([Dim])\n",
    "                v_j = immsade(x_list, r_list[1], r_list[2], r_list[3])\n",
    "\n",
    "                cr_rand = random.random()\n",
    "                if cr_rand <= CR:\n",
    "                    u_j = crossover_SBX(x_list[i], v_j, f)\n",
    "                else:\n",
    "                    u_j = x_list[i]\n",
    "\n",
    "                if j == 0:\n",
    "                    u_best = u_j\n",
    "                else:\n",
    "                    u_best = select_better_fit(u_best, u_j, f)\n",
    "\n",
    "                if f(u_best) <= f(x_list[i]) and feas(u_best) == 1:\n",
    "                    x_list[i] = u_best\n",
    "\n",
    "                if f(x_list[i]) < f(x_best) and feas(x_list[i]) == 1:\n",
    "                    x_best = x_list[i]\n",
    "\n",
    "        t += 1\n",
    "    return x_best\n"
   ],
   "metadata": {
    "collapsed": false,
    "pycharm": {
     "name": "#%%\n"
    }
   }
  },
  {
   "cell_type": "code",
   "execution_count": 74,
   "outputs": [],
   "source": [
    "\"\"\":parameter: for AGDE\"\"\"\n",
    "T_AGDE = 100"
   ],
   "metadata": {
    "collapsed": false,
    "pycharm": {
     "name": "#%%\n"
    }
   }
  },
  {
   "cell_type": "code",
   "execution_count": 75,
   "outputs": [],
   "source": [
    "def index_of_X_best(xx_list, f):\n",
    "    index = 0\n",
    "    min_fit = f(xx_list[0])\n",
    "    for i in range(len(xx_list)):\n",
    "        if f(xx_list[i]) < min_fit:\n",
    "            index = i\n",
    "            min_fit = f(xx_list[i])\n",
    "    return index\n",
    "\n",
    "\n",
    "def index_of_X_worst(xx_list, f):\n",
    "    index = 0\n",
    "    max_fit = f(xx_list[0])\n",
    "    for i in range(len(xx_list)):\n",
    "        if f(xx_list[i]) > max_fit:\n",
    "            index = i\n",
    "            max_fit = f(xx_list[i])\n",
    "    return index\n",
    "\n",
    "\n",
    "def compare_max(delta):\n",
    "    \"\"\"\n",
    "    lower bound\n",
    "    :param delta: delta\n",
    "    :return: turn into lower bound delta\n",
    "    \"\"\"\n",
    "\n",
    "    em = np.linspace(-100, -100, Dim)\n",
    "    delta = np.maximum(delta, em)\n",
    "    return delta\n",
    "\n",
    "\n",
    "def compare_min(delta):\n",
    "    on = np.linspace(100, 100, Dim)\n",
    "    delta = np.minimum(delta, on)\n",
    "    # for i in range(len(delta)):\n",
    "    #     delta[i] = min(delta[i], 1)\n",
    "    return delta\n",
    "\n",
    "def agde(xx_list, agde_F, agde_p, f):\n",
    "    agde_NP = max(int(NP * agde_p), 0)\n",
    "    r_list = random.randint(max(agde_NP * 2 - 1, 0), NP - 1)\n",
    "    if max(agde_NP, 0) >= max(agde_NP * 2 - 1, 1):\n",
    "        m = max(agde_NP, 0) + 1\n",
    "    else:\n",
    "        m = max(agde_NP * 2 - 1, 1)\n",
    "    x_p_worst = xx_list[index_of_X_worst(xx_list[max(agde_NP, 0): m], f)]\n",
    "    x_p_best = xx_list[index_of_X_best(xx_list[: max(agde_NP - 1, 1)], f)]\n",
    "    v_delta = np.add(xx_list[r_list], np.multiply(agde_F, np.subtract(x_p_best, x_p_worst)))\n",
    "    return v_delta"
   ],
   "metadata": {
    "collapsed": false,
    "pycharm": {
     "name": "#%%\n"
    }
   }
  },
  {
   "cell_type": "code",
   "execution_count": 76,
   "outputs": [],
   "source": [
    "def AGDE(f):\n",
    "    xx_list = copy.deepcopy(X_list)\n",
    "    x_best = xx_list[0]\n",
    "    # print(xx_list[0])\n",
    "\n",
    "    G = 0\n",
    "    p_j = 0.5\n",
    "    s_j_sum = 0\n",
    "    while G <= T_AGDE:  # iteration of DE\n",
    "        n_s_j = 0\n",
    "        f_j = 1\n",
    "        for i in range(NP):  # iteration of generation\n",
    "            agde_F = random.uniform(0.1, 1)\n",
    "            Cr = 0\n",
    "            if G == 1:\n",
    "                if random.uniform(0, 1) <= 0.5:\n",
    "                    Cr = random.uniform(0.05, 0.15)\n",
    "                else:\n",
    "                    Cr = random.uniform(0.9, 1)\n",
    "            else:\n",
    "                if random.uniform(0, 1) <= p_j:\n",
    "                    Cr = random.uniform(0.05, 0.15)\n",
    "                else:\n",
    "                    Cr = random.uniform(0.9, 1)\n",
    "            j_random = random.randint(1, NP)\n",
    "\n",
    "            u_best = np.empty([Dim])\n",
    "            for j in range(Dim):\n",
    "                vj = agde(xx_list, agde_F, p_j, f)\n",
    "                vj = compare_max(vj)\n",
    "                vj = compare_min(vj)\n",
    "                if random.uniform(0, 1) < Cr or j == j_random:\n",
    "                    u_j = crossover_SBX(xx_list[i], vj, f)\n",
    "                else:\n",
    "                    u_j = xx_list[i]\n",
    "\n",
    "                if j == 0:\n",
    "                    u_best = u_j\n",
    "                else:\n",
    "                    u_best = select_better_fit(u_best, u_j, f)\n",
    "\n",
    "                if f(u_best) <= f(xx_list[i]) and feas(u_best) == 1:\n",
    "                    xx_list[i] = u_best\n",
    "\n",
    "                if f(xx_list[i]) < f(x_best) and feas(xx_list[i]) == 1:\n",
    "                    x_best = xx_list[i]\n",
    "\n",
    "        G += 1\n",
    "\n",
    "        s_j = n_s_j / (n_s_j + f_j) + 0.01\n",
    "        s_j_sum += s_j\n",
    "        p_s_j = s_j / s_j_sum\n",
    "        if (((G - 1) * p_j + p_s_j) / G) < 0.5:\n",
    "            p_j = ((G - 1) * p_j + p_s_j) / G\n",
    "\n",
    "    return x_best"
   ],
   "metadata": {
    "collapsed": false,
    "pycharm": {
     "name": "#%%\n"
    }
   }
  },
  {
   "cell_type": "code",
   "execution_count": 77,
   "outputs": [],
   "source": [
    "\"\"\":parameter: for GSK\"\"\"\n",
    "T_GSK = 100\n",
    "GSK_p = 0.1\n",
    "k_f = 0.01   # 0.5\n",
    "k_r = 0.1   # 0.9\n",
    "K = 10"
   ],
   "metadata": {
    "collapsed": false,
    "pycharm": {
     "name": "#%%\n"
    }
   }
  },
  {
   "cell_type": "code",
   "execution_count": 78,
   "outputs": [],
   "source": [
    "def junior(xx_list, r, i, f):\n",
    "    if random.uniform(0, 1) <= k_r:\n",
    "        if f(xx_list[i]) > f(xx_list[r]):\n",
    "            v_delta = np.add(xx_list[i],\n",
    "                             k_f * np.add(np.subtract(xx_list[max(0, i - 1)], xx_list[min(NP - 1, i + 1)]),\n",
    "                                          np.subtract(xx_list[r], xx_list[i])))\n",
    "        else:\n",
    "            v_delta = np.add(xx_list[i],\n",
    "                             k_f * np.add(np.subtract(xx_list[max(0, i - 1)], xx_list[min(NP - 1, i + 1)]),\n",
    "                                          np.subtract(xx_list[i], xx_list[r])))\n",
    "    else:\n",
    "        v_delta = xx_list[i]\n",
    "    return v_delta\n",
    "\n",
    "\n",
    "def senior(xx_list, i, D_junior, f):\n",
    "    if random.uniform(0, 1) <= k_r:\n",
    "        D_senior = NP - D_junior\n",
    "        NP_1 = int(D_senior * GSK_p)\n",
    "        r_list = random.randint(D_junior - 1 + NP_1 * 2, NP - 1)\n",
    "        if max(D_junior - 1 + NP_1, 0) >= max(D_junior - 1 + NP_1 * 2 - 1, 1):\n",
    "            m = max(D_junior - 1 + NP_1, 0) + 1\n",
    "        else:\n",
    "            m = max(D_junior - 1 + NP_1 * 2 - 1, 1)\n",
    "        if max(D_junior - 1, 0) >= max(D_junior - 1 + NP_1 - 1, 1):\n",
    "            n = max(D_junior - 1, 0) + 1\n",
    "        else:\n",
    "            n = max(D_junior - 1 + NP_1 - 1, 1)\n",
    "        x_p_worst = xx_list[index_of_X_worst(xx_list[max(D_junior - 1 + NP_1, 0): m], f)]\n",
    "        x_p_best = xx_list[index_of_X_best(xx_list[max(D_junior - 1, 0): n], f)]\n",
    "        if f(xx_list[i]) > f(xx_list[r_list]):\n",
    "            v_delta = np.add(xx_list[i],\n",
    "                             k_f * np.add(np.subtract(x_p_best, x_p_worst),\n",
    "                                          np.subtract(xx_list[r_list], xx_list[i])))\n",
    "        else:\n",
    "            v_delta = np.add(xx_list[i],\n",
    "                             k_f * np.add(np.subtract(x_p_best, x_p_worst),\n",
    "                                          np.subtract(xx_list[i], xx_list[r_list])))\n",
    "    else:\n",
    "        v_delta = xx_list[i]\n",
    "    return v_delta\n"
   ],
   "metadata": {
    "collapsed": false,
    "pycharm": {
     "name": "#%%\n"
    }
   }
  },
  {
   "cell_type": "code",
   "execution_count": 79,
   "outputs": [],
   "source": [
    "def GSK(f):\n",
    "    \"\"\"\n",
    "    DE algorithm\n",
    "    :param x_list:\n",
    "    :return: best x by DE\n",
    "    \"\"\"\n",
    "    xxx_list = copy.deepcopy(X_list)\n",
    "\n",
    "    x_best = xxx_list[0]\n",
    "    # print(xxx_list[0])\n",
    "    G = 0\n",
    "\n",
    "    while G <= T_GSK:  # iteration of DE\n",
    "        D_junior = int(NP * pow((1 - G / T_GSK), K))\n",
    "\n",
    "        for i in range(NP):  # iteration of generation\n",
    "\n",
    "            u_best = np.empty([Dim])\n",
    "            for j in range(NP):\n",
    "                vj = np.empty([Dim])\n",
    "                r = random.randint(0, NP - 1)\n",
    "                if j <= D_junior:\n",
    "                    vj = junior(xxx_list, r, j, f)\n",
    "                else:\n",
    "                    vj = senior(xxx_list, j, D_junior, f)\n",
    "\n",
    "                vj = compare_max(vj)\n",
    "                vj = compare_min(vj)\n",
    "\n",
    "                if j == 0:\n",
    "                    u_best = vj\n",
    "                else:\n",
    "                    u_best = select_better_fit(u_best, vj, f)\n",
    "\n",
    "                if f(u_best) <= f(xxx_list[i]) and feas(u_best) == 1:\n",
    "                    xxx_list[i] = u_best\n",
    "\n",
    "                if f(xxx_list[i]) < f(x_best) and feas(xxx_list[i]) == 1:\n",
    "                    x_best = xxx_list[i]\n",
    "\n",
    "        G += 1\n",
    "\n",
    "    return x_best\n"
   ],
   "metadata": {
    "collapsed": false,
    "pycharm": {
     "name": "#%%\n"
    }
   }
  },
  {
   "cell_type": "code",
   "execution_count": null,
   "outputs": [
    {
     "name": "stdout",
     "output_type": "stream",
     "text": [
      "f1 1004733487706.9404 2072290178140.255 3132336277202.736 \n",
      "\n",
      "f2 7.936017594473407e+76 1.843284740577264e+88 6.035419499443098e+98 \n",
      "\n",
      "f3 240095.3488500489 448046.7200460602 138730383.70347366 \n",
      "\n",
      "f4 36221.620866721496 87985.20092353212 164181.27522953998 \n",
      "\n",
      "f5 1267.198358201279 1513.3337701742441 1927.9522574073035 \n",
      "\n",
      "f6 744.5317528491996 798.3179130074941 832.712320130429 \n",
      "\n",
      "f7 2107.4899288073107 3557.6652436276736 6718.973016617536 \n",
      "\n"
     ]
    }
   ],
   "source": [
    "import os\n",
    "i = 0\n",
    "test_list = np.empty([len(functions.all_functions), 3])\n",
    "test_path = r'D:\\profile\\codes\\python_projects\\ocp\\test\\output\\D50'\n",
    "for i in range(51):\n",
    "    for f in functions.all_functions:\n",
    "        x_best_DE_fit = 0\n",
    "        x_best_AGDE_fit = 0\n",
    "        x_best_GSK_fit = 0\n",
    "        x_best_DE_fit = f(DE(f))\n",
    "        x_best_AGDE_fit = f(AGDE(f))\n",
    "        x_best_GSK_fit = f(GSK(f))\n",
    "        print(f.__name__, x_best_DE_fit, x_best_AGDE_fit, x_best_GSK_fit, \"\\n\")\n",
    "        test_list[i][0] = x_best_DE_fit\n",
    "        test_list[i][1] = x_best_AGDE_fit\n",
    "        test_list[i][2] = x_best_GSK_fit\n",
    "\n",
    "    i += 1\n",
    "    np.savetxt(os.path.join(test_path, str(i) + \".text\"), test_list)\n",
    "\n",
    "\n"
   ],
   "metadata": {
    "collapsed": false,
    "pycharm": {
     "name": "#%%\n",
     "is_executing": true
    }
   }
  },
  {
   "cell_type": "code",
   "execution_count": null,
   "outputs": [],
   "source": [
    "import cec2017.utils as utils\n",
    "for f in functions.all_functions:\n",
    "    utils.surface_plot(f, points=120, dimension=Dim)"
   ],
   "metadata": {
    "collapsed": false,
    "pycharm": {
     "name": "#%%\n",
     "is_executing": true
    }
   }
  }
 ],
 "metadata": {
  "kernelspec": {
   "display_name": "Python 3",
   "language": "python",
   "name": "python3"
  },
  "language_info": {
   "codemirror_mode": {
    "name": "ipython",
    "version": 2
   },
   "file_extension": ".py",
   "mimetype": "text/x-python",
   "name": "python",
   "nbconvert_exporter": "python",
   "pygments_lexer": "ipython2",
   "version": "2.7.6"
  }
 },
 "nbformat": 4,
 "nbformat_minor": 0
}