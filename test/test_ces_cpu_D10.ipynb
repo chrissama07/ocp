{
 "cells": [
  {
   "cell_type": "code",
   "execution_count": 470,
   "metadata": {
    "collapsed": true,
    "pycharm": {
     "name": "#%%\n"
    }
   },
   "outputs": [],
   "source": [
    "import random\n",
    "import numpy as np\n",
    "import cec2017.functions as functions\n",
    "import copy"
   ]
  },
  {
   "cell_type": "code",
   "execution_count": 471,
   "outputs": [],
   "source": [
    "Dim = 10\n",
    "NP = 10\n",
    "bound = 100"
   ],
   "metadata": {
    "collapsed": false,
    "pycharm": {
     "name": "#%%\n"
    }
   }
  },
  {
   "cell_type": "code",
   "execution_count": 472,
   "outputs": [
    {
     "data": {
      "text/plain": "array([[-73.96573304,  44.90183281,  77.42346887,  60.33940459,\n         -9.04881402, -69.1484452 ,  69.06113027, -81.87342019,\n          6.56841185,   7.69655935],\n       [ -1.1260001 ,  34.23878533,  15.59722399,  77.52818491,\n         31.56550879,   6.34201574,  63.13194203,  36.75661562,\n         74.57137344,  66.04433149],\n       [-17.54264941, -52.90981023,  -7.35598028,  70.17094473,\n        -11.0812716 ,  78.58788833, -87.38815796, -87.11055342,\n        -11.22697698,  79.1715428 ],\n       [ 78.47794053, -12.08461697,  46.0970665 ,   1.9627714 ,\n         32.1613278 ,  66.28597293, -35.71237108,  35.333095  ,\n        -63.68114615, -36.181233  ],\n       [-86.74560636,  71.74819074,  11.98210112,  65.93980057,\n         49.89940003,  81.89890178, -75.85265228,  87.93924823,\n        -81.46280449, -21.83634432],\n       [-71.60153568, -64.3492626 ,  58.53500374,  69.10022405,\n        -35.81708273, -39.10557256, -78.71462095, -11.86204816,\n        -85.20916855, -84.59445179],\n       [-33.5638247 , -86.29854062,  55.90886613, -16.46212002,\n        -28.1373263 ,  38.0497849 , -15.53287665, -12.87119244,\n        -11.82753412,  86.44602675],\n       [-76.54809952,  80.25071398, -71.51058259,  27.15913498,\n        -77.79135962, -56.69103756, -81.93699106,  78.17764552,\n          8.79616823, -32.92892975],\n       [-33.5150541 ,  79.63877008,  -0.59974307, -74.25220041,\n        -40.28644468,  13.79641098, -86.06256218,  75.43501139,\n        -42.23077445,  50.94681709],\n       [  6.16641038, -63.56774878, -24.08025762,  37.66329435,\n        -70.79027422, -27.79741266,  52.27845995, -46.78060292,\n         76.63337376, -26.83534519]])"
     },
     "execution_count": 472,
     "metadata": {},
     "output_type": "execute_result"
    }
   ],
   "source": [
    "X = np.random.uniform(low=-bound, high=bound, size=Dim)\n",
    "X_min = X.min()\n",
    "X_max = X.max()\n",
    "X_list = np.empty([NP, Dim])\n",
    "for i in range(NP):\n",
    "    for j in range(Dim):\n",
    "        X_list[i][j] = X_min + random.uniform(0, 1) * (X_max - X_min)\n",
    "\n",
    "X_list"
   ],
   "metadata": {
    "collapsed": false,
    "pycharm": {
     "name": "#%%\n"
    }
   }
  },
  {
   "cell_type": "code",
   "execution_count": 473,
   "outputs": [],
   "source": [
    "\"\"\":parameter for DE\"\"\"\n",
    "T_DE = 100\n",
    "no = 5\n",
    "CR = 0.9  # rate of crossover\n",
    "\n",
    "\"\"\":parameter for MMS\"\"\"\n",
    "mms_e = 0.000001\n",
    "mms_F = 0.5"
   ],
   "metadata": {
    "collapsed": false,
    "pycharm": {
     "name": "#%%\n"
    }
   }
  },
  {
   "cell_type": "code",
   "execution_count": 474,
   "outputs": [],
   "source": [
    "\"\"\":parameter k and F: for current/rand/1\"\"\"\n",
    "k = 0.3\n",
    "F = 0.5"
   ],
   "metadata": {
    "collapsed": false,
    "pycharm": {
     "name": "#%%\n"
    }
   }
  },
  {
   "cell_type": "code",
   "execution_count": 475,
   "outputs": [],
   "source": [
    "\"\"\":parameter for crossoverSBX\"\"\"\n",
    "sbx_n = 10"
   ],
   "metadata": {
    "collapsed": false,
    "pycharm": {
     "name": "#%%\n"
    }
   }
  },
  {
   "cell_type": "code",
   "execution_count": 476,
   "outputs": [],
   "source": [
    "# f = functions.f1"
   ],
   "metadata": {
    "collapsed": false,
    "pycharm": {
     "name": "#%%\n"
    }
   }
  },
  {
   "cell_type": "code",
   "execution_count": 477,
   "outputs": [],
   "source": [
    "def feas(x):\n",
    "    if x.max() <= bound and x.min() >= -bound:\n",
    "        return 1\n",
    "    else:\n",
    "        return 0"
   ],
   "metadata": {
    "collapsed": false,
    "pycharm": {
     "name": "#%%\n"
    }
   }
  },
  {
   "cell_type": "code",
   "execution_count": 478,
   "outputs": [],
   "source": [
    "def select_better_fit(x1, x2, f):\n",
    "    if f(x1) <= f(x2):\n",
    "        return x1\n",
    "    else:\n",
    "        return x2"
   ],
   "metadata": {
    "collapsed": false,
    "pycharm": {
     "name": "#%%\n"
    }
   }
  },
  {
   "cell_type": "code",
   "execution_count": 479,
   "outputs": [],
   "source": [
    "def current_to_rand(x_list, r1, r2, r3, i):\n",
    "    return np.add(x_list[i], k * np.subtract(x_list[r1], x_list[i]), F * np.subtract(x_list[r2], x_list[r3]))"
   ],
   "metadata": {
    "collapsed": false,
    "pycharm": {
     "name": "#%%\n"
    }
   }
  },
  {
   "cell_type": "code",
   "execution_count": 480,
   "outputs": [],
   "source": [
    "def immsade(xx_list, r1, r2, r3):\n",
    "    immsade_omega = random.uniform(0.7, 1.0)\n",
    "    immsade_F = random.uniform(0.5, 0.8)\n",
    "    v_delta = np.add(np.multiply(immsade_omega, xx_list[r1]),\n",
    "                     immsade_F * np.subtract(xx_list[r2], xx_list[r3]))\n",
    "    v_delta = np.maximum(v_delta, -100)\n",
    "    v_delta = np.minimum(v_delta, 100)\n",
    "    return v_delta"
   ],
   "metadata": {
    "collapsed": false,
    "pycharm": {
     "name": "#%%\n"
    }
   }
  },
  {
   "cell_type": "code",
   "execution_count": 481,
   "outputs": [],
   "source": [
    "def crossover_SBX(x_i, v_j, f):\n",
    "    beta = 0\n",
    "    while isinstance(beta, complex):\n",
    "        sbx_rand = random.random()\n",
    "        if sbx_rand <= 0.5:\n",
    "            beta = (2 * sbx_rand) ** (1 / (1 + sbx_n))\n",
    "        else:\n",
    "            beta = (1 / (2 - sbx_n * 2)) ** (1 / (1 + sbx_n))\n",
    "\n",
    "    c1 = 0.5 * np.add((1 + beta) * x_i, (1 - beta) * v_j)  # crossover\n",
    "    c2 = 0.5 * np.add((1 - beta) * x_i, (1 + beta) * v_j)\n",
    "    return select_better_fit(c1, c2, f)"
   ],
   "metadata": {
    "collapsed": false,
    "pycharm": {
     "name": "#%%\n"
    }
   }
  },
  {
   "cell_type": "code",
   "execution_count": 482,
   "outputs": [],
   "source": [
    "def DE(f):\n",
    "    x_list = copy.deepcopy(X_list)\n",
    "    x_best = x_list[0]\n",
    "    # print(x_list[0])\n",
    "\n",
    "    t = 1\n",
    "    while t <= T_DE:\n",
    "        for i in range(NP):\n",
    "            u_best = np.empty([Dim])\n",
    "            for j in range(Dim):\n",
    "                r_list = random.sample(range(NP), 5)\n",
    "                for m in range(no):\n",
    "                    while r_list[m] == i:\n",
    "                        r_list[m] = random.randint(0, Dim - 1)\n",
    "\n",
    "                v_j = np.empty([Dim])\n",
    "                v_j = immsade(x_list, r_list[1], r_list[2], r_list[3])\n",
    "\n",
    "                cr_rand = random.random()\n",
    "                if cr_rand <= CR:\n",
    "                    u_j = crossover_SBX(x_list[i], v_j, f)\n",
    "                else:\n",
    "                    u_j = x_list[i]\n",
    "\n",
    "                if j == 0:\n",
    "                    u_best = u_j\n",
    "                else:\n",
    "                    u_best = select_better_fit(u_best, u_j, f)\n",
    "\n",
    "                if f(u_best) <= f(x_list[i]) and feas(u_best) == 1:\n",
    "                    x_list[i] = u_best\n",
    "\n",
    "                if f(x_list[i]) < f(x_best) and feas(x_list[i]) == 1:\n",
    "                    x_best = x_list[i]\n",
    "\n",
    "        t += 1\n",
    "    return x_best\n"
   ],
   "metadata": {
    "collapsed": false,
    "pycharm": {
     "name": "#%%\n"
    }
   }
  },
  {
   "cell_type": "code",
   "execution_count": 483,
   "outputs": [],
   "source": [
    "\"\"\":parameter: for AGDE\"\"\"\n",
    "T_AGDE = 100"
   ],
   "metadata": {
    "collapsed": false,
    "pycharm": {
     "name": "#%%\n"
    }
   }
  },
  {
   "cell_type": "code",
   "execution_count": 484,
   "outputs": [],
   "source": [
    "def index_of_X_best(xx_list, f):\n",
    "    index = 0\n",
    "    min_fit = f(xx_list[0])\n",
    "    for i in range(len(xx_list)):\n",
    "        if f(xx_list[i]) < min_fit:\n",
    "            index = i\n",
    "            min_fit = f(xx_list[i])\n",
    "    return index\n",
    "\n",
    "\n",
    "def index_of_X_worst(xx_list, f):\n",
    "    index = 0\n",
    "    max_fit = f(xx_list[0])\n",
    "    for i in range(len(xx_list)):\n",
    "        if f(xx_list[i]) > max_fit:\n",
    "            index = i\n",
    "            max_fit = f(xx_list[i])\n",
    "    return index\n",
    "\n",
    "\n",
    "def compare_max(delta):\n",
    "    \"\"\"\n",
    "    lower bound\n",
    "    :param delta: delta\n",
    "    :return: turn into lower bound delta\n",
    "    \"\"\"\n",
    "\n",
    "    em = np.linspace(-100, -100, Dim)\n",
    "    delta = np.maximum(delta, em)\n",
    "    return delta\n",
    "\n",
    "\n",
    "def compare_min(delta):\n",
    "    on = np.linspace(100, 100, Dim)\n",
    "    delta = np.minimum(delta, on)\n",
    "    # for i in range(len(delta)):\n",
    "    #     delta[i] = min(delta[i], 1)\n",
    "    return delta\n",
    "\n",
    "def agde(xx_list, agde_F, agde_p, f):\n",
    "    agde_NP = max(int(NP * agde_p), 0)\n",
    "    r_list = random.randint(max(agde_NP * 2 - 1, 0), NP - 1)\n",
    "    if max(agde_NP, 0) >= max(agde_NP * 2 - 1, 1):\n",
    "        m = max(agde_NP, 0) + 1\n",
    "    else:\n",
    "        m = max(agde_NP * 2 - 1, 1)\n",
    "    x_p_worst = xx_list[index_of_X_worst(xx_list[max(agde_NP, 0): m], f)]\n",
    "    x_p_best = xx_list[index_of_X_best(xx_list[: max(agde_NP - 1, 1)], f)]\n",
    "    v_delta = np.add(xx_list[r_list], np.multiply(agde_F, np.subtract(x_p_best, x_p_worst)))\n",
    "    return v_delta"
   ],
   "metadata": {
    "collapsed": false,
    "pycharm": {
     "name": "#%%\n"
    }
   }
  },
  {
   "cell_type": "code",
   "execution_count": 485,
   "outputs": [],
   "source": [
    "def AGDE(f):\n",
    "    xx_list = copy.deepcopy(X_list)\n",
    "    x_best = xx_list[0]\n",
    "    # print(xx_list[0])\n",
    "\n",
    "    G = 0\n",
    "    p_j = 0.5\n",
    "    s_j_sum = 0\n",
    "    while G <= T_AGDE:  # iteration of DE\n",
    "        n_s_j = 0\n",
    "        f_j = 1\n",
    "        for i in range(NP):  # iteration of generation\n",
    "            agde_F = random.uniform(0.1, 1)\n",
    "            Cr = 0\n",
    "            if G == 1:\n",
    "                if random.uniform(0, 1) <= 0.5:\n",
    "                    Cr = random.uniform(0.05, 0.15)\n",
    "                else:\n",
    "                    Cr = random.uniform(0.9, 1)\n",
    "            else:\n",
    "                if random.uniform(0, 1) <= p_j:\n",
    "                    Cr = random.uniform(0.05, 0.15)\n",
    "                else:\n",
    "                    Cr = random.uniform(0.9, 1)\n",
    "            j_random = random.randint(1, NP)\n",
    "\n",
    "            u_best = np.empty([Dim])\n",
    "            for j in range(Dim):\n",
    "                vj = agde(xx_list, agde_F, p_j, f)\n",
    "                vj = compare_max(vj)\n",
    "                vj = compare_min(vj)\n",
    "                if random.uniform(0, 1) < Cr or j == j_random:\n",
    "                    u_j = crossover_SBX(xx_list[i], vj, f)\n",
    "                else:\n",
    "                    u_j = xx_list[i]\n",
    "\n",
    "                if j == 0:\n",
    "                    u_best = u_j\n",
    "                else:\n",
    "                    u_best = select_better_fit(u_best, u_j, f)\n",
    "\n",
    "                if f(u_best) <= f(xx_list[i]) and feas(u_best) == 1:\n",
    "                    xx_list[i] = u_best\n",
    "\n",
    "                if f(xx_list[i]) < f(x_best) and feas(xx_list[i]) == 1:\n",
    "                    x_best = xx_list[i]\n",
    "\n",
    "        G += 1\n",
    "\n",
    "        s_j = n_s_j / (n_s_j + f_j) + 0.01\n",
    "        s_j_sum += s_j\n",
    "        p_s_j = s_j / s_j_sum\n",
    "        if (((G - 1) * p_j + p_s_j) / G) < 0.5:\n",
    "            p_j = ((G - 1) * p_j + p_s_j) / G\n",
    "\n",
    "    return x_best"
   ],
   "metadata": {
    "collapsed": false,
    "pycharm": {
     "name": "#%%\n"
    }
   }
  },
  {
   "cell_type": "code",
   "execution_count": 486,
   "outputs": [],
   "source": [
    "\"\"\":parameter: for GSK\"\"\"\n",
    "T_GSK = 100\n",
    "GSK_p = 0.1\n",
    "k_f = 0.01   # 0.5\n",
    "k_r = 0.1   # 0.9\n",
    "K = 10"
   ],
   "metadata": {
    "collapsed": false,
    "pycharm": {
     "name": "#%%\n"
    }
   }
  },
  {
   "cell_type": "code",
   "execution_count": 487,
   "outputs": [],
   "source": [
    "def junior(xx_list, r, i, f):\n",
    "    if random.uniform(0, 1) <= k_r:\n",
    "        if f(xx_list[i]) > f(xx_list[r]):\n",
    "            v_delta = np.add(xx_list[i],\n",
    "                             k_f * np.add(np.subtract(xx_list[max(0, i - 1)], xx_list[min(NP - 1, i + 1)]),\n",
    "                                          np.subtract(xx_list[r], xx_list[i])))\n",
    "        else:\n",
    "            v_delta = np.add(xx_list[i],\n",
    "                             k_f * np.add(np.subtract(xx_list[max(0, i - 1)], xx_list[min(NP - 1, i + 1)]),\n",
    "                                          np.subtract(xx_list[i], xx_list[r])))\n",
    "    else:\n",
    "        v_delta = xx_list[i]\n",
    "    return v_delta\n",
    "\n",
    "\n",
    "def senior(xx_list, i, D_junior, f):\n",
    "    if random.uniform(0, 1) <= k_r:\n",
    "        D_senior = NP - D_junior\n",
    "        NP_1 = int(D_senior * GSK_p)\n",
    "        r_list = random.randint(D_junior - 1 + NP_1 * 2, NP - 1)\n",
    "        if max(D_junior - 1 + NP_1, 0) >= max(D_junior - 1 + NP_1 * 2 - 1, 1):\n",
    "            m = max(D_junior - 1 + NP_1, 0) + 1\n",
    "        else:\n",
    "            m = max(D_junior - 1 + NP_1 * 2 - 1, 1)\n",
    "        if max(D_junior - 1, 0) >= max(D_junior - 1 + NP_1 - 1, 1):\n",
    "            n = max(D_junior - 1, 0) + 1\n",
    "        else:\n",
    "            n = max(D_junior - 1 + NP_1 - 1, 1)\n",
    "        x_p_worst = xx_list[index_of_X_worst(xx_list[max(D_junior - 1 + NP_1, 0): m], f)]\n",
    "        x_p_best = xx_list[index_of_X_best(xx_list[max(D_junior - 1, 0): n], f)]\n",
    "        if f(xx_list[i]) > f(xx_list[r_list]):\n",
    "            v_delta = np.add(xx_list[i],\n",
    "                             k_f * np.add(np.subtract(x_p_best, x_p_worst),\n",
    "                                          np.subtract(xx_list[r_list], xx_list[i])))\n",
    "        else:\n",
    "            v_delta = np.add(xx_list[i],\n",
    "                             k_f * np.add(np.subtract(x_p_best, x_p_worst),\n",
    "                                          np.subtract(xx_list[i], xx_list[r_list])))\n",
    "    else:\n",
    "        v_delta = xx_list[i]\n",
    "    return v_delta"
   ],
   "metadata": {
    "collapsed": false,
    "pycharm": {
     "name": "#%%\n"
    }
   }
  },
  {
   "cell_type": "code",
   "execution_count": 488,
   "outputs": [],
   "source": [
    "def GSK(f):\n",
    "    \"\"\"\n",
    "    DE algorithm\n",
    "    :param x_list:\n",
    "    :return: best x by DE\n",
    "    \"\"\"\n",
    "    xxx_list = copy.deepcopy(X_list)\n",
    "\n",
    "    x_best = xxx_list[0]\n",
    "    # print(xxx_list[0])\n",
    "    G = 0\n",
    "\n",
    "    while G <= T_GSK:  # iteration of DE\n",
    "        D_junior = int(NP * pow((1 - G / T_GSK), K))\n",
    "\n",
    "        for i in range(NP):  # iteration of generation\n",
    "\n",
    "            u_best = np.empty([Dim])\n",
    "            for j in range(Dim):\n",
    "                vj = np.empty([Dim])\n",
    "                r = random.randint(0, NP - 1)\n",
    "                if j <= D_junior:\n",
    "                    vj = junior(xxx_list, r, j, f)\n",
    "                else:\n",
    "                    vj = senior(xxx_list, j, D_junior, f)\n",
    "\n",
    "                vj = compare_max(vj)\n",
    "                vj = compare_min(vj)\n",
    "\n",
    "                if j == 0:\n",
    "                    u_best = vj\n",
    "                else:\n",
    "                    u_best = select_better_fit(u_best, vj, f)\n",
    "\n",
    "                if f(u_best) <= f(xxx_list[i]) and feas(u_best) == 1:\n",
    "                    xxx_list[i] = u_best\n",
    "\n",
    "                if f(xxx_list[i]) < f(x_best) and feas(xxx_list[i]) == 1:\n",
    "                    x_best = xxx_list[i]\n",
    "\n",
    "        G += 1\n",
    "\n",
    "    return x_best\n"
   ],
   "metadata": {
    "collapsed": false,
    "pycharm": {
     "name": "#%%\n"
    }
   }
  },
  {
   "cell_type": "code",
   "execution_count": null,
   "outputs": [
    {
     "name": "stdout",
     "output_type": "stream",
     "text": [
      "f1 227329187803.14642 192156348463.09372 314836843892.65753 \n",
      "\n",
      "f2 2409217826664.945 16827283115145.752 3699395461755400.0 \n",
      "\n",
      "f3 9999.788098860397 29449.789455403625 1089424903.5227263 \n",
      "\n",
      "f4 1052.1519782340029 1862.6312192750604 5079.812488051696 \n",
      "\n",
      "f5 592.14171467304 633.0143827864958 681.5579339241287 \n",
      "\n",
      "f6 674.3328025074297 689.379689415914 767.120633025653 \n",
      "\n",
      "f7 791.3028798748117 927.9333749190341 1322.1284644668376 \n",
      "\n",
      "f8 856.0722791323464 878.8366976091983 938.3758580223571 \n",
      "\n",
      "f9 1579.0172559202617 2149.736042845627 4824.849622199528 \n",
      "\n",
      "f10 2612.588859022205 3571.11439530877 3849.0429313055156 \n",
      "\n",
      "f11 3499.981956355675 15883.582598108063 25507.066108960367 \n",
      "\n",
      "f12 3616588777.2009754 4908437685.444825 4691175761.08446 \n",
      "\n",
      "f13 45459175.49200934 30025338.223597173 53842055.90787606 \n",
      "\n",
      "f14 10282.973605246027 2650.7570691764313 53548391.24056326 \n",
      "\n",
      "f15 25150.46714514734 88061.17196108116 17244305394.18744 \n",
      "\n",
      "f16 2142.1227555560777 2343.258476192638 3500.1102678414845 \n",
      "\n"
     ]
    },
    {
     "name": "stderr",
     "output_type": "stream",
     "text": [
      "c:\\users\\chris\\appdata\\local\\programs\\python\\python39\\lib\\site-packages\\cec2017\\basic.py:227: RuntimeWarning: invalid value encountered in true_divide\n",
      "  t = np.abs(tjx - np.round(tjx)) / tj\n"
     ]
    },
    {
     "name": "stdout",
     "output_type": "stream",
     "text": [
      "f17 nan nan nan \n",
      "\n",
      "f18 1282845761.6037374 3192192937.292858 2849111834.5790863 \n",
      "\n",
      "f19 51841.960539223815 44208.67688064309 979406903.1920291 \n",
      "\n",
      "f20 nan nan nan \n",
      "\n",
      "f21 2384.8135445594326 2399.3432560904316 2490.3329189894534 \n",
      "\n",
      "f22 3441.4599342427373 4895.501342209794 5598.369980042718 \n",
      "\n",
      "f23 2898.89223943509 2840.1332305390256 3090.7023632673718 \n",
      "\n",
      "f24 2843.415903040621 3009.037244539836 3049.9559594959346 \n",
      "\n",
      "f25 3581.757806035308 4927.763177865759 7285.206875567095 \n",
      "\n",
      "f26 4213.019009107263 4810.401424375008 5574.472818280652 \n",
      "\n",
      "f27 3371.443221360806 3589.4225257471912 3736.219878849595 \n",
      "\n",
      "f28 3958.5921160968305 4066.2351996200177 4501.168209280141 \n",
      "\n",
      "f29 nan nan nan \n",
      "\n",
      "f30 7291367.5691974815 18149750.278220855 230020840.25655058 \n",
      "\n",
      "f1 230760209286.52353 182748191848.5623 314836830716.32794 \n",
      "\n",
      "f2 1709862094482.1072 630707894457505.5 4336987755588103.5 \n",
      "\n",
      "f3 11823.522065109284 19424.410723438774 1181018291.9204102 \n",
      "\n",
      "f4 1167.3302236282289 1682.6672422408974 5066.6663453802685 \n",
      "\n",
      "f5 580.6945859776386 635.721848773893 681.5579339241287 \n",
      "\n",
      "f6 656.6807167964332 707.5893686035217 772.2941805077418 \n",
      "\n",
      "f7 797.3832283872564 917.2970524660744 1322.1306035292318 \n",
      "\n",
      "f8 849.8484215726727 884.2083578606756 934.4346612446299 \n",
      "\n",
      "f9 1498.0262599853231 2476.5283570008987 4824.849622199528 \n",
      "\n",
      "f10 2483.9923656917586 3571.11439530877 3874.417161157966 \n",
      "\n",
      "f11 2537.178788995303 26236.54939708355 25507.066108960367 \n",
      "\n",
      "f12 1361635820.82291 2252700288.012715 5065448628.141562 \n",
      "\n",
      "f13 10047060.641342869 8439244.7819162 53842055.90787606 \n",
      "\n",
      "f14 16459.112025273556 8304885.664026422 53548391.24056326 \n",
      "\n",
      "f15 38129.805107850945 61158.011258671344 17905752608.20767 \n",
      "\n",
      "f16 2225.9040309434167 2528.1840373994232 3500.1102678414845 \n",
      "\n",
      "f17 nan nan nan \n",
      "\n",
      "f18 803215671.681047 2998564777.6224556 3192192937.292859 \n",
      "\n",
      "f19 1037416.3645789208 649268980.1219182 979406903.1920291 \n",
      "\n",
      "f20 nan nan nan \n",
      "\n",
      "f21 2369.8861010375063 2399.3936789724694 2490.3329189894534 \n",
      "\n",
      "f22 3511.067985556021 4697.565328572053 5631.393668618805 \n",
      "\n",
      "f23 2865.7074359936832 2918.8263539110894 3073.3553269432377 \n",
      "\n",
      "f24 2870.1733215508234 3005.0128743128025 3050.471561692992 \n",
      "\n",
      "f25 3945.4305886961456 4833.289909748994 7283.519928345257 \n",
      "\n",
      "f26 3988.7599638117226 4537.773843683985 5536.678431011886 \n",
      "\n",
      "f27 3447.1248879519017 3602.2109781115428 3724.9477384460533 \n",
      "\n",
      "f28 3896.1153513824756 4025.221940523747 4501.168209280141 \n",
      "\n",
      "f29 nan nan nan \n",
      "\n",
      "f30 21990618.508913375 30633602.53176658 229382260.63875628 \n",
      "\n",
      "f1 190852503581.10593 217295603674.75552 319310881319.801 \n",
      "\n",
      "f2 476299746058.0618 16827283115145.738 4475439128334431.0 \n",
      "\n",
      "f3 12809.300997307726 23927.367982882297 1211087052.3611343 \n",
      "\n",
      "f4 1088.545294954844 2221.405999153165 5066.53510952568 \n",
      "\n",
      "f5 594.7684247298102 638.8089072942325 681.5579339241287 \n",
      "\n",
      "f6 669.9044591020033 696.8634363558757 772.2941805077418 \n",
      "\n",
      "f7 770.6675498343944 911.9107961360064 1325.1016586112573 \n",
      "\n",
      "f8 845.9085722346467 871.1077382299106 938.3758580223571 \n",
      "\n",
      "f9 1670.9392899681584 2794.855544790798 4824.849622199528 \n",
      "\n",
      "f10 2527.183702623089 3447.077534140449 3874.417161157966 \n",
      "\n",
      "f11 5885.090495788221 23336.027028278084 23721.09468998963 \n",
      "\n",
      "f12 1349829800.1200514 2500126113.403392 5065448628.141562 \n",
      "\n",
      "f13 8647.893059250955 47769186.57453687 53842055.90787606 \n",
      "\n",
      "f14 15202.952527921929 2385.496722355845 50977467.90170083 \n",
      "\n",
      "f15 51380.315805047365 498263.01799913717 17495573156.680164 \n",
      "\n",
      "f16 2026.3917586507753 2402.7346154484976 3500.1102678414845 \n",
      "\n",
      "f17 nan nan nan \n",
      "\n",
      "f18 1364933044.5179539 3067148370.5681915 2927564190.7727413 \n",
      "\n",
      "f19 4338864.700139881 42605915.29723175 979406903.1920291 \n",
      "\n",
      "f20 nan nan nan \n",
      "\n",
      "f21 2369.986741851851 2409.8883894822757 2489.2649752877956 \n",
      "\n",
      "f22 3838.192549077698 4555.409961201049 5602.461688543154 \n",
      "\n",
      "f23 2801.282284981814 2971.9768115235147 3060.5909158786485 \n",
      "\n",
      "f24 2804.847000375205 3021.594584513062 3050.471561692992 \n",
      "\n",
      "f25 3932.1116135352054 4527.953057527951 7284.373764554228 \n",
      "\n",
      "f26 3919.5456820047507 4704.042679378454 5574.472818280652 \n",
      "\n",
      "f27 3530.5109259120427 3565.5187626668567 3723.8536419553357 \n",
      "\n"
     ]
    }
   ],
   "source": [
    "import os\n",
    "i = 0\n",
    "test_list = np.empty([len(functions.all_functions), 3])\n",
    "test_path = r'D:\\profile\\codes\\python_projects\\ocp\\test\\output\\D10_cpu'\n",
    "for i in range(51):\n",
    "    for f in functions.all_functions:\n",
    "        x_best_DE_fit = 0\n",
    "        x_best_AGDE_fit = 0\n",
    "        x_best_GSK_fit = 0\n",
    "        x_best_DE_fit = f(DE(f))\n",
    "        x_best_AGDE_fit = f(AGDE(f))\n",
    "        x_best_GSK_fit = f(GSK(f))\n",
    "        print(f.__name__, x_best_DE_fit, x_best_AGDE_fit, x_best_GSK_fit, \"\\n\")\n",
    "        test_list[i][0] = x_best_DE_fit\n",
    "        test_list[i][1] = x_best_AGDE_fit\n",
    "        test_list[i][2] = x_best_GSK_fit\n",
    "\n",
    "    i += 1\n",
    "    np.savetxt(os.path.join(test_path, str(i) + \".txt\"), test_list)\n",
    "\n"
   ],
   "metadata": {
    "collapsed": false,
    "pycharm": {
     "name": "#%%\n",
     "is_executing": true
    }
   }
  },
  {
   "cell_type": "code",
   "execution_count": null,
   "outputs": [],
   "source": [
    "import cec2017.utils as utils\n",
    "for f in functions.all_functions:\n",
    "    utils.surface_plot(f, points=120, dimension=Dim)"
   ],
   "metadata": {
    "collapsed": false,
    "pycharm": {
     "name": "#%%\n",
     "is_executing": true
    }
   }
  }
 ],
 "metadata": {
  "kernelspec": {
   "display_name": "Python 3",
   "language": "python",
   "name": "python3"
  },
  "language_info": {
   "codemirror_mode": {
    "name": "ipython",
    "version": 2
   },
   "file_extension": ".py",
   "mimetype": "text/x-python",
   "name": "python",
   "nbconvert_exporter": "python",
   "pygments_lexer": "ipython2",
   "version": "2.7.6"
  }
 },
 "nbformat": 4,
 "nbformat_minor": 0
}