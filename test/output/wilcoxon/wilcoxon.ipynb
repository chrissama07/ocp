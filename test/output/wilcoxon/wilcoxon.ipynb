{
 "cells": [
  {
   "cell_type": "code",
   "execution_count": 5,
   "metadata": {
    "collapsed": true,
    "pycharm": {
     "name": "#%%\n"
    }
   },
   "outputs": [],
   "source": [
    "import test.test_pathes as pt\n",
    "import numpy as np\n",
    "import pandas as pd\n",
    "import os"
   ]
  },
  {
   "cell_type": "code",
   "execution_count": 6,
   "outputs": [],
   "source": [
    "all_result_d10 = np.empty([1, 3])\n",
    "all_result_d30 = np.empty([1, 3])\n",
    "all_result_d50 = np.empty([1, 3])\n",
    "\n",
    "for i in range(1, 52):\n",
    "    D10_csv = os.path.join(pt.path_D10_csv, str(i) + '.csv')\n",
    "    df = pd.read_csv(D10_csv)\n",
    "    df = df[['DESA', 'AGDE', 'GSK']].values\n",
    "    all_result_d10 = np.concatenate((all_result_d10, df), axis=0)\n",
    "\n",
    "    D30_csv = os.path.join(pt.path_D30_csv, str(i) + '.csv')\n",
    "    df = pd.read_csv(D30_csv)\n",
    "    df = df[['DESA', 'AGDE', 'GSK']].values\n",
    "    all_result_d30 = np.concatenate((all_result_d30, df), axis=0)\n",
    "\n",
    "    D50_csv = os.path.join(pt.path_D50_csv, str(i) + '.csv')\n",
    "    df = pd.read_csv(D50_csv)\n",
    "    df = df[['DESA', 'AGDE', 'GSK']].values\n",
    "    all_result_d50 = np.concatenate((all_result_d50, df), axis=0)\n",
    "\n",
    "all_result_d10 = np.delete(all_result_d10, 0, axis=0)\n",
    "all_result_d30 = np.delete(all_result_d30, 0, axis=0)\n",
    "all_result_d50 = np.delete(all_result_d50, 0, axis=0)"
   ],
   "metadata": {
    "collapsed": false,
    "pycharm": {
     "name": "#%%\n"
    }
   }
  },
  {
   "cell_type": "code",
   "execution_count": 7,
   "outputs": [
    {
     "data": {
      "text/plain": "array([[1.09315953e+12, 1.58359670e+12, 2.66066609e+12],\n       [1.12473826e+79, 2.77725585e+88, 8.36199412e+94],\n       [2.49761463e+05, 4.89740093e+05, 1.96901342e+12],\n       ...,\n       [6.82631786e+03, 9.21482399e+03, 1.04629947e+04],\n       [1.19801503e+04, 2.14879945e+04, 3.55085033e+04],\n       [7.86689875e+10, 1.18684619e+11, 1.64637659e+11]])"
     },
     "execution_count": 7,
     "metadata": {},
     "output_type": "execute_result"
    }
   ],
   "source": [
    "all_result_d50"
   ],
   "metadata": {
    "collapsed": false,
    "pycharm": {
     "name": "#%%\n"
    }
   }
  },
  {
   "cell_type": "code",
   "execution_count": 11,
   "outputs": [
    {
     "data": {
      "text/plain": "array([1.89102974e+11, 2.53238825e+11, 1.60090081e+04, ...,\n       3.52937805e+03, 3.86000214e+03, 1.06758795e+08])"
     },
     "execution_count": 11,
     "metadata": {},
     "output_type": "execute_result"
    }
   ],
   "source": [
    "all_result_d10[:, 0]"
   ],
   "metadata": {
    "collapsed": false,
    "pycharm": {
     "name": "#%%\n"
    }
   }
  },
  {
   "cell_type": "code",
   "execution_count": 19,
   "outputs": [
    {
     "data": {
      "text/plain": "array([1.89102974e+11, 2.53238825e+11, 1.60090081e+04, ...,\n       6.82631786e+03, 1.19801503e+04, 7.86689875e+10])"
     },
     "execution_count": 19,
     "metadata": {},
     "output_type": "execute_result"
    }
   ],
   "source": [
    "desa_agde_1 = np.append(all_result_d10[:, 0], all_result_d30[:, 0], axis=0)\n",
    "desa_agde_1 = np.append(desa_agde_1, all_result_d50[:, 0], axis=0)\n",
    "desa_agde_1"
   ],
   "metadata": {
    "collapsed": false,
    "pycharm": {
     "name": "#%%\n"
    }
   }
  },
  {
   "cell_type": "code",
   "execution_count": 20,
   "outputs": [
    {
     "data": {
      "text/plain": "array([2.44450107e+11, 4.87052271e+12, 2.49005433e+04, ...,\n       9.21482399e+03, 2.14879945e+04, 1.18684619e+11])"
     },
     "execution_count": 20,
     "metadata": {},
     "output_type": "execute_result"
    }
   ],
   "source": [
    "desa_agde_2 = np.append(all_result_d10[:, 1], all_result_d30[:, 1], axis=0)\n",
    "desa_agde_2 = np.append(desa_agde_2, all_result_d50[:, 1], axis=0)\n",
    "desa_agde_2"
   ],
   "metadata": {
    "collapsed": false,
    "pycharm": {
     "name": "#%%\n"
    }
   }
  },
  {
   "cell_type": "code",
   "execution_count": 21,
   "outputs": [
    {
     "data": {
      "text/plain": "array([2.50741725e+11, 8.51141699e+18, 3.94590327e+04, ...,\n       1.04629947e+04, 3.55085033e+04, 1.64637659e+11])"
     },
     "execution_count": 21,
     "metadata": {},
     "output_type": "execute_result"
    }
   ],
   "source": [
    "desa_gsk_3 = np.append(all_result_d10[:, 2], all_result_d30[:, 2], axis=0)\n",
    "desa_gsk_3 = np.append(desa_gsk_3, all_result_d50[:, 2], axis=0)\n",
    "desa_gsk_3\n"
   ],
   "metadata": {
    "collapsed": false,
    "pycharm": {
     "name": "#%%\n"
    }
   }
  },
  {
   "cell_type": "code",
   "execution_count": 45,
   "outputs": [
    {
     "data": {
      "text/plain": "3879"
     },
     "execution_count": 45,
     "metadata": {},
     "output_type": "execute_result"
    }
   ],
   "source": [
    "desa_agde_R_plus = np.sum(desa_agde_1 <= desa_agde_2)\n",
    "desa_agde_R_minus = np.sum(desa_agde_1 > desa_agde_2)\n",
    "desa_agde_R_plus"
   ],
   "metadata": {
    "collapsed": false,
    "pycharm": {
     "name": "#%%\n"
    }
   }
  },
  {
   "cell_type": "code",
   "execution_count": 47,
   "outputs": [
    {
     "data": {
      "text/plain": "17"
     },
     "execution_count": 47,
     "metadata": {},
     "output_type": "execute_result"
    }
   ],
   "source": [
    "desa_gsk_R_plus = np.sum(desa_agde_1 <= desa_gsk_3)\n",
    "desa_gsk_R_minus = np.sum(desa_agde_1 > desa_gsk_3)\n",
    "desa_gsk_R_minus"
   ],
   "metadata": {
    "collapsed": false,
    "pycharm": {
     "name": "#%%\n"
    }
   }
  },
  {
   "cell_type": "code",
   "execution_count": 71,
   "outputs": [
    {
     "data": {
      "text/plain": "'0.00000000000000000000000000000000000000000000000000000000000000000000000000000000'"
     },
     "execution_count": 71,
     "metadata": {},
     "output_type": "execute_result"
    }
   ],
   "source": [
    "import scipy.stats as ss\n",
    "\n",
    "desa_agde_wilcoxon_static, desa_agde_wilcoxon_p = ss.wilcoxon(desa_agde_1, desa_agde_2, alternative='less')\n",
    "format(desa_agde_wilcoxon_p, '.80f')"
   ],
   "metadata": {
    "collapsed": false,
    "pycharm": {
     "name": "#%%\n"
    }
   }
  },
  {
   "cell_type": "code",
   "execution_count": 44,
   "outputs": [
    {
     "data": {
      "text/plain": "0.0"
     },
     "execution_count": 44,
     "metadata": {},
     "output_type": "execute_result"
    }
   ],
   "source": [
    "desa_gsk_wilcoxon_static, desa_gsk_wilcoxon_p = ss.wilcoxon(desa_agde_1, desa_gsk_3, alternative='less')\n",
    "desa_gsk_wilcoxon_p"
   ],
   "metadata": {
    "collapsed": false,
    "pycharm": {
     "name": "#%%\n"
    }
   }
  },
  {
   "cell_type": "code",
   "execution_count": 56,
   "outputs": [
    {
     "data": {
      "text/plain": "'0.00000000000000000000000000000000000000000000000000000000000000000000000000000000'"
     },
     "execution_count": 56,
     "metadata": {},
     "output_type": "execute_result"
    }
   ],
   "source": [
    "friedman_static, friedman_p = ss.friedmanchisquare(desa_agde_1, desa_agde_2, desa_gsk_3)\n",
    "format(friedman_p, '.80f')"
   ],
   "metadata": {
    "collapsed": false,
    "pycharm": {
     "name": "#%%\n"
    }
   }
  },
  {
   "cell_type": "code",
   "execution_count": 65,
   "outputs": [
    {
     "data": {
      "text/plain": "array([10939. , 11157. ,  6470. , ...,  5620.5,  7386. , 10857.5])"
     },
     "execution_count": 65,
     "metadata": {},
     "output_type": "execute_result"
    }
   ],
   "source": [
    "rank_array = ss.rankdata(np.append(desa_agde_1, np.append(desa_agde_2, desa_gsk_3)))\n",
    "rank_array = rank_array.T\n",
    "rank_array"
   ],
   "metadata": {
    "collapsed": false,
    "pycharm": {
     "name": "#%%\n"
    }
   }
  },
  {
   "cell_type": "code",
   "execution_count": 66,
   "outputs": [],
   "source": [
    "desa_rank_mean = rank_array[0: 4130].mean()\n",
    "agde_rank_mean = rank_array[4131: 8261].mean()\n",
    "gsk_rank_mean = rank_array[8262: 12392].mean()"
   ],
   "metadata": {
    "collapsed": false,
    "pycharm": {
     "name": "#%%\n"
    }
   }
  },
  {
   "cell_type": "code",
   "execution_count": 69,
   "outputs": [
    {
     "data": {
      "text/plain": "6178.95774818402"
     },
     "execution_count": 69,
     "metadata": {},
     "output_type": "execute_result"
    }
   ],
   "source": [
    "agde_rank_mean"
   ],
   "metadata": {
    "collapsed": false,
    "pycharm": {
     "name": "#%%\n"
    }
   }
  },
  {
   "cell_type": "code",
   "execution_count": 77,
   "outputs": [
    {
     "data": {
      "text/plain": "                R+   R-\nDESA vs AGDE  3879  252\nDESA vs GSK   4114   17",
      "text/html": "<div>\n<style scoped>\n    .dataframe tbody tr th:only-of-type {\n        vertical-align: middle;\n    }\n\n    .dataframe tbody tr th {\n        vertical-align: top;\n    }\n\n    .dataframe thead th {\n        text-align: right;\n    }\n</style>\n<table border=\"1\" class=\"dataframe\">\n  <thead>\n    <tr style=\"text-align: right;\">\n      <th></th>\n      <th>R+</th>\n      <th>R-</th>\n    </tr>\n  </thead>\n  <tbody>\n    <tr>\n      <th>DESA vs AGDE</th>\n      <td>3879</td>\n      <td>252</td>\n    </tr>\n    <tr>\n      <th>DESA vs GSK</th>\n      <td>4114</td>\n      <td>17</td>\n    </tr>\n  </tbody>\n</table>\n</div>"
     },
     "execution_count": 77,
     "metadata": {},
     "output_type": "execute_result"
    }
   ],
   "source": [
    "df_R = pd.DataFrame([[desa_agde_R_plus, desa_agde_R_minus],\n",
    "                     [desa_gsk_R_plus, desa_gsk_R_minus]], columns=['R+', 'R-'], index=['DESA vs AGDE', 'DESA vs GSK'])\n",
    "df_R"
   ],
   "metadata": {
    "collapsed": false,
    "pycharm": {
     "name": "#%%\n"
    }
   }
  },
  {
   "cell_type": "code",
   "execution_count": 102,
   "outputs": [
    {
     "data": {
      "text/plain": "                 DESA         AGDE         GSK\nmean rank  5726.41816  6178.957748  6682.37724",
      "text/html": "<div>\n<style scoped>\n    .dataframe tbody tr th:only-of-type {\n        vertical-align: middle;\n    }\n\n    .dataframe tbody tr th {\n        vertical-align: top;\n    }\n\n    .dataframe thead th {\n        text-align: right;\n    }\n</style>\n<table border=\"1\" class=\"dataframe\">\n  <thead>\n    <tr style=\"text-align: right;\">\n      <th></th>\n      <th>DESA</th>\n      <th>AGDE</th>\n      <th>GSK</th>\n    </tr>\n  </thead>\n  <tbody>\n    <tr>\n      <th>mean rank</th>\n      <td>5726.41816</td>\n      <td>6178.957748</td>\n      <td>6682.37724</td>\n    </tr>\n  </tbody>\n</table>\n</div>"
     },
     "execution_count": 102,
     "metadata": {},
     "output_type": "execute_result"
    }
   ],
   "source": [
    "df_rank_mean = pd.DataFrame(np.array([desa_rank_mean, agde_rank_mean, gsk_rank_mean]).reshape(1, 3), columns=['DESA', 'AGDE', 'GSK'], index=['mean rank'])\n",
    "df_rank_mean"
   ],
   "metadata": {
    "collapsed": false,
    "pycharm": {
     "name": "#%%\n"
    }
   }
  },
  {
   "cell_type": "code",
   "execution_count": 103,
   "outputs": [],
   "source": [
    "df_R.to_csv(r'D:\\profile\\codes\\python_projects\\ocp\\test\\output\\wilcoxon\\wilcoxon_output\\wilcoxon.csv')\n",
    "df_rank_mean.to_csv(r'D:\\profile\\codes\\python_projects\\ocp\\test\\output\\wilcoxon\\wilcoxon_output\\friedman_rank_mean.csv')"
   ],
   "metadata": {
    "collapsed": false,
    "pycharm": {
     "name": "#%%\n"
    }
   }
  },
  {
   "cell_type": "code",
   "execution_count": 108,
   "outputs": [
    {
     "data": {
      "text/plain": "              DESA          AGDE           GSK\n0     1.891030e+11  2.444501e+11  2.507417e+11\n1     2.532388e+11  4.870523e+12  8.511417e+18\n2     1.600901e+04  2.490054e+04  3.945903e+04\n3     2.538022e+03  3.928372e+03  4.341379e+03\n4     6.275611e+02  6.677219e+02  7.238103e+02\n...            ...           ...           ...\n4126  1.376219e+04  3.963525e+04  6.050099e+04\n4127  1.842957e+04  2.532642e+04  4.402048e+04\n4128  6.826318e+03  9.214824e+03  1.046299e+04\n4129  1.198015e+04  2.148799e+04  3.550850e+04\n4130  7.866899e+10  1.186846e+11  1.646377e+11\n\n[4131 rows x 3 columns]",
      "text/html": "<div>\n<style scoped>\n    .dataframe tbody tr th:only-of-type {\n        vertical-align: middle;\n    }\n\n    .dataframe tbody tr th {\n        vertical-align: top;\n    }\n\n    .dataframe thead th {\n        text-align: right;\n    }\n</style>\n<table border=\"1\" class=\"dataframe\">\n  <thead>\n    <tr style=\"text-align: right;\">\n      <th></th>\n      <th>DESA</th>\n      <th>AGDE</th>\n      <th>GSK</th>\n    </tr>\n  </thead>\n  <tbody>\n    <tr>\n      <th>0</th>\n      <td>1.891030e+11</td>\n      <td>2.444501e+11</td>\n      <td>2.507417e+11</td>\n    </tr>\n    <tr>\n      <th>1</th>\n      <td>2.532388e+11</td>\n      <td>4.870523e+12</td>\n      <td>8.511417e+18</td>\n    </tr>\n    <tr>\n      <th>2</th>\n      <td>1.600901e+04</td>\n      <td>2.490054e+04</td>\n      <td>3.945903e+04</td>\n    </tr>\n    <tr>\n      <th>3</th>\n      <td>2.538022e+03</td>\n      <td>3.928372e+03</td>\n      <td>4.341379e+03</td>\n    </tr>\n    <tr>\n      <th>4</th>\n      <td>6.275611e+02</td>\n      <td>6.677219e+02</td>\n      <td>7.238103e+02</td>\n    </tr>\n    <tr>\n      <th>...</th>\n      <td>...</td>\n      <td>...</td>\n      <td>...</td>\n    </tr>\n    <tr>\n      <th>4126</th>\n      <td>1.376219e+04</td>\n      <td>3.963525e+04</td>\n      <td>6.050099e+04</td>\n    </tr>\n    <tr>\n      <th>4127</th>\n      <td>1.842957e+04</td>\n      <td>2.532642e+04</td>\n      <td>4.402048e+04</td>\n    </tr>\n    <tr>\n      <th>4128</th>\n      <td>6.826318e+03</td>\n      <td>9.214824e+03</td>\n      <td>1.046299e+04</td>\n    </tr>\n    <tr>\n      <th>4129</th>\n      <td>1.198015e+04</td>\n      <td>2.148799e+04</td>\n      <td>3.550850e+04</td>\n    </tr>\n    <tr>\n      <th>4130</th>\n      <td>7.866899e+10</td>\n      <td>1.186846e+11</td>\n      <td>1.646377e+11</td>\n    </tr>\n  </tbody>\n</table>\n<p>4131 rows × 3 columns</p>\n</div>"
     },
     "execution_count": 108,
     "metadata": {},
     "output_type": "execute_result"
    }
   ],
   "source": [
    "all_result = np.append(all_result_d10, np.append(all_result_d30, all_result_d50, axis=0), axis=0)\n",
    "df_all = pd.DataFrame(all_result, columns=['DESA', 'AGDE', 'GSK'])\n",
    "df_all"
   ],
   "metadata": {
    "collapsed": false,
    "pycharm": {
     "name": "#%%\n"
    }
   }
  },
  {
   "cell_type": "code",
   "execution_count": 112,
   "outputs": [],
   "source": [
    "df_all.to_csv('D:\\profile\\codes\\python_projects\\ocp\\\\test\\output\\wilcoxon\\wilcoxon_output\\\\all_result.csv')"
   ],
   "metadata": {
    "collapsed": false,
    "pycharm": {
     "name": "#%%\n"
    }
   }
  }
 ],
 "metadata": {
  "kernelspec": {
   "display_name": "Python 3",
   "language": "python",
   "name": "python3"
  },
  "language_info": {
   "codemirror_mode": {
    "name": "ipython",
    "version": 2
   },
   "file_extension": ".py",
   "mimetype": "text/x-python",
   "name": "python",
   "nbconvert_exporter": "python",
   "pygments_lexer": "ipython2",
   "version": "2.7.6"
  }
 },
 "nbformat": 4,
 "nbformat_minor": 0
}