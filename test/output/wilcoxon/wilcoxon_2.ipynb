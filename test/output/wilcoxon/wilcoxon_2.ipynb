{
 "cells": [
  {
   "cell_type": "code",
   "execution_count": 16,
   "metadata": {
    "collapsed": true,
    "pycharm": {
     "name": "#%%\n"
    }
   },
   "outputs": [],
   "source": [
    "import numpy as np\n",
    "import scipy.stats as ss\n",
    "import pandas as pd\n",
    "import os\n",
    "import test.test_pathes as pt"
   ]
  },
  {
   "cell_type": "code",
   "execution_count": 17,
   "outputs": [],
   "source": [
    "all_result_d10 = np.empty([1, 3])\n",
    "all_result_d30 = np.empty([1, 3])\n",
    "all_result_d50 = np.empty([1, 3])\n",
    "\n",
    "for i in range(1, 52):\n",
    "    D10_csv = os.path.join(pt.path_D10_csv, str(i) + '.csv')\n",
    "    df = pd.read_csv(D10_csv)\n",
    "    df = df[['DESA', 'AGDE', 'GSK']].values\n",
    "    all_result_d10 = np.concatenate((all_result_d10, df), axis=0)\n",
    "\n",
    "    D30_csv = os.path.join(pt.path_D30_csv, str(i) + '.csv')\n",
    "    df = pd.read_csv(D30_csv)\n",
    "    df = df[['DESA', 'AGDE', 'GSK']].values\n",
    "    all_result_d30 = np.concatenate((all_result_d30, df), axis=0)\n",
    "\n",
    "    D50_csv = os.path.join(pt.path_D50_csv, str(i) + '.csv')\n",
    "    df = pd.read_csv(D50_csv)\n",
    "    df = df[['DESA', 'AGDE', 'GSK']].values\n",
    "    all_result_d50 = np.concatenate((all_result_d50, df), axis=0)\n",
    "\n",
    "all_result_d10 = np.delete(all_result_d10, 0, axis=0)\n",
    "all_result_d30 = np.delete(all_result_d30, 0, axis=0)\n",
    "all_result_d50 = np.delete(all_result_d50, 0, axis=0)"
   ],
   "metadata": {
    "collapsed": false,
    "pycharm": {
     "name": "#%%\n"
    }
   }
  },
  {
   "cell_type": "code",
   "execution_count": 18,
   "outputs": [
    {
     "data": {
      "text/plain": "array([[1.09315953e+12, 1.58359670e+12, 2.66066609e+12],\n       [1.12473826e+79, 2.77725585e+88, 8.36199412e+94],\n       [2.49761463e+05, 4.89740093e+05, 1.96901342e+12],\n       ...,\n       [6.82631786e+03, 9.21482399e+03, 1.04629947e+04],\n       [1.19801503e+04, 2.14879945e+04, 3.55085033e+04],\n       [7.86689875e+10, 1.18684619e+11, 1.64637659e+11]])"
     },
     "execution_count": 18,
     "metadata": {},
     "output_type": "execute_result"
    }
   ],
   "source": [
    "all_result_d50"
   ],
   "metadata": {
    "collapsed": false,
    "pycharm": {
     "name": "#%%\n"
    }
   }
  },
  {
   "cell_type": "code",
   "execution_count": 19,
   "outputs": [],
   "source": [
    "desa_agde_wilcoxon_static_D10, desa_agde_wilcoxon_p_D10 = ss.wilcoxon(all_result_d10[:, 0], all_result_d10[:, 1])\n",
    "desa_agde_wilcoxon_static_D30, desa_agde_wilcoxon_p_D30 = ss.wilcoxon(all_result_d30[:, 0], all_result_d10[:, 1])\n",
    "desa_agde_wilcoxon_static_D50, desa_agde_wilcoxon_p_D50 = ss.wilcoxon(all_result_d50[:, 0], all_result_d10[:, 1])"
   ],
   "metadata": {
    "collapsed": false,
    "pycharm": {
     "name": "#%%\n"
    }
   }
  },
  {
   "cell_type": "code",
   "execution_count": 20,
   "outputs": [],
   "source": [
    "desa_gsk_wilcoxon_static_D10, desa_gsk_wilcoxon_p_D10 = ss.wilcoxon(all_result_d10[:, 0], all_result_d10[:, 2])\n",
    "desa_gsk_wilcoxon_static_D30, desa_gsk_wilcoxon_p_D30 = ss.wilcoxon(all_result_d30[:, 0], all_result_d30[:, 2])\n",
    "desa_gsk_wilcoxon_static_D50, desa_gsk_wilcoxon_p_D50 = ss.wilcoxon(all_result_d50[:, 0], all_result_d50[:, 2])"
   ],
   "metadata": {
    "collapsed": false,
    "pycharm": {
     "name": "#%%\n"
    }
   }
  },
  {
   "cell_type": "code",
   "execution_count": 21,
   "outputs": [],
   "source": [
    "desa_agde_R_plus_D10 = np.sum(all_result_d10[:, 0] <= all_result_d10[:, 1])\n",
    "desa_agde_R_minus_D10 = np.sum(all_result_d10[:, 0] > all_result_d10[:, 1])\n",
    "\n",
    "desa_agde_R_plus_D30 = np.sum(all_result_d30[:, 0] <= all_result_d30[:, 1])\n",
    "desa_agde_R_minus_D30 = np.sum(all_result_d30[:, 0] > all_result_d30[:, 1])\n",
    "\n",
    "desa_agde_R_plus_D50 = np.sum(all_result_d50[:, 0] <= all_result_d50[:, 1])\n",
    "desa_agde_R_minus_D50 = np.sum(all_result_d50[:, 0] > all_result_d50[:, 1])"
   ],
   "metadata": {
    "collapsed": false,
    "pycharm": {
     "name": "#%%\n"
    }
   }
  },
  {
   "cell_type": "code",
   "execution_count": 22,
   "outputs": [],
   "source": [
    "desa_gsk_R_plus_D10 = np.sum(all_result_d10[:, 0] <= all_result_d10[:, 2])\n",
    "desa_gsk_R_minus_D10 = np.sum(all_result_d10[:, 0] > all_result_d10[:, 2])\n",
    "\n",
    "desa_gsk_R_plus_D30 = np.sum(all_result_d30[:, 0] <= all_result_d30[:, 2])\n",
    "desa_gsk_R_minus_D30 = np.sum(all_result_d30[:, 0] > all_result_d30[:, 2])\n",
    "\n",
    "desa_gsk_R_plus_D50 = np.sum(all_result_d50[:, 0] <= all_result_d50[:, 2])\n",
    "desa_gsk_R_minus_D50 = np.sum(all_result_d50[:, 0] > all_result_d50[:, 2])"
   ],
   "metadata": {
    "collapsed": false,
    "pycharm": {
     "name": "#%%\n"
    }
   }
  },
  {
   "cell_type": "code",
   "execution_count": 23,
   "outputs": [
    {
     "data": {
      "text/plain": "                R+   R-        p-value\nDESA vs AGDE  1187  190  1.306950e-117\nDESA vs GSK   1361   16  7.213209e-216",
      "text/html": "<div>\n<style scoped>\n    .dataframe tbody tr th:only-of-type {\n        vertical-align: middle;\n    }\n\n    .dataframe tbody tr th {\n        vertical-align: top;\n    }\n\n    .dataframe thead th {\n        text-align: right;\n    }\n</style>\n<table border=\"1\" class=\"dataframe\">\n  <thead>\n    <tr style=\"text-align: right;\">\n      <th></th>\n      <th>R+</th>\n      <th>R-</th>\n      <th>p-value</th>\n    </tr>\n  </thead>\n  <tbody>\n    <tr>\n      <th>DESA vs AGDE</th>\n      <td>1187</td>\n      <td>190</td>\n      <td>1.306950e-117</td>\n    </tr>\n    <tr>\n      <th>DESA vs GSK</th>\n      <td>1361</td>\n      <td>16</td>\n      <td>7.213209e-216</td>\n    </tr>\n  </tbody>\n</table>\n</div>"
     },
     "execution_count": 23,
     "metadata": {},
     "output_type": "execute_result"
    }
   ],
   "source": [
    "D10_wilcoxon_result = pd.DataFrame([[desa_agde_R_plus_D10, desa_agde_R_minus_D10, desa_agde_wilcoxon_p_D10],\n",
    "                                    [desa_gsk_R_plus_D10, desa_gsk_R_minus_D10, desa_gsk_wilcoxon_p_D10]], columns=['R+', 'R-', 'p-value'], index=['DESA vs AGDE', 'DESA vs GSK'])\n",
    "D10_wilcoxon_result"
   ],
   "metadata": {
    "collapsed": false,
    "pycharm": {
     "name": "#%%\n"
    }
   }
  },
  {
   "cell_type": "code",
   "execution_count": 24,
   "outputs": [
    {
     "data": {
      "text/plain": "                R+  R-        p-value\nDESA vs AGDE  1319  58  3.626369e-132\nDESA vs GSK   1376   1  6.983429e-226",
      "text/html": "<div>\n<style scoped>\n    .dataframe tbody tr th:only-of-type {\n        vertical-align: middle;\n    }\n\n    .dataframe tbody tr th {\n        vertical-align: top;\n    }\n\n    .dataframe thead th {\n        text-align: right;\n    }\n</style>\n<table border=\"1\" class=\"dataframe\">\n  <thead>\n    <tr style=\"text-align: right;\">\n      <th></th>\n      <th>R+</th>\n      <th>R-</th>\n      <th>p-value</th>\n    </tr>\n  </thead>\n  <tbody>\n    <tr>\n      <th>DESA vs AGDE</th>\n      <td>1319</td>\n      <td>58</td>\n      <td>3.626369e-132</td>\n    </tr>\n    <tr>\n      <th>DESA vs GSK</th>\n      <td>1376</td>\n      <td>1</td>\n      <td>6.983429e-226</td>\n    </tr>\n  </tbody>\n</table>\n</div>"
     },
     "execution_count": 24,
     "metadata": {},
     "output_type": "execute_result"
    }
   ],
   "source": [
    "D30_wilcoxon_result = pd.DataFrame([[desa_agde_R_plus_D30, desa_agde_R_minus_D30, desa_agde_wilcoxon_p_D30],\n",
    "                                    [desa_gsk_R_plus_D30, desa_gsk_R_minus_D30, desa_gsk_wilcoxon_p_D30]], columns=['R+', 'R-', 'p-value'], index=['DESA vs AGDE', 'DESA vs GSK'])\n",
    "D30_wilcoxon_result"
   ],
   "metadata": {
    "collapsed": false,
    "pycharm": {
     "name": "#%%\n"
    }
   }
  },
  {
   "cell_type": "code",
   "execution_count": 25,
   "outputs": [
    {
     "data": {
      "text/plain": "                R+  R-        p-value\nDESA vs AGDE  1373   4  4.771389e-181\nDESA vs GSK   1377   0  1.132998e-226",
      "text/html": "<div>\n<style scoped>\n    .dataframe tbody tr th:only-of-type {\n        vertical-align: middle;\n    }\n\n    .dataframe tbody tr th {\n        vertical-align: top;\n    }\n\n    .dataframe thead th {\n        text-align: right;\n    }\n</style>\n<table border=\"1\" class=\"dataframe\">\n  <thead>\n    <tr style=\"text-align: right;\">\n      <th></th>\n      <th>R+</th>\n      <th>R-</th>\n      <th>p-value</th>\n    </tr>\n  </thead>\n  <tbody>\n    <tr>\n      <th>DESA vs AGDE</th>\n      <td>1373</td>\n      <td>4</td>\n      <td>4.771389e-181</td>\n    </tr>\n    <tr>\n      <th>DESA vs GSK</th>\n      <td>1377</td>\n      <td>0</td>\n      <td>1.132998e-226</td>\n    </tr>\n  </tbody>\n</table>\n</div>"
     },
     "execution_count": 25,
     "metadata": {},
     "output_type": "execute_result"
    }
   ],
   "source": [
    "D50_wilcoxon_result = pd.DataFrame([[desa_agde_R_plus_D50, desa_agde_R_minus_D50, desa_agde_wilcoxon_p_D50],\n",
    "                                    [desa_gsk_R_plus_D50, desa_gsk_R_minus_D50, desa_gsk_wilcoxon_p_D50]], columns=['R+', 'R-', 'p-value'], index=['DESA vs AGDE', 'DESA vs GSK'])\n",
    "D50_wilcoxon_result"
   ],
   "metadata": {
    "collapsed": false,
    "pycharm": {
     "name": "#%%\n"
    }
   }
  },
  {
   "cell_type": "code",
   "execution_count": 27,
   "outputs": [],
   "source": [
    "wilcoxon_output_path = r'D:\\profile\\codes\\python_projects\\ocp\\test\\output\\wilcoxon\\wilcoxon_output'\n",
    "\n",
    "D10_wilcoxon_result.to_csv(os.path.join(wilcoxon_output_path, os.path.join('D10', 'D10.csv')))\n",
    "D30_wilcoxon_result.to_csv(os.path.join(wilcoxon_output_path, os.path.join('D30', 'D30.csv')))\n",
    "D50_wilcoxon_result.to_csv(os.path.join(wilcoxon_output_path, os.path.join('D50', 'D50.csv')))"
   ],
   "metadata": {
    "collapsed": false,
    "pycharm": {
     "name": "#%%\n"
    }
   }
  }
 ],
 "metadata": {
  "kernelspec": {
   "display_name": "Python 3",
   "language": "python",
   "name": "python3"
  },
  "language_info": {
   "codemirror_mode": {
    "name": "ipython",
    "version": 2
   },
   "file_extension": ".py",
   "mimetype": "text/x-python",
   "name": "python",
   "nbconvert_exporter": "python",
   "pygments_lexer": "ipython2",
   "version": "2.7.6"
  }
 },
 "nbformat": 4,
 "nbformat_minor": 0
}