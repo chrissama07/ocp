{
 "cells": [
  {
   "cell_type": "code",
   "execution_count": 181,
   "metadata": {
    "collapsed": true,
    "pycharm": {
     "name": "#%%\n"
    }
   },
   "outputs": [],
   "source": [
    "import random\n",
    "import numpy as np\n",
    "import cec2017.functions as functions\n",
    "import copy"
   ]
  },
  {
   "cell_type": "code",
   "execution_count": 182,
   "outputs": [],
   "source": [
    "Dim = 30\n",
    "NP = 10\n",
    "bound = 100"
   ],
   "metadata": {
    "collapsed": false,
    "pycharm": {
     "name": "#%%\n"
    }
   }
  },
  {
   "cell_type": "code",
   "execution_count": 183,
   "outputs": [
    {
     "data": {
      "text/plain": "array([[ 88.14073018,  73.34696956,  -9.57343459,  97.30617539,\n         69.22073182,   4.18376008, -47.29219259,  -1.34167246,\n        -60.65282373,  29.05117322,  49.17688504,  -5.60942306,\n        -89.91357973,  47.94387268, -30.85746457, -42.82454359,\n        -94.29256678, -15.74893576, -51.036825  , -10.15240767,\n         28.14755777, -42.6916439 , -28.4035909 ,  89.23957111,\n        -15.08276415,  36.52443899, -19.74796806, -70.19359446,\n        -57.01837063, -19.77154291],\n       [ 57.05613063,  57.81968272,  49.33845659, -69.72671482,\n         69.4491244 ,  15.61371251, -51.98610864, -77.18418319,\n          3.64428665,  56.2874869 ,  62.47190005,   6.10405571,\n         84.47479745, -22.89913234,  52.23391024,  14.97317075,\n         51.06568468,  42.94100527,  69.18546282,  32.61318353,\n         75.16630299,  33.27522892,  13.98306169,  35.22699481,\n         58.00342321,  67.94866868,  10.3533997 , -62.79904786,\n         78.11067939, -94.6063488 ],\n       [ 17.29291029, -56.94702455, -40.3051615 ,  -4.94873469,\n        -79.07494764,  -3.39013503, -21.00425307, -68.89736107,\n        -57.12444907,  52.41007392,  17.95284391,  33.44597862,\n         28.03063293,  85.76820225,  19.74134794, -68.79426936,\n         50.52359793, -59.50752165,   8.2968332 ,  92.94278891,\n         22.89964418,  29.61533776,  24.06680259, -54.20237287,\n        -38.60183424, -48.19689865,  31.89259781,  34.638532  ,\n          5.07300741, -93.97391082],\n       [ 75.90262007,   4.14056669, -35.72572643, -48.4251683 ,\n        -85.13042095,  82.90647188, -78.746974  ,  97.44072928,\n        -19.0826039 ,  46.37677914, -16.74306849,  62.94601778,\n         36.98765413, -89.41972099,  17.01201177, -46.90130657,\n        -83.09232467, -29.11006856,  83.19167614,  27.13091301,\n          9.1482127 ,  -9.83764519,  -5.29333106,  61.36563306,\n         -4.17808818,  47.5151249 , -62.09585751, -38.96326701,\n        -76.76305478,  51.27627954],\n       [-95.94212319,  17.38513387,  62.47077175, -19.23626909,\n         -9.39352711,  15.38091842,  67.20816851, -40.7905092 ,\n        -68.84757543,  24.35934444,  43.92610284, -29.64185998,\n        -59.2703029 ,  93.12487328, -11.63261051, -59.12371239,\n        -37.03420396,  15.04557672, -44.43460924, -56.9964975 ,\n        -62.65318985,  52.84231476,  83.29234624,  -9.17262548,\n         61.02824512,  40.09950754, -88.61402104,  88.20755519,\n        -53.06688114,  91.24150536],\n       [ 88.20200151, -70.42554651, -31.82473415, -17.19347592,\n         -7.21211833, -60.33618313,  23.82439478, -27.21362256,\n        -64.69386292,  94.06553902,  -1.26426242, -12.71265203,\n        -23.5606149 ,  46.16284763,  50.53845521,  40.7318874 ,\n         42.12096016, -70.03118863,  10.29793965, -18.55981914,\n          1.58510574, -44.42102486,  34.8632178 ,  64.7256371 ,\n         12.48653988,  78.41187891, -16.68338431, -27.31435496,\n         14.69124354, -53.76062154],\n       [ 26.3110192 ,  -2.26414814, -89.30920506, -38.48816634,\n         45.41218094,   1.30028291,  49.33305095, -31.10865401,\n        -74.2837293 , -17.74520057,  19.42953703, -61.12120796,\n         23.52093412, -55.57190483,  95.49914597, -49.6381445 ,\n         94.35336701, -26.20355892,  91.16505034, -45.07222364,\n        -88.54301961,  79.61607505,  31.28969406, -74.77498158,\n         36.55962975, -70.67574472, -56.7471823 , -69.99392106,\n         32.76534186, -70.81883353],\n       [-45.53506276, -71.78979977, -41.02599666,  10.59189584,\n         13.57053295, -24.58554925,  76.75607983, -48.92183146,\n        -75.30051855,  59.55762775, -46.39269326,  71.15255829,\n        -82.33500962, -80.32674844, -94.30536707,  35.75898944,\n         62.7155685 ,  82.01716279,  42.39575722,  40.23799391,\n         22.80301036, -41.54030762, -49.06426859,  -3.63720039,\n         72.4392891 , -29.81377877, -51.39464236,  29.44879667,\n        -78.73938516,  35.84162787],\n       [-92.68213076, -73.43577834, -63.23198028,  91.24993373,\n          4.37241821, -34.22957614, -76.98261229, -14.53862554,\n        -29.38249303,  51.16285544, -63.89311153,  36.10983901,\n         -6.89297739,  80.0743023 ,  21.34870324, -31.65267543,\n         15.95664557, -55.82144801, -83.07896466,  94.04394945,\n        -45.98009729, -92.30588741, -42.18006083,  13.22547751,\n         93.7943404 , -49.36152948, -67.50972414, -66.0024441 ,\n        -37.28025476,  88.50567525],\n       [-49.23977818,  72.79256415,  14.56601158,  27.06213978,\n        -54.37539606,  88.57897026,  -8.972908  , -69.03717639,\n         39.38221714,  31.95640073,  39.78082619,  52.31129323,\n          9.56704882, -44.47128317,  73.25141186, -55.98900393,\n         85.16301777, -21.56285716, -83.19574067,  -2.40568128,\n          0.44014144, -25.69152726,  38.89275629,  92.5967711 ,\n         -5.57113378,  24.33812148,  31.44608902,  11.51397151,\n        -92.45783836, -88.04580997]])"
     },
     "execution_count": 183,
     "metadata": {},
     "output_type": "execute_result"
    }
   ],
   "source": [
    "X = np.random.uniform(low=-bound, high=bound, size=Dim)\n",
    "X_min = X.min()\n",
    "X_max = X.max()\n",
    "X_list = np.empty([NP, Dim])\n",
    "for i in range(NP):\n",
    "    for j in range(Dim):\n",
    "        X_list[i][j] = X_min + random.uniform(0, 1) * (X_max - X_min)\n",
    "\n",
    "X_list"
   ],
   "metadata": {
    "collapsed": false,
    "pycharm": {
     "name": "#%%\n"
    }
   }
  },
  {
   "cell_type": "code",
   "execution_count": 184,
   "outputs": [],
   "source": [
    "\"\"\":parameter for DE\"\"\"\n",
    "T_DE = 100\n",
    "no = 5\n",
    "CR = 0.9  # rate of crossover\n",
    "\n",
    "\"\"\":parameter for MMS\"\"\"\n",
    "mms_e = 0.000001\n",
    "mms_F = 0.5"
   ],
   "metadata": {
    "collapsed": false,
    "pycharm": {
     "name": "#%%\n"
    }
   }
  },
  {
   "cell_type": "code",
   "execution_count": 185,
   "outputs": [],
   "source": [
    "\"\"\":parameter k and F: for current/rand/1\"\"\"\n",
    "k = 0.3\n",
    "F = 0.5"
   ],
   "metadata": {
    "collapsed": false,
    "pycharm": {
     "name": "#%%\n"
    }
   }
  },
  {
   "cell_type": "code",
   "execution_count": 186,
   "outputs": [],
   "source": [
    "\"\"\":parameter for crossoverSBX\"\"\"\n",
    "sbx_n = 10"
   ],
   "metadata": {
    "collapsed": false,
    "pycharm": {
     "name": "#%%\n"
    }
   }
  },
  {
   "cell_type": "code",
   "execution_count": 187,
   "outputs": [],
   "source": [
    "# f = functions.f1"
   ],
   "metadata": {
    "collapsed": false,
    "pycharm": {
     "name": "#%%\n"
    }
   }
  },
  {
   "cell_type": "code",
   "execution_count": 188,
   "outputs": [],
   "source": [
    "def feas(x):\n",
    "    if x.max() <= bound and x.min() >= -bound:\n",
    "        return 1\n",
    "    else:\n",
    "        return 0"
   ],
   "metadata": {
    "collapsed": false,
    "pycharm": {
     "name": "#%%\n"
    }
   }
  },
  {
   "cell_type": "code",
   "execution_count": 189,
   "outputs": [],
   "source": [
    "def select_better_fit(x1, x2, f):\n",
    "    if f(x1) <= f(x2):\n",
    "        return x1\n",
    "    else:\n",
    "        return x2"
   ],
   "metadata": {
    "collapsed": false,
    "pycharm": {
     "name": "#%%\n"
    }
   }
  },
  {
   "cell_type": "code",
   "execution_count": 190,
   "outputs": [],
   "source": [
    "def current_to_rand(x_list, r1, r2, r3, i):\n",
    "    return np.add(x_list[i], k * np.subtract(x_list[r1], x_list[i]), F * np.subtract(x_list[r2], x_list[r3]))"
   ],
   "metadata": {
    "collapsed": false,
    "pycharm": {
     "name": "#%%\n"
    }
   }
  },
  {
   "cell_type": "code",
   "execution_count": 191,
   "outputs": [],
   "source": [
    "def immsade(xx_list, r1, r2, r3):\n",
    "    immsade_omega = random.uniform(0.7, 1.0)\n",
    "    immsade_F = random.uniform(0.5, 0.8)\n",
    "    v_delta = np.add(np.multiply(immsade_omega, xx_list[r1]),\n",
    "                     immsade_F * np.subtract(xx_list[r2], xx_list[r3]))\n",
    "    v_delta = np.maximum(v_delta, -100)\n",
    "    v_delta = np.minimum(v_delta, 100)\n",
    "    return v_delta"
   ],
   "metadata": {
    "collapsed": false,
    "pycharm": {
     "name": "#%%\n"
    }
   }
  },
  {
   "cell_type": "code",
   "execution_count": 192,
   "outputs": [],
   "source": [
    "def crossover_SBX(x_i, v_j, f):\n",
    "    beta = 0\n",
    "    while isinstance(beta, complex):\n",
    "        sbx_rand = random.random()\n",
    "        if sbx_rand <= 0.5:\n",
    "            beta = (2 * sbx_rand) ** (1 / (1 + sbx_n))\n",
    "        else:\n",
    "            beta = (1 / (2 - sbx_n * 2)) ** (1 / (1 + sbx_n))\n",
    "\n",
    "    c1 = 0.5 * np.add((1 + beta) * x_i, (1 - beta) * v_j)  # crossover\n",
    "    c2 = 0.5 * np.add((1 - beta) * x_i, (1 + beta) * v_j)\n",
    "    return select_better_fit(c1, c2, f)"
   ],
   "metadata": {
    "collapsed": false,
    "pycharm": {
     "name": "#%%\n"
    }
   }
  },
  {
   "cell_type": "code",
   "execution_count": 193,
   "outputs": [],
   "source": [
    "def DE(f):\n",
    "    x_list = copy.deepcopy(X_list)\n",
    "    x_best = x_list[0]\n",
    "    # print(x_list[0])\n",
    "\n",
    "    t = 1\n",
    "    while t <= T_DE:\n",
    "        for i in range(NP):\n",
    "            u_best = np.empty([Dim])\n",
    "            for j in range(Dim):\n",
    "                r_list = random.sample(range(NP), 5)\n",
    "                for m in range(no):\n",
    "                    while r_list[m] == i:\n",
    "                        # r_list[m] = random.randint(0, Dim - 1)\n",
    "                        r_list[m] = random.randint(0, NP - 1)\n",
    "\n",
    "                v_j = np.empty([Dim])\n",
    "                v_j = immsade(x_list, r_list[1], r_list[2], r_list[3])\n",
    "\n",
    "                cr_rand = random.random()\n",
    "                if cr_rand <= CR:\n",
    "                    u_j = crossover_SBX(x_list[i], v_j, f)\n",
    "                else:\n",
    "                    u_j = x_list[i]\n",
    "\n",
    "                if j == 0:\n",
    "                    u_best = u_j\n",
    "                else:\n",
    "                    u_best = select_better_fit(u_best, u_j, f)\n",
    "\n",
    "                if f(u_best) <= f(x_list[i]) and feas(u_best) == 1:\n",
    "                    x_list[i] = u_best\n",
    "\n",
    "                if f(x_list[i]) < f(x_best) and feas(x_list[i]) == 1:\n",
    "                    x_best = x_list[i]\n",
    "\n",
    "        t += 1\n",
    "    return x_best\n"
   ],
   "metadata": {
    "collapsed": false,
    "pycharm": {
     "name": "#%%\n"
    }
   }
  },
  {
   "cell_type": "code",
   "execution_count": 194,
   "outputs": [],
   "source": [
    "\"\"\":parameter: for AGDE\"\"\"\n",
    "T_AGDE = 100"
   ],
   "metadata": {
    "collapsed": false,
    "pycharm": {
     "name": "#%%\n"
    }
   }
  },
  {
   "cell_type": "code",
   "execution_count": 195,
   "outputs": [],
   "source": [
    "def index_of_X_best(xx_list, f):\n",
    "    index = 0\n",
    "    min_fit = f(xx_list[0])\n",
    "    for i in range(len(xx_list)):\n",
    "        if f(xx_list[i]) < min_fit:\n",
    "            index = i\n",
    "            min_fit = f(xx_list[i])\n",
    "    return index\n",
    "\n",
    "\n",
    "def index_of_X_worst(xx_list, f):\n",
    "    index = 0\n",
    "    max_fit = f(xx_list[0])\n",
    "    for i in range(len(xx_list)):\n",
    "        if f(xx_list[i]) > max_fit:\n",
    "            index = i\n",
    "            max_fit = f(xx_list[i])\n",
    "    return index\n",
    "\n",
    "\n",
    "def compare_max(delta):\n",
    "    \"\"\"\n",
    "    lower bound\n",
    "    :param delta: delta\n",
    "    :return: turn into lower bound delta\n",
    "    \"\"\"\n",
    "\n",
    "    em = np.linspace(-100, -100, Dim)\n",
    "    delta = np.maximum(delta, em)\n",
    "    return delta\n",
    "\n",
    "\n",
    "def compare_min(delta):\n",
    "    on = np.linspace(100, 100, Dim)\n",
    "    delta = np.minimum(delta, on)\n",
    "    # for i in range(len(delta)):\n",
    "    #     delta[i] = min(delta[i], 1)\n",
    "    return delta\n",
    "\n",
    "def agde(xx_list, agde_F, agde_p, f):\n",
    "    agde_NP = max(int(NP * agde_p), 0)\n",
    "    r_list = random.randint(max(agde_NP * 2 - 1, 0), NP - 1)\n",
    "    if max(agde_NP, 0) >= max(agde_NP * 2 - 1, 1):\n",
    "        m = max(agde_NP, 0) + 1\n",
    "    else:\n",
    "        m = max(agde_NP * 2 - 1, 1)\n",
    "    x_p_worst = xx_list[index_of_X_worst(xx_list[max(agde_NP, 0): m], f)]\n",
    "    x_p_best = xx_list[index_of_X_best(xx_list[: max(agde_NP - 1, 1)], f)]\n",
    "    v_delta = np.add(xx_list[r_list], np.multiply(agde_F, np.subtract(x_p_best, x_p_worst)))\n",
    "    return v_delta"
   ],
   "metadata": {
    "collapsed": false,
    "pycharm": {
     "name": "#%%\n"
    }
   }
  },
  {
   "cell_type": "code",
   "execution_count": 196,
   "outputs": [],
   "source": [
    "def AGDE(f):\n",
    "    xx_list = copy.deepcopy(X_list)\n",
    "    x_best = xx_list[0]\n",
    "    # print(xx_list[0])\n",
    "\n",
    "    G = 0\n",
    "    p_j = 0.5\n",
    "    s_j_sum = 0\n",
    "    while G <= T_AGDE:  # iteration of DE\n",
    "        n_s_j = 0\n",
    "        f_j = 1\n",
    "        for i in range(NP):  # iteration of generation\n",
    "            agde_F = random.uniform(0.1, 1)\n",
    "            Cr = 0\n",
    "            if G == 1:\n",
    "                if random.uniform(0, 1) <= 0.5:\n",
    "                    Cr = random.uniform(0.05, 0.15)\n",
    "                else:\n",
    "                    Cr = random.uniform(0.9, 1)\n",
    "            else:\n",
    "                if random.uniform(0, 1) <= p_j:\n",
    "                    Cr = random.uniform(0.05, 0.15)\n",
    "                else:\n",
    "                    Cr = random.uniform(0.9, 1)\n",
    "            j_random = random.randint(1, NP)\n",
    "\n",
    "            u_best = np.empty([Dim])\n",
    "            for j in range(Dim):\n",
    "                vj = agde(xx_list, agde_F, p_j, f)\n",
    "                vj = compare_max(vj)\n",
    "                vj = compare_min(vj)\n",
    "                if random.uniform(0, 1) < Cr or j == j_random:\n",
    "                    u_j = crossover_SBX(xx_list[i], vj, f)\n",
    "                else:\n",
    "                    u_j = xx_list[i]\n",
    "\n",
    "                if j == 0:\n",
    "                    u_best = u_j\n",
    "                else:\n",
    "                    u_best = select_better_fit(u_best, u_j, f)\n",
    "\n",
    "                if f(u_best) <= f(xx_list[i]) and feas(u_best) == 1:\n",
    "                    xx_list[i] = u_best\n",
    "\n",
    "                if f(xx_list[i]) < f(x_best) and feas(xx_list[i]) == 1:\n",
    "                    x_best = xx_list[i]\n",
    "\n",
    "        G += 1\n",
    "\n",
    "        s_j = n_s_j / (n_s_j + f_j) + 0.01\n",
    "        s_j_sum += s_j\n",
    "        p_s_j = s_j / s_j_sum\n",
    "        if (((G - 1) * p_j + p_s_j) / G) < 0.5:\n",
    "            p_j = ((G - 1) * p_j + p_s_j) / G\n",
    "\n",
    "    return x_best"
   ],
   "metadata": {
    "collapsed": false,
    "pycharm": {
     "name": "#%%\n"
    }
   }
  },
  {
   "cell_type": "code",
   "execution_count": 197,
   "outputs": [],
   "source": [
    "\"\"\":parameter: for GSK\"\"\"\n",
    "T_GSK = 100\n",
    "GSK_p = 0.1\n",
    "k_f = 0.01   # 0.5\n",
    "k_r = 0.1   # 0.9\n",
    "K = 10"
   ],
   "metadata": {
    "collapsed": false,
    "pycharm": {
     "name": "#%%\n"
    }
   }
  },
  {
   "cell_type": "code",
   "execution_count": 198,
   "outputs": [],
   "source": [
    "def junior(xx_list, r, i, f):\n",
    "    if random.uniform(0, 1) <= k_r:\n",
    "        if f(xx_list[i]) > f(xx_list[r]):\n",
    "            v_delta = np.add(xx_list[i],\n",
    "                             k_f * np.add(np.subtract(xx_list[max(0, i - 1)], xx_list[min(NP - 1, i + 1)]),\n",
    "                                          np.subtract(xx_list[r], xx_list[i])))\n",
    "        else:\n",
    "            v_delta = np.add(xx_list[i],\n",
    "                             k_f * np.add(np.subtract(xx_list[max(0, i - 1)], xx_list[min(NP - 1, i + 1)]),\n",
    "                                          np.subtract(xx_list[i], xx_list[r])))\n",
    "    else:\n",
    "        v_delta = xx_list[i]\n",
    "    return v_delta\n",
    "\n",
    "\n",
    "def senior(xx_list, i, D_junior, f):\n",
    "    if random.uniform(0, 1) <= k_r:\n",
    "        D_senior = NP - D_junior\n",
    "        NP_1 = int(D_senior * GSK_p)\n",
    "        r_list = random.randint(D_junior - 1 + NP_1 * 2, NP - 1)\n",
    "        if max(D_junior - 1 + NP_1, 0) >= max(D_junior - 1 + NP_1 * 2 - 1, 1):\n",
    "            m = max(D_junior - 1 + NP_1, 0) + 1\n",
    "        else:\n",
    "            m = max(D_junior - 1 + NP_1 * 2 - 1, 1)\n",
    "        if max(D_junior - 1, 0) >= max(D_junior - 1 + NP_1 - 1, 1):\n",
    "            n = max(D_junior - 1, 0) + 1\n",
    "        else:\n",
    "            n = max(D_junior - 1 + NP_1 - 1, 1)\n",
    "        x_p_worst = xx_list[index_of_X_worst(xx_list[max(D_junior - 1 + NP_1, 0): m], f)]\n",
    "        x_p_best = xx_list[index_of_X_best(xx_list[max(D_junior - 1, 0): n], f)]\n",
    "        if f(xx_list[i]) > f(xx_list[r_list]):\n",
    "            v_delta = np.add(xx_list[i],\n",
    "                             k_f * np.add(np.subtract(x_p_best, x_p_worst),\n",
    "                                          np.subtract(xx_list[r_list], xx_list[i])))\n",
    "        else:\n",
    "            v_delta = np.add(xx_list[i],\n",
    "                             k_f * np.add(np.subtract(x_p_best, x_p_worst),\n",
    "                                          np.subtract(xx_list[i], xx_list[r_list])))\n",
    "    else:\n",
    "        v_delta = xx_list[i]\n",
    "    return v_delta\n"
   ],
   "metadata": {
    "collapsed": false,
    "pycharm": {
     "name": "#%%\n"
    }
   }
  },
  {
   "cell_type": "code",
   "execution_count": 199,
   "outputs": [],
   "source": [
    "def GSK(f):\n",
    "    \"\"\"\n",
    "    DE algorithm\n",
    "    :param x_list:\n",
    "    :return: best x by DE\n",
    "    \"\"\"\n",
    "    xxx_list = copy.deepcopy(X_list)\n",
    "\n",
    "    x_best = xxx_list[0]\n",
    "    # print(xxx_list[0])\n",
    "    G = 0\n",
    "\n",
    "    while G <= T_GSK:  # iteration of DE\n",
    "        D_junior = int(NP * pow((1 - G / T_GSK), K))\n",
    "\n",
    "        for i in range(NP):  # iteration of generation\n",
    "\n",
    "            u_best = np.empty([Dim])\n",
    "            for j in range(NP):\n",
    "                vj = np.empty([Dim])\n",
    "                r = random.randint(0, NP - 1)\n",
    "                if j <= D_junior:\n",
    "                    vj = junior(xxx_list, r, j, f)\n",
    "                else:\n",
    "                    vj = senior(xxx_list, j, D_junior, f)\n",
    "\n",
    "                vj = compare_max(vj)\n",
    "                vj = compare_min(vj)\n",
    "\n",
    "                if j == 0:\n",
    "                    u_best = vj\n",
    "                else:\n",
    "                    u_best = select_better_fit(u_best, vj, f)\n",
    "\n",
    "                if f(u_best) <= f(xxx_list[i]) and feas(u_best) == 1:\n",
    "                    xxx_list[i] = u_best\n",
    "\n",
    "                if f(xxx_list[i]) < f(x_best) and feas(xxx_list[i]) == 1:\n",
    "                    x_best = xxx_list[i]\n",
    "\n",
    "        G += 1\n",
    "\n",
    "    return x_best\n"
   ],
   "metadata": {
    "collapsed": false,
    "pycharm": {
     "name": "#%%\n"
    }
   }
  },
  {
   "cell_type": "code",
   "execution_count": null,
   "outputs": [
    {
     "name": "stdout",
     "output_type": "stream",
     "text": [
      "f1 761566254471.1373 1269488071042.458 1474574660195.8845 \n",
      "\n",
      "f2 6.73753495360684e+43 2.956838954473452e+49 2.4045354745125263e+56 \n",
      "\n",
      "f3 82362.50535276948 112144.43517856431 37369511.20594927 \n",
      "\n",
      "f4 21164.52419754173 29474.119600044556 51163.57422990109 \n",
      "\n",
      "f5 878.9555663046257 1051.4899729420954 1179.1405101956298 \n",
      "\n",
      "f6 714.5970791209095 748.8813072113387 822.9910152755792 \n",
      "\n",
      "f7 1406.6713415246154 2083.7038519581483 3651.6616293993734 \n",
      "\n",
      "f8 1169.3176793590028 1361.3789122788708 1458.2702610975125 \n",
      "\n",
      "f9 7336.283378307687 16607.661043602606 47442.60313444494 \n",
      "\n",
      "f10 7836.216796868424 9656.771767320568 10647.42762191798 \n",
      "\n",
      "f11 17719.25957646299 67525.79952116031 2905015.0525265136 \n",
      "\n",
      "f12 63022302392.771065 304047145832.0296 391649244640.585 \n",
      "\n",
      "f13 83672205581.68738 160794730818.6815 245162861513.62726 \n",
      "\n",
      "f14 1009841.2704817182 3941819.5113067897 13501994.220653756 \n",
      "\n",
      "f15 1662590461.6409788 28954756561.35118 151486872937.8254 \n",
      "\n",
      "f16 7485.950629568542 9220.842579875181 9769.931696354837 \n",
      "\n"
     ]
    },
    {
     "name": "stderr",
     "output_type": "stream",
     "text": [
      "c:\\users\\chris\\appdata\\local\\programs\\python\\python39\\lib\\site-packages\\cec2017\\basic.py:227: RuntimeWarning: invalid value encountered in true_divide\n",
      "  t = np.abs(tjx - np.round(tjx)) / tj\n"
     ]
    },
    {
     "name": "stdout",
     "output_type": "stream",
     "text": [
      "f17 nan nan nan \n",
      "\n",
      "f18 30172935.064682044 2087570454.4711988 5421080947.363699 \n",
      "\n",
      "f19 1819100658.044816 41310935519.811165 141238654622.08804 \n",
      "\n",
      "f20 nan nan nan \n",
      "\n",
      "f21 2764.6582094734995 2942.0655243525985 3071.5124336415315 \n",
      "\n"
     ]
    }
   ],
   "source": [
    "import os\n",
    "i = 0\n",
    "test_list = np.empty([len(functions.all_functions), 3])\n",
    "test_path = r'D:\\profile\\codes\\python_projects\\ocp\\test\\output\\D30_cpu'\n",
    "for i in range(51):\n",
    "    for f in functions.all_functions:\n",
    "        x_best_DE_fit = 0\n",
    "        x_best_AGDE_fit = 0\n",
    "        x_best_GSK_fit = 0\n",
    "        x_best_DE_fit = f(DE(f))\n",
    "        x_best_AGDE_fit = f(AGDE(f))\n",
    "        x_best_GSK_fit = f(GSK(f))\n",
    "        print(f.__name__, x_best_DE_fit, x_best_AGDE_fit, x_best_GSK_fit, \"\\n\")\n",
    "        test_list[i][0] = x_best_DE_fit\n",
    "        test_list[i][1] = x_best_AGDE_fit\n",
    "        test_list[i][2] = x_best_GSK_fit\n",
    "\n",
    "    i += 1\n",
    "    np.savetxt(os.path.join(test_path, str(i) + \"\\n\"), test_list)\n",
    "\n",
    "\n"
   ],
   "metadata": {
    "collapsed": false,
    "pycharm": {
     "name": "#%%\n",
     "is_executing": true
    }
   }
  },
  {
   "cell_type": "code",
   "execution_count": null,
   "outputs": [],
   "source": [
    "import cec2017.utils as utils\n",
    "for f in functions.all_functions:\n",
    "    utils.surface_plot(f, points=120, dimension=Dim)"
   ],
   "metadata": {
    "collapsed": false,
    "pycharm": {
     "name": "#%%\n",
     "is_executing": true
    }
   }
  }
 ],
 "metadata": {
  "kernelspec": {
   "display_name": "Python 3",
   "language": "python",
   "name": "python3"
  },
  "language_info": {
   "codemirror_mode": {
    "name": "ipython",
    "version": 2
   },
   "file_extension": ".py",
   "mimetype": "text/x-python",
   "name": "python",
   "nbconvert_exporter": "python",
   "pygments_lexer": "ipython2",
   "version": "2.7.6"
  }
 },
 "nbformat": 4,
 "nbformat_minor": 0
}