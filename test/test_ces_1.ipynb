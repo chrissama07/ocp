{
 "cells": [
  {
   "cell_type": "code",
   "execution_count": 81,
   "metadata": {
    "collapsed": true,
    "pycharm": {
     "name": "#%%\n"
    }
   },
   "outputs": [],
   "source": [
    "import random\n",
    "import numpy as np\n",
    "import cec2017.functions as functions\n",
    "import copy"
   ]
  },
  {
   "cell_type": "code",
   "execution_count": 82,
   "outputs": [],
   "source": [
    "Dim = 30\n",
    "NP = 100\n",
    "bound = 100"
   ],
   "metadata": {
    "collapsed": false,
    "pycharm": {
     "name": "#%%\n"
    }
   }
  },
  {
   "cell_type": "code",
   "execution_count": 83,
   "outputs": [
    {
     "data": {
      "text/plain": "array([[-35.54321502,   1.11808898,  13.15900065, ...,  63.3312991 ,\n        -28.65594184, -11.57223154],\n       [-48.38246557, -75.21427591,  74.62734459, ...,  74.16102899,\n        -65.76173362,  49.92100365],\n       [-65.81269737,  42.50763421,  72.82172921, ...,  15.06945483,\n        -26.67896521,  44.75117879],\n       ...,\n       [ 90.07155656,  52.87171607,  42.47114436, ..., -45.16575696,\n         35.8333904 ,  79.37212529],\n       [ 64.78390671, -27.0912336 , -28.61543085, ..., -49.78214807,\n         72.74739115,  64.31402017],\n       [-87.46367516,  -3.22310038,  23.9262236 , ...,  37.87494378,\n         35.41253609, -21.49064606]])"
     },
     "execution_count": 83,
     "metadata": {},
     "output_type": "execute_result"
    }
   ],
   "source": [
    "X = np.random.uniform(low=-bound, high=bound, size=Dim)\n",
    "X_min = X.min()\n",
    "X_max = X.max()\n",
    "X_list = np.empty([NP, Dim])\n",
    "for i in range(NP):\n",
    "    for j in range(Dim):\n",
    "        X_list[i][j] = X_min + random.uniform(0, 1) * (X_max - X_min)\n",
    "\n",
    "X_list"
   ],
   "metadata": {
    "collapsed": false,
    "pycharm": {
     "name": "#%%\n"
    }
   }
  },
  {
   "cell_type": "code",
   "execution_count": 84,
   "outputs": [],
   "source": [
    "\"\"\":parameter for DE\"\"\"\n",
    "T_DE = 100\n",
    "no = 5\n",
    "CR = 0.9  # rate of crossover\n",
    "\n",
    "\"\"\":parameter for MMS\"\"\"\n",
    "mms_e = 0.000001\n",
    "mms_F = 0.5"
   ],
   "metadata": {
    "collapsed": false,
    "pycharm": {
     "name": "#%%\n"
    }
   }
  },
  {
   "cell_type": "code",
   "execution_count": 85,
   "outputs": [],
   "source": [
    "\"\"\":parameter k and F: for current/rand/1\"\"\"\n",
    "k = 0.3\n",
    "F = 0.5"
   ],
   "metadata": {
    "collapsed": false,
    "pycharm": {
     "name": "#%%\n"
    }
   }
  },
  {
   "cell_type": "code",
   "execution_count": 86,
   "outputs": [],
   "source": [
    "\"\"\":parameter for crossoverSBX\"\"\"\n",
    "sbx_n = 10"
   ],
   "metadata": {
    "collapsed": false,
    "pycharm": {
     "name": "#%%\n"
    }
   }
  },
  {
   "cell_type": "code",
   "execution_count": 87,
   "outputs": [],
   "source": [
    "# f = functions.f1"
   ],
   "metadata": {
    "collapsed": false,
    "pycharm": {
     "name": "#%%\n"
    }
   }
  },
  {
   "cell_type": "code",
   "execution_count": 88,
   "outputs": [],
   "source": [
    "def feas(x):\n",
    "    if x.max() <= bound and x.min() >= -bound:\n",
    "        return 1\n",
    "    else:\n",
    "        return 0"
   ],
   "metadata": {
    "collapsed": false,
    "pycharm": {
     "name": "#%%\n"
    }
   }
  },
  {
   "cell_type": "code",
   "execution_count": 89,
   "outputs": [],
   "source": [
    "def select_better_fit(x1, x2, f):\n",
    "    if f(x1) <= f(x2):\n",
    "        return x1\n",
    "    else:\n",
    "        return x2"
   ],
   "metadata": {
    "collapsed": false,
    "pycharm": {
     "name": "#%%\n"
    }
   }
  },
  {
   "cell_type": "code",
   "execution_count": 90,
   "outputs": [],
   "source": [
    "def current_to_rand(x_list, r1, r2, r3, i):\n",
    "    return np.add(x_list[i], k * np.subtract(x_list[r1], x_list[i]), F * np.subtract(x_list[r2], x_list[r3]))"
   ],
   "metadata": {
    "collapsed": false,
    "pycharm": {
     "name": "#%%\n"
    }
   }
  },
  {
   "cell_type": "code",
   "execution_count": 91,
   "outputs": [],
   "source": [
    "def immsade(xx_list, r1, r2, r3):\n",
    "    immsade_omega = random.uniform(0.7, 1.0)\n",
    "    immsade_F = random.uniform(0.5, 0.8)\n",
    "    v_delta = np.add(np.multiply(immsade_omega, xx_list[r1]),\n",
    "                     immsade_F * np.subtract(xx_list[r2], xx_list[r3]))\n",
    "    v_delta = np.maximum(v_delta, -100)\n",
    "    v_delta = np.minimum(v_delta, 100)\n",
    "    return v_delta"
   ],
   "metadata": {
    "collapsed": false,
    "pycharm": {
     "name": "#%%\n"
    }
   }
  },
  {
   "cell_type": "code",
   "execution_count": 92,
   "outputs": [],
   "source": [
    "def crossover_SBX(x_i, v_j, f):\n",
    "    beta = 0\n",
    "    while isinstance(beta, complex):\n",
    "        sbx_rand = random.random()\n",
    "        if sbx_rand <= 0.5:\n",
    "            beta = (2 * sbx_rand) ** (1 / (1 + sbx_n))\n",
    "        else:\n",
    "            beta = (1 / (2 - sbx_n * 2)) ** (1 / (1 + sbx_n))\n",
    "\n",
    "    c1 = 0.5 * np.add((1 + beta) * x_i, (1 - beta) * v_j)  # crossover\n",
    "    c2 = 0.5 * np.add((1 - beta) * x_i, (1 + beta) * v_j)\n",
    "    return select_better_fit(c1, c2, f)"
   ],
   "metadata": {
    "collapsed": false,
    "pycharm": {
     "name": "#%%\n"
    }
   }
  },
  {
   "cell_type": "code",
   "execution_count": 93,
   "outputs": [],
   "source": [
    "def DE(f):\n",
    "    x_list = copy.deepcopy(X_list)\n",
    "    x_best = x_list[0]\n",
    "    # print(x_list[0])\n",
    "\n",
    "    t = 1\n",
    "    while t <= T_DE:\n",
    "        for i in range(NP):\n",
    "            u_best = np.empty([Dim])\n",
    "            for j in range(Dim):\n",
    "                r_list = random.sample(range(NP), 5)\n",
    "                for m in range(no):\n",
    "                    while r_list[m] == i:\n",
    "                        r_list[m] = random.randint(0, Dim - 1)\n",
    "\n",
    "                v_j = np.empty([Dim])\n",
    "                v_j = immsade(x_list, r_list[1], r_list[2], r_list[3])\n",
    "\n",
    "                cr_rand = random.random()\n",
    "                if cr_rand <= CR:\n",
    "                    u_j = crossover_SBX(x_list[i], v_j, f)\n",
    "                else:\n",
    "                    u_j = x_list[i]\n",
    "\n",
    "                if j == 0:\n",
    "                    u_best = u_j\n",
    "                else:\n",
    "                    u_best = select_better_fit(u_best, u_j, f)\n",
    "\n",
    "                if f(u_best) <= f(x_list[i]) and feas(u_best) == 1:\n",
    "                    x_list[i] = u_best\n",
    "\n",
    "                if f(x_list[i]) < f(x_best) and feas(x_list[i]) == 1:\n",
    "                    x_best = x_list[i]\n",
    "\n",
    "        t += 1\n",
    "    return x_best\n"
   ],
   "metadata": {
    "collapsed": false,
    "pycharm": {
     "name": "#%%\n"
    }
   }
  },
  {
   "cell_type": "code",
   "execution_count": 94,
   "outputs": [],
   "source": [
    "\"\"\":parameter: for AGDE\"\"\"\n",
    "T_AGDE = 100"
   ],
   "metadata": {
    "collapsed": false,
    "pycharm": {
     "name": "#%%\n"
    }
   }
  },
  {
   "cell_type": "code",
   "execution_count": 95,
   "outputs": [],
   "source": [
    "def index_of_X_best(xx_list, f):\n",
    "    index = 0\n",
    "    min_fit = f(xx_list[0])\n",
    "    for i in range(len(xx_list)):\n",
    "        if f(xx_list[i]) < min_fit:\n",
    "            index = i\n",
    "            min_fit = f(xx_list[i])\n",
    "    return index\n",
    "\n",
    "\n",
    "def index_of_X_worst(xx_list, f):\n",
    "    index = 0\n",
    "    max_fit = f(xx_list[0])\n",
    "    for i in range(len(xx_list)):\n",
    "        if f(xx_list[i]) > max_fit:\n",
    "            index = i\n",
    "            max_fit = f(xx_list[i])\n",
    "    return index\n",
    "\n",
    "\n",
    "def compare_max(delta):\n",
    "    \"\"\"\n",
    "    lower bound\n",
    "    :param delta: delta\n",
    "    :return: turn into lower bound delta\n",
    "    \"\"\"\n",
    "\n",
    "    em = np.linspace(-100, -100, Dim)\n",
    "    delta = np.maximum(delta, em)\n",
    "    return delta\n",
    "\n",
    "\n",
    "def compare_min(delta):\n",
    "    on = np.linspace(100, 100, Dim)\n",
    "    delta = np.minimum(delta, on)\n",
    "    # for i in range(len(delta)):\n",
    "    #     delta[i] = min(delta[i], 1)\n",
    "    return delta\n",
    "\n",
    "def agde(xx_list, agde_F, agde_p, f):\n",
    "    agde_NP = int(NP * agde_p)\n",
    "    r_list = random.randint(agde_NP * 2 - 1, NP - 1)\n",
    "    x_p_worst = xx_list[index_of_X_worst(xx_list[agde_NP: agde_NP * 2 - 1], f)]\n",
    "    x_p_best = xx_list[index_of_X_best(xx_list[: agde_NP - 1], f)]\n",
    "    v_delta = np.add(xx_list[r_list], np.multiply(agde_F, np.subtract(x_p_best, x_p_worst)))\n",
    "    return v_delta"
   ],
   "metadata": {
    "collapsed": false,
    "pycharm": {
     "name": "#%%\n"
    }
   }
  },
  {
   "cell_type": "code",
   "execution_count": 96,
   "outputs": [],
   "source": [
    "def AGDE(f):\n",
    "    xx_list = copy.deepcopy(X_list)\n",
    "    x_best = xx_list[0]\n",
    "    # print(xx_list[0])\n",
    "\n",
    "    G = 0\n",
    "    p_j = 0.5\n",
    "    s_j_sum = 0\n",
    "    while G <= T_AGDE:  # iteration of DE\n",
    "        n_s_j = 0\n",
    "        f_j = 1\n",
    "        for i in range(NP):  # iteration of generation\n",
    "            agde_F = random.uniform(0.1, 1)\n",
    "            Cr = 0\n",
    "            if G == 1:\n",
    "                if random.uniform(0, 1) <= 0.5:\n",
    "                    Cr = random.uniform(0.05, 0.15)\n",
    "                else:\n",
    "                    Cr = random.uniform(0.9, 1)\n",
    "            else:\n",
    "                if random.uniform(0, 1) <= p_j:\n",
    "                    Cr = random.uniform(0.05, 0.15)\n",
    "                else:\n",
    "                    Cr = random.uniform(0.9, 1)\n",
    "            j_random = random.randint(1, NP)\n",
    "\n",
    "            u_best = np.empty([Dim])\n",
    "            for j in range(Dim):\n",
    "                vj = agde(xx_list, agde_F, p_j, f)\n",
    "                vj = compare_max(vj)\n",
    "                vj = compare_min(vj)\n",
    "                if random.uniform(0, 1) < Cr or j == j_random:\n",
    "                    u_j = crossover_SBX(xx_list[i], vj, f)\n",
    "                else:\n",
    "                    u_j = xx_list[i]\n",
    "\n",
    "                if j == 0:\n",
    "                    u_best = u_j\n",
    "                else:\n",
    "                    u_best = select_better_fit(u_best, u_j, f)\n",
    "\n",
    "                if f(u_best) <= f(xx_list[i]) and feas(u_best) == 1:\n",
    "                    xx_list[i] = u_best\n",
    "\n",
    "                if f(xx_list[i]) < f(x_best) and feas(xx_list[i]) == 1:\n",
    "                    x_best = xx_list[i]\n",
    "\n",
    "        G += 1\n",
    "\n",
    "        s_j = n_s_j / (n_s_j + f_j) + 0.01\n",
    "        s_j_sum += s_j\n",
    "        p_s_j = s_j / s_j_sum\n",
    "        if (((G - 1) * p_j + p_s_j) / G) < 0.5:\n",
    "            p_j = ((G - 1) * p_j + p_s_j) / G\n",
    "\n",
    "    return x_best"
   ],
   "metadata": {
    "collapsed": false,
    "pycharm": {
     "name": "#%%\n"
    }
   }
  },
  {
   "cell_type": "code",
   "execution_count": 97,
   "outputs": [],
   "source": [
    "\"\"\":parameter: for GSK\"\"\"\n",
    "T_GSK = 100\n",
    "GSK_p = 0.1\n",
    "k_f = 0.01   # 0.5\n",
    "k_r = 0.1   # 0.9\n",
    "K = 10"
   ],
   "metadata": {
    "collapsed": false,
    "pycharm": {
     "name": "#%%\n"
    }
   }
  },
  {
   "cell_type": "code",
   "execution_count": 98,
   "outputs": [],
   "source": [
    "def junior(xx_list, r, i, f):\n",
    "    if random.uniform(0, 1) <= k_r:\n",
    "        if f(xx_list[i]) > f(xx_list[r]):\n",
    "            v_delta = np.add(xx_list[i],\n",
    "                             k_f * np.add(np.subtract(xx_list[max(0, i - 1)], xx_list[min(NP - 1, i + 1)]),\n",
    "                                          np.subtract(xx_list[r], xx_list[i])))\n",
    "        else:\n",
    "            v_delta = np.add(xx_list[i],\n",
    "                             k_f * np.add(np.subtract(xx_list[max(0, i - 1)], xx_list[min(NP - 1, i + 1)]),\n",
    "                                          np.subtract(xx_list[i], xx_list[r])))\n",
    "    else:\n",
    "        v_delta = xx_list[i]\n",
    "    return v_delta\n",
    "\n",
    "\n",
    "def senior(xx_list, i, D_junior, f):\n",
    "    if random.uniform(0, 1) <= k_r:\n",
    "        D_senior = NP - D_junior\n",
    "        NP_1 = int(D_senior * GSK_p)\n",
    "        r_list = random.randint(D_junior - 1 + NP_1 * 2, NP - 1)\n",
    "        x_p_worst = xx_list[index_of_X_worst(xx_list[D_junior - 1 + NP_1: D_junior - 1 + NP_1 * 2 - 1], f)]\n",
    "        x_p_best = xx_list[index_of_X_best(xx_list[max(D_junior - 1, 0): D_junior - 1 + NP_1 - 1], f)]\n",
    "        if f(xx_list[i]) > f(xx_list[r_list]):\n",
    "            v_delta = np.add(xx_list[i],\n",
    "                             k_f * np.add(np.subtract(x_p_best, x_p_worst),\n",
    "                                          np.subtract(xx_list[r_list], xx_list[i])))\n",
    "        else:\n",
    "            v_delta = np.add(xx_list[i],\n",
    "                             k_f * np.add(np.subtract(x_p_best, x_p_worst),\n",
    "                                          np.subtract(xx_list[i], xx_list[r_list])))\n",
    "    else:\n",
    "        v_delta = xx_list[i]\n",
    "    return v_delta"
   ],
   "metadata": {
    "collapsed": false,
    "pycharm": {
     "name": "#%%\n"
    }
   }
  },
  {
   "cell_type": "code",
   "execution_count": 99,
   "outputs": [],
   "source": [
    "def GSK(f):\n",
    "    \"\"\"\n",
    "    DE algorithm\n",
    "    :param x_list:\n",
    "    :return: best x by DE\n",
    "    \"\"\"\n",
    "    xxx_list = copy.deepcopy(X_list)\n",
    "\n",
    "    x_best = xxx_list[0]\n",
    "    # print(xxx_list[0])\n",
    "    G = 0\n",
    "\n",
    "    while G <= T_GSK:  # iteration of DE\n",
    "        D_junior = int(NP * pow((1 - G / T_GSK), K))\n",
    "\n",
    "        for i in range(NP):  # iteration of generation\n",
    "\n",
    "            u_best = np.empty([Dim])\n",
    "            for j in range(Dim):\n",
    "                vj = np.empty([Dim])\n",
    "                r = random.randint(0, NP - 1)\n",
    "                if j <= D_junior:\n",
    "                    vj = junior(xxx_list, r, j, f)\n",
    "                else:\n",
    "                    vj = senior(xxx_list, j, D_junior, f)\n",
    "\n",
    "                vj = compare_max(vj)\n",
    "                vj = compare_min(vj)\n",
    "\n",
    "                if j == 0:\n",
    "                    u_best = vj\n",
    "                else:\n",
    "                    u_best = select_better_fit(u_best, vj, f)\n",
    "\n",
    "                if f(u_best) <= f(xxx_list[i]) and feas(u_best) == 1:\n",
    "                    xxx_list[i] = u_best\n",
    "\n",
    "                if f(xxx_list[i]) < f(x_best) and feas(xxx_list[i]) == 1:\n",
    "                    x_best = xxx_list[i]\n",
    "\n",
    "        G += 1\n",
    "\n",
    "    return x_best\n"
   ],
   "metadata": {
    "collapsed": false,
    "pycharm": {
     "name": "#%%\n"
    }
   }
  },
  {
   "cell_type": "code",
   "execution_count": null,
   "outputs": [
    {
     "name": "stdout",
     "output_type": "stream",
     "text": [
      "f1 109435434299.20612 531640029811.3256 1349715541503.2996 \n",
      "\n",
      "f2 1.349911553687143e+31 9.855765313602567e+43 2.2399441390760688e+46 \n",
      "\n",
      "f3 43155.97937580376 59230.18523479779 218973.3748128256 \n",
      "\n",
      "f4 1737.2590443524841 6975.91124240426 16881.272409884947 \n",
      "\n",
      "f5 667.4662938130336 945.1664078599492 1176.1054496312815 \n",
      "\n",
      "f6 661.0034778506084 703.6071856853891 766.7838398551588 \n",
      "\n",
      "f7 1004.4907474697447 2065.590562118915 3249.68353498548 \n",
      "\n",
      "f8 994.0249235070938 1090.1527963545586 1254.906636854534 \n",
      "\n",
      "f9 3366.22865584563 7921.469797334585 34161.14702622843 \n",
      "\n",
      "f10 6130.697833290114 7558.940824803381 10045.896960631111 \n",
      "\n",
      "f11 5313.366573086167 8283.469842312956 39164.44571363688 \n",
      "\n",
      "f12 6053753532.03842 55312562226.75439 167285313980.8411 \n",
      "\n",
      "f13 1922020497.3755467 128789295021.31244 255162558923.79865 \n",
      "\n",
      "f14 698025.2507922259 104990.38119745757 21449611.13316221 \n",
      "\n",
      "f15 23818845.69869695 4750354820.417643 53223610066.28072 \n",
      "\n",
      "f16 3023.7988787234103 4982.075226032086 8205.702903072399 \n",
      "\n"
     ]
    },
    {
     "name": "stderr",
     "output_type": "stream",
     "text": [
      "c:\\users\\chris\\appdata\\local\\programs\\python\\python39\\lib\\site-packages\\cec2017\\basic.py:227: RuntimeWarning: invalid value encountered in true_divide\n",
      "  t = np.abs(tjx - np.round(tjx)) / tj\n"
     ]
    },
    {
     "name": "stdout",
     "output_type": "stream",
     "text": [
      "f17 nan nan nan \n",
      "\n",
      "f18 225421.12517844583 17169120.649721943 160679350.5454473 \n",
      "\n",
      "f19 23912370.445084326 3550660224.8850775 52204580143.53042 \n",
      "\n",
      "f20 nan nan nan \n",
      "\n",
      "f21 2460.81115470609 2612.815325170474 2895.1127372372475 \n",
      "\n"
     ]
    }
   ],
   "source": [
    "import os\n",
    "i = 0\n",
    "test_list = np.empty([len(functions.all_functions), 3])\n",
    "test_path = r'D:\\profile\\codes\\python_projects\\ocp\\test\\output\\D30_cpu'\n",
    "for i in range(51):\n",
    "    for f in functions.all_functions:\n",
    "        x_best_DE_fit = 0\n",
    "        x_best_AGDE_fit = 0\n",
    "        x_best_GSK_fit = 0\n",
    "        x_best_DE_fit = f(DE(f))\n",
    "        x_best_AGDE_fit = f(AGDE(f))\n",
    "        x_best_GSK_fit = f(GSK(f))\n",
    "        print(f.__name__, x_best_DE_fit, x_best_AGDE_fit, x_best_GSK_fit, \"\\n\")\n",
    "        test_list[i][0] = x_best_DE_fit\n",
    "        test_list[i][1] = x_best_AGDE_fit\n",
    "        test_list[i][2] = x_best_GSK_fit\n",
    "        i += 1\n",
    "    np.savetxt(os.path.join(test_path, str(i) + \".txt\"), test_list)\n",
    "\n",
    "\n"
   ],
   "metadata": {
    "collapsed": false,
    "pycharm": {
     "name": "#%%\n",
     "is_executing": true
    }
   }
  },
  {
   "cell_type": "code",
   "execution_count": null,
   "outputs": [],
   "source": [
    "import cec2017.utils as utils\n",
    "for f in functions.all_functions:\n",
    "    utils.surface_plot(f, points=120, dimension=Dim)"
   ],
   "metadata": {
    "collapsed": false,
    "pycharm": {
     "name": "#%%\n",
     "is_executing": true
    }
   }
  }
 ],
 "metadata": {
  "kernelspec": {
   "display_name": "Python 3",
   "language": "python",
   "name": "python3"
  },
  "language_info": {
   "codemirror_mode": {
    "name": "ipython",
    "version": 2
   },
   "file_extension": ".py",
   "mimetype": "text/x-python",
   "name": "python",
   "nbconvert_exporter": "python",
   "pygments_lexer": "ipython2",
   "version": "2.7.6"
  }
 },
 "nbformat": 4,
 "nbformat_minor": 0
}