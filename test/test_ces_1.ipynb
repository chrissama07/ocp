{
 "cells": [
  {
   "cell_type": "code",
   "execution_count": 241,
   "metadata": {
    "collapsed": true,
    "pycharm": {
     "name": "#%%\n"
    }
   },
   "outputs": [],
   "source": [
    "import random\n",
    "import numpy as np\n",
    "import cec2017.functions as functions\n",
    "import copy"
   ]
  },
  {
   "cell_type": "code",
   "execution_count": 242,
   "outputs": [],
   "source": [
    "Dim = 30\n",
    "NP = 10\n",
    "bound = 100"
   ],
   "metadata": {
    "collapsed": false,
    "pycharm": {
     "name": "#%%\n"
    }
   }
  },
  {
   "cell_type": "code",
   "execution_count": 243,
   "outputs": [
    {
     "data": {
      "text/plain": "array([[-80.17383239, -79.55960001,   5.82370064, -71.68765087,\n        -52.08137359,  57.08892583,   0.82136083, -18.59364113,\n        -92.77823065, -75.52707797, -45.99769177,  62.35067837,\n          0.47083654,  36.1686615 ,  -8.26246774, -39.20970909,\n         84.99552533, -85.83207003, -62.17732831,  -5.19968054,\n         12.51478033,  78.59214482, -37.59494199,  30.50102344,\n          9.60456023, -58.39750653, -26.60693509, -54.14935995,\n        -58.27939366,  24.62687169],\n       [ 91.6105328 ,  62.56214389, -50.85079341, -68.50172407,\n        -11.21690608, -47.96493971,  60.20563601, -67.15181612,\n         70.73765494,  78.18758656,  38.77165509,  -6.81062331,\n        -32.28391794, -79.85923514, -74.04907759,  68.09206771,\n        -95.32654506,  16.86245121,  72.15012367,  68.50937789,\n         65.63226918, -41.42764311, -81.22358254,  66.93991234,\n         46.65910191, -82.29035742, -44.45002574,  52.3531541 ,\n         69.10183882, -64.72185045],\n       [-31.30406934,  44.52139792,  28.06467655,  86.17982927,\n         55.16225417,  -8.67513693, -75.27881386,  15.82136324,\n        -17.09597205,  86.34857892,  -8.46103154, -60.125445  ,\n         44.19770816, -26.03859776, -83.59111798,  57.90244183,\n        -33.10056209, -17.32890442,  80.05489803,  18.47921648,\n        -61.59729806, -90.134957  ,  75.81018214, -86.89931425,\n        -15.18747795,  61.14649251, -44.51885174,  31.29362454,\n        -81.54867918, -14.38801607],\n       [-29.12325929, -54.43541872,  21.42297769, -58.90715041,\n        -76.19466284,  75.58061257,  28.16830478,  54.02921349,\n         51.3169299 , -18.28617168,  74.92094385,  18.18914397,\n        -25.58498674, -79.17443407, -54.19844665, -72.91078333,\n         26.40920226, -66.68493439, -27.72913287,  27.60101459,\n        -24.46891934,  63.5479377 ,   6.84343494, -34.8163416 ,\n         22.34930372,  17.35507085,  54.86646947,  47.79292392,\n         -1.04023341, -95.02429931],\n       [ 49.89103491, -60.86006653, -82.37872034,  79.00467813,\n         -8.77167881, -62.23789192, -23.05196289,  79.24373953,\n         53.56452102,  52.54529164, -68.11284549, -93.66923813,\n         -4.52358243, -76.64294521,  54.15497731, -44.17293005,\n         34.03708132,  69.84036218, -43.55687529,  -6.82498606,\n        -61.63644659, -30.57420839,  20.71571321, -65.48117128,\n         14.91892159,  89.62644514, -14.0609847 ,  14.47539903,\n        -59.16383402,   7.78046772],\n       [ 18.71350541, -56.44939841,  69.38278091, -27.00549428,\n          9.13911777,  52.05836499, -64.18891939,   3.47886092,\n        -13.57549937,  62.53576442,  39.00679508,  -6.49724689,\n        -57.74976577,  55.01511828,   3.39879655,  -4.17157675,\n         31.96461906, -26.03631419, -11.53691223, -73.17007641,\n         54.41556967,  24.53439692, -58.12628281,  86.91145239,\n         82.78726617, -60.6090689 ,   3.8694077 , -40.06516974,\n        -39.49833799, -19.62483232],\n       [-32.63445462,  32.78728947, -74.02987905,  -2.81700356,\n         55.93577223, -59.66321759,  65.92269325,  80.2013272 ,\n         72.60718049, -95.84386043,  28.17031545, -18.48916632,\n        -51.11353004, -48.73338219,   8.58407439, -85.83219144,\n          9.21389021, -16.41678395, -34.81943699,  66.33597113,\n         11.22618548, -29.61338761,  31.42163211,  38.37107214,\n        -45.26863418, -79.08933137,  84.24038162, -53.66697485,\n         12.65288327,  75.16795651],\n       [-66.3531242 , -47.40049618, -72.12032969,  87.75541304,\n        -87.53134745,  80.15910401, -21.31419901, -93.50263469,\n         39.10998521,   3.78216039, -19.45861508,  -1.42636284,\n         40.10255607,   6.6654907 ,  21.52574216, -66.491195  ,\n         51.84076948, -73.94921442, -25.35253542,  -3.71028523,\n         18.72028226, -91.90895376,  74.01519148,   8.82529985,\n        -28.66106668, -89.52640437,  57.43013314,  28.96723704,\n         43.23665966,  86.35546406],\n       [ 89.17338797, -85.23842152, -68.1031268 ,  32.26647319,\n        -16.34262522,  67.95002477, -21.66383773, -89.05964677,\n         60.45114304, -83.69951804,  21.21222534, -29.95989394,\n        -33.48518468, -15.06095715, -60.3870137 , -73.14520445,\n          4.80159345,  65.87911236, -48.77354152,  29.22061293,\n        -77.46143751, -31.94885389, -88.70395072,  33.08947149,\n         41.94309012, -58.76106331, -40.589481  ,  58.30519596,\n        -28.96577285,  20.73534543],\n       [-42.72041494, -67.09948149,  46.12817904, -19.61114306,\n         58.93016414,  81.75282893, -77.99530856, -66.53165322,\n         -9.02833916,  65.23520445, -36.50456321, -13.28708803,\n         88.61036795,  76.88070501,  60.67755896,  73.0082098 ,\n        -39.05245309,  73.41970621,  10.06453536,  70.20391071,\n         15.59714228, -67.90817059, -22.42995874, -23.08618672,\n         49.9819916 , -39.38613651, -90.06715733, -24.17803163,\n         36.70681367, -22.48401862]])"
     },
     "execution_count": 243,
     "metadata": {},
     "output_type": "execute_result"
    }
   ],
   "source": [
    "X = np.random.uniform(low=-bound, high=bound, size=Dim)\n",
    "X_min = X.min()\n",
    "X_max = X.max()\n",
    "X_list = np.empty([NP, Dim])\n",
    "for i in range(NP):\n",
    "    for j in range(Dim):\n",
    "        X_list[i][j] = X_min + random.uniform(0, 1) * (X_max - X_min)\n",
    "\n",
    "X_list"
   ],
   "metadata": {
    "collapsed": false,
    "pycharm": {
     "name": "#%%\n"
    }
   }
  },
  {
   "cell_type": "code",
   "execution_count": 244,
   "outputs": [],
   "source": [
    "\"\"\":parameter for DE\"\"\"\n",
    "T_DE = 100\n",
    "no = 5\n",
    "CR = 0.9  # rate of crossover\n",
    "\n",
    "\"\"\":parameter for MMS\"\"\"\n",
    "mms_e = 0.000001\n",
    "mms_F = 0.5"
   ],
   "metadata": {
    "collapsed": false,
    "pycharm": {
     "name": "#%%\n"
    }
   }
  },
  {
   "cell_type": "code",
   "execution_count": 245,
   "outputs": [],
   "source": [
    "\"\"\":parameter k and F: for current/rand/1\"\"\"\n",
    "k = 0.3\n",
    "F = 0.5"
   ],
   "metadata": {
    "collapsed": false,
    "pycharm": {
     "name": "#%%\n"
    }
   }
  },
  {
   "cell_type": "code",
   "execution_count": 246,
   "outputs": [],
   "source": [
    "\"\"\":parameter for crossoverSBX\"\"\"\n",
    "sbx_n = 10"
   ],
   "metadata": {
    "collapsed": false,
    "pycharm": {
     "name": "#%%\n"
    }
   }
  },
  {
   "cell_type": "code",
   "execution_count": 247,
   "outputs": [],
   "source": [
    "# f = functions.f1"
   ],
   "metadata": {
    "collapsed": false,
    "pycharm": {
     "name": "#%%\n"
    }
   }
  },
  {
   "cell_type": "code",
   "execution_count": 248,
   "outputs": [],
   "source": [
    "def feas(x):\n",
    "    if x.max() <= bound and x.min() >= -bound:\n",
    "        return 1\n",
    "    else:\n",
    "        return 0"
   ],
   "metadata": {
    "collapsed": false,
    "pycharm": {
     "name": "#%%\n"
    }
   }
  },
  {
   "cell_type": "code",
   "execution_count": 249,
   "outputs": [],
   "source": [
    "def select_better_fit(x1, x2, f):\n",
    "    if f(x1) <= f(x2):\n",
    "        return x1\n",
    "    else:\n",
    "        return x2"
   ],
   "metadata": {
    "collapsed": false,
    "pycharm": {
     "name": "#%%\n"
    }
   }
  },
  {
   "cell_type": "code",
   "execution_count": 250,
   "outputs": [],
   "source": [
    "def current_to_rand(x_list, r1, r2, r3, i):\n",
    "    return np.add(x_list[i], k * np.subtract(x_list[r1], x_list[i]), F * np.subtract(x_list[r2], x_list[r3]))"
   ],
   "metadata": {
    "collapsed": false,
    "pycharm": {
     "name": "#%%\n"
    }
   }
  },
  {
   "cell_type": "code",
   "execution_count": 251,
   "outputs": [],
   "source": [
    "def immsade(xx_list, r1, r2, r3):\n",
    "    immsade_omega = random.uniform(0.7, 1.0)\n",
    "    immsade_F = random.uniform(0.5, 0.8)\n",
    "    v_delta = np.add(np.multiply(immsade_omega, xx_list[r1]),\n",
    "                     immsade_F * np.subtract(xx_list[r2], xx_list[r3]))\n",
    "    v_delta = np.maximum(v_delta, -100)\n",
    "    v_delta = np.minimum(v_delta, 100)\n",
    "    return v_delta"
   ],
   "metadata": {
    "collapsed": false,
    "pycharm": {
     "name": "#%%\n"
    }
   }
  },
  {
   "cell_type": "code",
   "execution_count": 252,
   "outputs": [],
   "source": [
    "def crossover_SBX(x_i, v_j, f):\n",
    "    beta = 0\n",
    "    while isinstance(beta, complex):\n",
    "        sbx_rand = random.random()\n",
    "        if sbx_rand <= 0.5:\n",
    "            beta = (2 * sbx_rand) ** (1 / (1 + sbx_n))\n",
    "        else:\n",
    "            beta = (1 / (2 - sbx_n * 2)) ** (1 / (1 + sbx_n))\n",
    "\n",
    "    c1 = 0.5 * np.add((1 + beta) * x_i, (1 - beta) * v_j)  # crossover\n",
    "    c2 = 0.5 * np.add((1 - beta) * x_i, (1 + beta) * v_j)\n",
    "    return select_better_fit(c1, c2, f)"
   ],
   "metadata": {
    "collapsed": false,
    "pycharm": {
     "name": "#%%\n"
    }
   }
  },
  {
   "cell_type": "code",
   "execution_count": 253,
   "outputs": [],
   "source": [
    "def DE(f):\n",
    "    x_list = copy.deepcopy(X_list)\n",
    "    x_best = x_list[0]\n",
    "    # print(x_list[0])\n",
    "\n",
    "    t = 1\n",
    "    while t <= T_DE:\n",
    "        for i in range(NP):\n",
    "            u_best = np.empty([Dim])\n",
    "            for j in range(Dim):\n",
    "                r_list = random.sample(range(NP), 5)\n",
    "                for m in range(no):\n",
    "                    while r_list[m] == i:\n",
    "                        # r_list[m] = random.randint(0, Dim - 1)\n",
    "                        r_list[m] = random.randint(0, NP - 1)\n",
    "\n",
    "                v_j = np.empty([Dim])\n",
    "                v_j = immsade(x_list, r_list[1], r_list[2], r_list[3])\n",
    "\n",
    "                cr_rand = random.random()\n",
    "                if cr_rand <= CR:\n",
    "                    u_j = crossover_SBX(x_list[i], v_j, f)\n",
    "                else:\n",
    "                    u_j = x_list[i]\n",
    "\n",
    "                if j == 0:\n",
    "                    u_best = u_j\n",
    "                else:\n",
    "                    u_best = select_better_fit(u_best, u_j, f)\n",
    "\n",
    "                if f(u_best) <= f(x_list[i]) and feas(u_best) == 1:\n",
    "                    x_list[i] = u_best\n",
    "\n",
    "                if f(x_list[i]) < f(x_best) and feas(x_list[i]) == 1:\n",
    "                    x_best = x_list[i]\n",
    "\n",
    "        t += 1\n",
    "    return x_best\n"
   ],
   "metadata": {
    "collapsed": false,
    "pycharm": {
     "name": "#%%\n"
    }
   }
  },
  {
   "cell_type": "code",
   "execution_count": 254,
   "outputs": [],
   "source": [
    "\"\"\":parameter: for AGDE\"\"\"\n",
    "T_AGDE = 100"
   ],
   "metadata": {
    "collapsed": false,
    "pycharm": {
     "name": "#%%\n"
    }
   }
  },
  {
   "cell_type": "code",
   "execution_count": 255,
   "outputs": [],
   "source": [
    "def index_of_X_best(xx_list, f):\n",
    "    index = 0\n",
    "    min_fit = f(xx_list[0])\n",
    "    for i in range(len(xx_list)):\n",
    "        if f(xx_list[i]) < min_fit:\n",
    "            index = i\n",
    "            min_fit = f(xx_list[i])\n",
    "    return index\n",
    "\n",
    "\n",
    "def index_of_X_worst(xx_list, f):\n",
    "    index = 0\n",
    "    max_fit = f(xx_list[0])\n",
    "    for i in range(len(xx_list)):\n",
    "        if f(xx_list[i]) > max_fit:\n",
    "            index = i\n",
    "            max_fit = f(xx_list[i])\n",
    "    return index\n",
    "\n",
    "\n",
    "def compare_max(delta):\n",
    "    \"\"\"\n",
    "    lower bound\n",
    "    :param delta: delta\n",
    "    :return: turn into lower bound delta\n",
    "    \"\"\"\n",
    "\n",
    "    em = np.linspace(-100, -100, Dim)\n",
    "    delta = np.maximum(delta, em)\n",
    "    return delta\n",
    "\n",
    "\n",
    "def compare_min(delta):\n",
    "    on = np.linspace(100, 100, Dim)\n",
    "    delta = np.minimum(delta, on)\n",
    "    # for i in range(len(delta)):\n",
    "    #     delta[i] = min(delta[i], 1)\n",
    "    return delta\n",
    "\n",
    "def agde(xx_list, agde_F, agde_p, f):\n",
    "    agde_NP = max(int(NP * agde_p), 0)\n",
    "    r_list = random.randint(max(agde_NP * 2 - 1, 0), NP - 1)\n",
    "    if max(agde_NP, 0) >= max(agde_NP * 2 - 1, 1):\n",
    "        m = max(agde_NP, 0) + 1\n",
    "    else:\n",
    "        m = max(agde_NP * 2 - 1, 1)\n",
    "    x_p_worst = xx_list[index_of_X_worst(xx_list[max(agde_NP, 0): m], f)]\n",
    "    x_p_best = xx_list[index_of_X_best(xx_list[: max(agde_NP - 1, 1)], f)]\n",
    "    v_delta = np.add(xx_list[r_list], np.multiply(agde_F, np.subtract(x_p_best, x_p_worst)))\n",
    "    return v_delta"
   ],
   "metadata": {
    "collapsed": false,
    "pycharm": {
     "name": "#%%\n"
    }
   }
  },
  {
   "cell_type": "code",
   "execution_count": 256,
   "outputs": [],
   "source": [
    "def AGDE(f):\n",
    "    xx_list = copy.deepcopy(X_list)\n",
    "    x_best = xx_list[0]\n",
    "    # print(xx_list[0])\n",
    "\n",
    "    G = 0\n",
    "    p_j = 0.5\n",
    "    s_j_sum = 0\n",
    "    while G <= T_AGDE:  # iteration of DE\n",
    "        n_s_j = 0\n",
    "        f_j = 1\n",
    "        for i in range(NP):  # iteration of generation\n",
    "            agde_F = random.uniform(0.1, 1)\n",
    "            Cr = 0\n",
    "            if G == 1:\n",
    "                if random.uniform(0, 1) <= 0.5:\n",
    "                    Cr = random.uniform(0.05, 0.15)\n",
    "                else:\n",
    "                    Cr = random.uniform(0.9, 1)\n",
    "            else:\n",
    "                if random.uniform(0, 1) <= p_j:\n",
    "                    Cr = random.uniform(0.05, 0.15)\n",
    "                else:\n",
    "                    Cr = random.uniform(0.9, 1)\n",
    "            j_random = random.randint(1, NP)\n",
    "\n",
    "            u_best = np.empty([Dim])\n",
    "            for j in range(Dim):\n",
    "                vj = agde(xx_list, agde_F, p_j, f)\n",
    "                vj = compare_max(vj)\n",
    "                vj = compare_min(vj)\n",
    "                if random.uniform(0, 1) < Cr or j == j_random:\n",
    "                    u_j = crossover_SBX(xx_list[i], vj, f)\n",
    "                else:\n",
    "                    u_j = xx_list[i]\n",
    "\n",
    "                if j == 0:\n",
    "                    u_best = u_j\n",
    "                else:\n",
    "                    u_best = select_better_fit(u_best, u_j, f)\n",
    "\n",
    "                if f(u_best) <= f(xx_list[i]) and feas(u_best) == 1:\n",
    "                    xx_list[i] = u_best\n",
    "\n",
    "                if f(xx_list[i]) < f(x_best) and feas(xx_list[i]) == 1:\n",
    "                    x_best = xx_list[i]\n",
    "\n",
    "        G += 1\n",
    "\n",
    "        s_j = n_s_j / (n_s_j + f_j) + 0.01\n",
    "        s_j_sum += s_j\n",
    "        p_s_j = s_j / s_j_sum\n",
    "        if (((G - 1) * p_j + p_s_j) / G) < 0.5:\n",
    "            p_j = ((G - 1) * p_j + p_s_j) / G\n",
    "\n",
    "    return x_best"
   ],
   "metadata": {
    "collapsed": false,
    "pycharm": {
     "name": "#%%\n"
    }
   }
  },
  {
   "cell_type": "code",
   "execution_count": 257,
   "outputs": [],
   "source": [
    "\"\"\":parameter: for GSK\"\"\"\n",
    "T_GSK = 100\n",
    "GSK_p = 0.1\n",
    "k_f = 0.01   # 0.5\n",
    "k_r = 0.1   # 0.9\n",
    "K = 10"
   ],
   "metadata": {
    "collapsed": false,
    "pycharm": {
     "name": "#%%\n"
    }
   }
  },
  {
   "cell_type": "code",
   "execution_count": 258,
   "outputs": [],
   "source": [
    "def junior(xx_list, r, i, f):\n",
    "    if random.uniform(0, 1) <= k_r:\n",
    "        if f(xx_list[i]) > f(xx_list[r]):\n",
    "            v_delta = np.add(xx_list[i],\n",
    "                             k_f * np.add(np.subtract(xx_list[max(0, i - 1)], xx_list[min(NP - 1, i + 1)]),\n",
    "                                          np.subtract(xx_list[r], xx_list[i])))\n",
    "        else:\n",
    "            v_delta = np.add(xx_list[i],\n",
    "                             k_f * np.add(np.subtract(xx_list[max(0, i - 1)], xx_list[min(NP - 1, i + 1)]),\n",
    "                                          np.subtract(xx_list[i], xx_list[r])))\n",
    "    else:\n",
    "        v_delta = xx_list[i]\n",
    "    return v_delta\n",
    "\n",
    "\n",
    "def senior(xx_list, i, D_junior, f):\n",
    "    if random.uniform(0, 1) <= k_r:\n",
    "        D_senior = NP - D_junior\n",
    "        NP_1 = int(D_senior * GSK_p)\n",
    "        r_list = random.randint(D_junior - 1 + NP_1 * 2, NP - 1)\n",
    "        if max(D_junior - 1 + NP_1, 0) >= max(D_junior - 1 + NP_1 * 2 - 1, 1):\n",
    "            m = max(D_junior - 1 + NP_1, 0) + 1\n",
    "        else:\n",
    "            m = max(D_junior - 1 + NP_1 * 2 - 1, 1)\n",
    "        if max(D_junior - 1, 0) >= max(D_junior - 1 + NP_1 - 1, 1):\n",
    "            n = max(D_junior - 1, 0) + 1\n",
    "        else:\n",
    "            n = max(D_junior - 1 + NP_1 - 1, 1)\n",
    "        x_p_worst = xx_list[index_of_X_worst(xx_list[max(D_junior - 1 + NP_1, 0): m], f)]\n",
    "        x_p_best = xx_list[index_of_X_best(xx_list[max(D_junior - 1, 0): n], f)]\n",
    "        if f(xx_list[i]) > f(xx_list[r_list]):\n",
    "            v_delta = np.add(xx_list[i],\n",
    "                             k_f * np.add(np.subtract(x_p_best, x_p_worst),\n",
    "                                          np.subtract(xx_list[r_list], xx_list[i])))\n",
    "        else:\n",
    "            v_delta = np.add(xx_list[i],\n",
    "                             k_f * np.add(np.subtract(x_p_best, x_p_worst),\n",
    "                                          np.subtract(xx_list[i], xx_list[r_list])))\n",
    "    else:\n",
    "        v_delta = xx_list[i]\n",
    "    return v_delta\n"
   ],
   "metadata": {
    "collapsed": false,
    "pycharm": {
     "name": "#%%\n"
    }
   }
  },
  {
   "cell_type": "code",
   "execution_count": 259,
   "outputs": [],
   "source": [
    "def GSK(f):\n",
    "    \"\"\"\n",
    "    DE algorithm\n",
    "    :param x_list:\n",
    "    :return: best x by DE\n",
    "    \"\"\"\n",
    "    xxx_list = copy.deepcopy(X_list)\n",
    "\n",
    "    x_best = xxx_list[0]\n",
    "    # print(xxx_list[0])\n",
    "    G = 0\n",
    "\n",
    "    while G <= T_GSK:  # iteration of DE\n",
    "        D_junior = int(NP * pow((1 - G / T_GSK), K))\n",
    "\n",
    "        for i in range(NP):  # iteration of generation\n",
    "\n",
    "            u_best = np.empty([Dim])\n",
    "            for j in range(NP):\n",
    "                vj = np.empty([Dim])\n",
    "                r = random.randint(0, NP - 1)\n",
    "                if j <= D_junior:\n",
    "                    vj = junior(xxx_list, r, j, f)\n",
    "                else:\n",
    "                    vj = senior(xxx_list, j, D_junior, f)\n",
    "\n",
    "                vj = compare_max(vj)\n",
    "                vj = compare_min(vj)\n",
    "\n",
    "                if j == 0:\n",
    "                    u_best = vj\n",
    "                else:\n",
    "                    u_best = select_better_fit(u_best, vj, f)\n",
    "\n",
    "                if f(u_best) <= f(xxx_list[i]) and feas(u_best) == 1:\n",
    "                    xxx_list[i] = u_best\n",
    "\n",
    "                if f(xxx_list[i]) < f(x_best) and feas(xxx_list[i]) == 1:\n",
    "                    x_best = xxx_list[i]\n",
    "\n",
    "        G += 1\n",
    "\n",
    "    return x_best\n"
   ],
   "metadata": {
    "collapsed": false,
    "pycharm": {
     "name": "#%%\n"
    }
   }
  },
  {
   "cell_type": "code",
   "execution_count": null,
   "outputs": [
    {
     "name": "stdout",
     "output_type": "stream",
     "text": [
      "f1 421053526281.0209 555148958706.2307 1294318302536.5198 \n",
      "\n",
      "f2 2.171961762147072e+46 6.91414287193953e+51 5.7260648023608425e+51 \n",
      "\n",
      "f3 109097.21990662231 283696.945725606 185272517.9912109 \n",
      "\n"
     ]
    }
   ],
   "source": [
    "import os\n",
    "test_list = np.empty([len(functions.all_functions), 3])\n",
    "test_path = r'D:\\profile\\codes\\python_projects\\ocp\\test\\output\\D30_cpu'\n",
    "for i in range(1, 52):\n",
    "    j = 0\n",
    "    for f in functions.all_functions:\n",
    "        x_best_DE_fit = 0\n",
    "        x_best_AGDE_fit = 0\n",
    "        x_best_GSK_fit = 0\n",
    "        x_best_DE_fit = f(DE(f))\n",
    "        x_best_AGDE_fit = f(AGDE(f))\n",
    "        x_best_GSK_fit = f(GSK(f))\n",
    "        print(f.__name__, x_best_DE_fit, x_best_AGDE_fit, x_best_GSK_fit, \"\\n\")\n",
    "        test_list[j][0] = x_best_DE_fit\n",
    "        test_list[j][1] = x_best_AGDE_fit\n",
    "        test_list[j][2] = x_best_GSK_fit\n",
    "        j += 1\n",
    "\n",
    "    np.savetxt(os.path.join(test_path, str(i) + \".txt\"), test_list)\n",
    "\n",
    "\n"
   ],
   "metadata": {
    "collapsed": false,
    "pycharm": {
     "name": "#%%\n",
     "is_executing": true
    }
   }
  },
  {
   "cell_type": "code",
   "execution_count": null,
   "outputs": [],
   "source": [
    "import cec2017.utils as utils\n",
    "for f in functions.all_functions:\n",
    "    utils.surface_plot(f, points=120, dimension=Dim)"
   ],
   "metadata": {
    "collapsed": false,
    "pycharm": {
     "name": "#%%\n",
     "is_executing": true
    }
   }
  }
 ],
 "metadata": {
  "kernelspec": {
   "display_name": "Python 3",
   "language": "python",
   "name": "python3"
  },
  "language_info": {
   "codemirror_mode": {
    "name": "ipython",
    "version": 2
   },
   "file_extension": ".py",
   "mimetype": "text/x-python",
   "name": "python",
   "nbconvert_exporter": "python",
   "pygments_lexer": "ipython2",
   "version": "2.7.6"
  }
 },
 "nbformat": 4,
 "nbformat_minor": 0
}