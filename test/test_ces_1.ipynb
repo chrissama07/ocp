{
 "cells": [
  {
   "cell_type": "code",
   "execution_count": 201,
   "metadata": {
    "collapsed": true,
    "pycharm": {
     "name": "#%%\n"
    }
   },
   "outputs": [],
   "source": [
    "import random\n",
    "import numpy as np\n",
    "import cec2017.functions as functions\n",
    "import copy"
   ]
  },
  {
   "cell_type": "code",
   "execution_count": 202,
   "outputs": [],
   "source": [
    "Dim = 30\n",
    "NP = 10\n",
    "bound = 100"
   ],
   "metadata": {
    "collapsed": false,
    "pycharm": {
     "name": "#%%\n"
    }
   }
  },
  {
   "cell_type": "code",
   "execution_count": 203,
   "outputs": [
    {
     "data": {
      "text/plain": "array([[ 7.37719980e+01, -4.74227286e+01, -4.53074825e+01,\n        -5.99944318e+01, -4.34882896e+00,  6.54039693e+01,\n        -7.65151722e+01,  6.27936174e+01, -6.20821100e+01,\n        -4.39426160e+01,  1.74095648e+01,  4.56370855e+01,\n         5.25920276e+01, -8.56120849e+01, -3.49942341e+01,\n        -2.96960710e+01, -1.55427854e+01, -7.58504995e+01,\n         8.09537444e+01,  4.78999460e+01, -1.02792158e+01,\n        -7.89697624e+01,  4.21005019e+01,  9.07908224e+01,\n        -3.99296846e+00,  9.14372985e+00, -6.41047752e+01,\n         3.96995046e+01, -3.98096705e+01,  2.90029497e+01],\n       [-2.51366233e+01, -9.09734592e+01,  4.10760683e+01,\n        -3.16811668e+01, -4.30754102e+01,  2.11344740e+01,\n         3.01963032e+01, -1.77622153e+01,  7.37398891e+00,\n         4.59436596e+01, -3.25209088e+01, -2.50896526e+01,\n        -2.08978293e+01, -6.96148298e+01, -3.59796899e+01,\n         5.69346435e+01, -3.35264942e+01, -7.81483512e+01,\n        -2.99118608e-01, -7.63404145e+00, -4.79503167e+01,\n         9.07426356e+01, -2.13998257e+01,  7.94980887e+01,\n        -3.25795339e+01, -4.81238257e+01,  2.31071542e+01,\n         1.12650660e+01, -5.48256706e+01, -2.79178259e+01],\n       [ 5.29112056e+01, -5.80179812e+01,  2.47029900e+01,\n         3.64498334e+01, -8.75931350e+01, -9.23541104e+01,\n        -6.52917746e+01, -8.47168033e+01,  1.72497086e+01,\n        -5.22337747e+01, -6.77007257e+01, -8.17972351e+01,\n         3.15680126e+01, -8.00602491e+01,  2.43616941e+01,\n         5.49425990e+01, -6.94010085e+01, -9.21262130e+01,\n         5.67932025e+01,  5.82117665e+00, -9.41161044e+01,\n        -3.68485339e+01,  9.01897286e+01,  1.01123718e+01,\n         4.86790620e+00, -2.93013750e+01, -2.60352414e+01,\n        -3.17210498e+01,  6.57299448e+01, -4.47750146e+01],\n       [ 6.54233762e+01,  3.69093299e+01,  5.29521476e+01,\n        -4.85796451e+01,  3.49615654e+01,  5.87818674e+01,\n        -2.21301855e+01, -8.03903842e+01,  7.53872205e+01,\n         6.16313563e+01,  3.17024514e+01,  1.12584097e+01,\n         9.02551533e+01,  3.83243203e+01,  3.95526273e+01,\n        -1.54830843e+01, -5.44984027e+01,  9.39615994e+01,\n         7.55836647e+01,  2.04004414e+01, -6.63956198e+01,\n        -5.00063711e+01, -4.53350178e+01,  2.11920782e+01,\n         8.86624535e+01, -3.04729438e+01,  6.95231409e+01,\n        -2.11515416e+01, -4.28120959e+01, -8.88712995e+01],\n       [ 2.37649014e+01,  7.52075303e+01,  2.79492009e+01,\n         3.09450944e+01,  8.36194268e+01,  6.93913989e+01,\n        -2.14541292e+01, -2.34907386e+01,  8.27178399e+01,\n        -7.83608724e+01,  3.02511947e+01,  4.56609015e+01,\n         8.10186174e+01,  8.62610880e+01, -6.77582245e+01,\n        -9.37845381e+01, -2.43429148e+01, -8.03718949e+01,\n         8.49507647e+01,  3.71428047e+01,  8.83023062e+01,\n        -6.25254354e+01,  1.41977794e+01,  6.45672092e+01,\n         1.20936437e+01, -3.91675937e+01, -2.36904565e+01,\n         2.04913993e+01, -2.30234680e+01, -8.80669802e+00],\n       [ 9.60315537e+00, -4.37354484e+01, -3.67819310e+01,\n         9.10995697e+01,  2.71421132e+01, -6.47162638e+01,\n        -1.14665482e+01,  4.10465687e+01, -6.93390893e+01,\n        -1.14098688e+01,  6.44183300e+01,  1.33452113e+01,\n         8.92242351e+01,  9.36166711e+01, -5.60983798e+01,\n         3.02275632e+01, -3.36661249e+01,  1.05310653e+00,\n        -6.47393104e+01,  6.31352080e+01, -8.43685701e+00,\n         1.01708864e+01, -9.32092235e+01,  2.32506227e+01,\n         2.71923610e+01, -8.75515917e+01, -8.74152886e+01,\n        -1.59787423e+01, -8.43407756e+01,  9.24708309e+01],\n       [ 5.23547210e+01, -7.87201250e+01, -1.61681099e+01,\n         2.73275307e+01, -6.52671051e+01, -5.55737537e+01,\n        -3.24369653e+01, -7.72791179e+01,  6.53970337e+01,\n        -3.34795365e+01,  2.78794593e+01, -2.23281854e+01,\n         4.05844884e+01, -8.87114598e+01, -8.53567042e-01,\n         1.99490832e+01,  8.55462324e+01,  3.10414474e+01,\n         8.23222773e+01,  1.91947025e+01,  9.35221950e+00,\n        -1.29426843e+01,  2.19791456e+01, -6.92008360e+01,\n         5.53384095e+00, -3.07217212e+01,  4.95080666e+01,\n        -8.56865427e+01,  3.39646084e+01, -1.69148993e+01],\n       [-8.07967651e+01,  9.28368804e+01,  1.89363983e+01,\n        -8.10288003e+01, -3.14723155e+01,  3.36423774e+01,\n        -4.68373552e+01,  5.85324965e+01, -7.07099531e+01,\n         4.20709272e+01, -5.67865627e+01, -1.93069835e+01,\n        -5.75907160e+01, -3.65822688e+01,  1.18561286e+01,\n        -8.04727533e+01, -8.86549986e+01, -2.04013643e+01,\n         4.90224349e+01, -1.62583891e+01, -2.64576263e+01,\n        -7.27277789e+01,  8.55479021e+01, -5.75726268e+01,\n         6.32544699e+01, -8.38090654e+01, -1.23400463e+01,\n         3.63194064e+01,  5.88452221e+01,  2.77057798e+01],\n       [-9.40092189e+01,  2.76281881e+01,  2.88007420e+01,\n         8.19963883e+01,  8.79315336e+01,  4.63101309e+01,\n        -8.23996682e+01, -1.77770747e+01, -8.15808613e+01,\n         8.40019921e+01,  3.22402386e+01, -5.44217738e+01,\n         7.80149861e+01,  8.30774484e+01,  8.50470534e+01,\n        -5.37499884e+01, -3.69973015e+01, -7.41756752e+01,\n         2.47603134e+01, -4.82224795e+01,  2.13585779e+01,\n         3.22470292e+01,  8.02070087e+01, -1.64623934e+01,\n         2.05559942e+00, -7.78046551e+01,  8.19049945e+01,\n         8.17644377e+01, -7.71648080e+01, -8.24339577e+01],\n       [ 8.84298417e+01, -1.16868276e+01,  1.83224678e+01,\n        -2.25306994e+01, -8.30859523e+01,  7.30375930e+00,\n        -3.18469637e+00,  2.57959793e+01, -7.39373031e+01,\n         1.09271750e+01, -3.02739123e+01, -8.57525579e+01,\n         8.06012544e+01,  7.96162728e+01,  8.43706424e+00,\n         9.24295379e+01,  3.30697329e+01, -3.11086923e+01,\n        -4.18651537e+01,  6.93553913e+01, -2.27212704e+01,\n         7.86707490e+01,  2.38559797e+01,  3.70606249e+01,\n        -5.43018143e-02,  9.13435918e+01, -6.91467858e+01,\n         7.61031353e+01, -4.30339155e+01, -3.84989869e+01]])"
     },
     "execution_count": 203,
     "metadata": {},
     "output_type": "execute_result"
    }
   ],
   "source": [
    "X = np.random.uniform(low=-bound, high=bound, size=Dim)\n",
    "X_min = X.min()\n",
    "X_max = X.max()\n",
    "X_list = np.empty([NP, Dim])\n",
    "for i in range(NP):\n",
    "    for j in range(Dim):\n",
    "        X_list[i][j] = X_min + random.uniform(0, 1) * (X_max - X_min)\n",
    "\n",
    "X_list"
   ],
   "metadata": {
    "collapsed": false,
    "pycharm": {
     "name": "#%%\n"
    }
   }
  },
  {
   "cell_type": "code",
   "execution_count": 204,
   "outputs": [],
   "source": [
    "\"\"\":parameter for DE\"\"\"\n",
    "T_DE = 100\n",
    "no = 5\n",
    "CR = 0.9  # rate of crossover\n",
    "\n",
    "\"\"\":parameter for MMS\"\"\"\n",
    "mms_e = 0.000001\n",
    "mms_F = 0.5"
   ],
   "metadata": {
    "collapsed": false,
    "pycharm": {
     "name": "#%%\n"
    }
   }
  },
  {
   "cell_type": "code",
   "execution_count": 205,
   "outputs": [],
   "source": [
    "\"\"\":parameter k and F: for current/rand/1\"\"\"\n",
    "k = 0.3\n",
    "F = 0.5"
   ],
   "metadata": {
    "collapsed": false,
    "pycharm": {
     "name": "#%%\n"
    }
   }
  },
  {
   "cell_type": "code",
   "execution_count": 206,
   "outputs": [],
   "source": [
    "\"\"\":parameter for crossoverSBX\"\"\"\n",
    "sbx_n = 10"
   ],
   "metadata": {
    "collapsed": false,
    "pycharm": {
     "name": "#%%\n"
    }
   }
  },
  {
   "cell_type": "code",
   "execution_count": 207,
   "outputs": [],
   "source": [
    "# f = functions.f1"
   ],
   "metadata": {
    "collapsed": false,
    "pycharm": {
     "name": "#%%\n"
    }
   }
  },
  {
   "cell_type": "code",
   "execution_count": 208,
   "outputs": [],
   "source": [
    "def feas(x):\n",
    "    if x.max() <= bound and x.min() >= -bound:\n",
    "        return 1\n",
    "    else:\n",
    "        return 0"
   ],
   "metadata": {
    "collapsed": false,
    "pycharm": {
     "name": "#%%\n"
    }
   }
  },
  {
   "cell_type": "code",
   "execution_count": 209,
   "outputs": [],
   "source": [
    "def select_better_fit(x1, x2, f):\n",
    "    if f(x1) <= f(x2):\n",
    "        return x1\n",
    "    else:\n",
    "        return x2"
   ],
   "metadata": {
    "collapsed": false,
    "pycharm": {
     "name": "#%%\n"
    }
   }
  },
  {
   "cell_type": "code",
   "execution_count": 210,
   "outputs": [],
   "source": [
    "def current_to_rand(x_list, r1, r2, r3, i):\n",
    "    return np.add(x_list[i], k * np.subtract(x_list[r1], x_list[i]), F * np.subtract(x_list[r2], x_list[r3]))"
   ],
   "metadata": {
    "collapsed": false,
    "pycharm": {
     "name": "#%%\n"
    }
   }
  },
  {
   "cell_type": "code",
   "execution_count": 211,
   "outputs": [],
   "source": [
    "def immsade(xx_list, r1, r2, r3):\n",
    "    immsade_omega = random.uniform(0.7, 1.0)\n",
    "    immsade_F = random.uniform(0.5, 0.8)\n",
    "    v_delta = np.add(np.multiply(immsade_omega, xx_list[r1]),\n",
    "                     immsade_F * np.subtract(xx_list[r2], xx_list[r3]))\n",
    "    v_delta = np.maximum(v_delta, -100)\n",
    "    v_delta = np.minimum(v_delta, 100)\n",
    "    return v_delta"
   ],
   "metadata": {
    "collapsed": false,
    "pycharm": {
     "name": "#%%\n"
    }
   }
  },
  {
   "cell_type": "code",
   "execution_count": 212,
   "outputs": [],
   "source": [
    "def crossover_SBX(x_i, v_j, f):\n",
    "    beta = 0\n",
    "    while isinstance(beta, complex):\n",
    "        sbx_rand = random.random()\n",
    "        if sbx_rand <= 0.5:\n",
    "            beta = (2 * sbx_rand) ** (1 / (1 + sbx_n))\n",
    "        else:\n",
    "            beta = (1 / (2 - sbx_n * 2)) ** (1 / (1 + sbx_n))\n",
    "\n",
    "    c1 = 0.5 * np.add((1 + beta) * x_i, (1 - beta) * v_j)  # crossover\n",
    "    c2 = 0.5 * np.add((1 - beta) * x_i, (1 + beta) * v_j)\n",
    "    return select_better_fit(c1, c2, f)"
   ],
   "metadata": {
    "collapsed": false,
    "pycharm": {
     "name": "#%%\n"
    }
   }
  },
  {
   "cell_type": "code",
   "execution_count": 213,
   "outputs": [],
   "source": [
    "def DE(f):\n",
    "    x_list = copy.deepcopy(X_list)\n",
    "    x_best = x_list[0]\n",
    "    # print(x_list[0])\n",
    "\n",
    "    t = 1\n",
    "    while t <= T_DE:\n",
    "        for i in range(NP):\n",
    "            u_best = np.empty([Dim])\n",
    "            for j in range(Dim):\n",
    "                r_list = random.sample(range(NP), 5)\n",
    "                for m in range(no):\n",
    "                    while r_list[m] == i:\n",
    "                        # r_list[m] = random.randint(0, Dim - 1)\n",
    "                        r_list[m] = random.randint(0, NP - 1)\n",
    "\n",
    "                v_j = np.empty([Dim])\n",
    "                v_j = immsade(x_list, r_list[1], r_list[2], r_list[3])\n",
    "\n",
    "                cr_rand = random.random()\n",
    "                if cr_rand <= CR:\n",
    "                    u_j = crossover_SBX(x_list[i], v_j, f)\n",
    "                else:\n",
    "                    u_j = x_list[i]\n",
    "\n",
    "                if j == 0:\n",
    "                    u_best = u_j\n",
    "                else:\n",
    "                    u_best = select_better_fit(u_best, u_j, f)\n",
    "\n",
    "                if f(u_best) <= f(x_list[i]) and feas(u_best) == 1:\n",
    "                    x_list[i] = u_best\n",
    "\n",
    "                if f(x_list[i]) < f(x_best) and feas(x_list[i]) == 1:\n",
    "                    x_best = x_list[i]\n",
    "\n",
    "        t += 1\n",
    "    return x_best\n"
   ],
   "metadata": {
    "collapsed": false,
    "pycharm": {
     "name": "#%%\n"
    }
   }
  },
  {
   "cell_type": "code",
   "execution_count": 214,
   "outputs": [],
   "source": [
    "\"\"\":parameter: for AGDE\"\"\"\n",
    "T_AGDE = 100"
   ],
   "metadata": {
    "collapsed": false,
    "pycharm": {
     "name": "#%%\n"
    }
   }
  },
  {
   "cell_type": "code",
   "execution_count": 215,
   "outputs": [],
   "source": [
    "def index_of_X_best(xx_list, f):\n",
    "    index = 0\n",
    "    min_fit = f(xx_list[0])\n",
    "    for i in range(len(xx_list)):\n",
    "        if f(xx_list[i]) < min_fit:\n",
    "            index = i\n",
    "            min_fit = f(xx_list[i])\n",
    "    return index\n",
    "\n",
    "\n",
    "def index_of_X_worst(xx_list, f):\n",
    "    index = 0\n",
    "    max_fit = f(xx_list[0])\n",
    "    for i in range(len(xx_list)):\n",
    "        if f(xx_list[i]) > max_fit:\n",
    "            index = i\n",
    "            max_fit = f(xx_list[i])\n",
    "    return index\n",
    "\n",
    "\n",
    "def compare_max(delta):\n",
    "    \"\"\"\n",
    "    lower bound\n",
    "    :param delta: delta\n",
    "    :return: turn into lower bound delta\n",
    "    \"\"\"\n",
    "\n",
    "    em = np.linspace(-100, -100, Dim)\n",
    "    delta = np.maximum(delta, em)\n",
    "    return delta\n",
    "\n",
    "\n",
    "def compare_min(delta):\n",
    "    on = np.linspace(100, 100, Dim)\n",
    "    delta = np.minimum(delta, on)\n",
    "    # for i in range(len(delta)):\n",
    "    #     delta[i] = min(delta[i], 1)\n",
    "    return delta\n",
    "\n",
    "def agde(xx_list, agde_F, agde_p, f):\n",
    "    agde_NP = max(int(NP * agde_p), 0)\n",
    "    r_list = random.randint(max(agde_NP * 2 - 1, 0), NP - 1)\n",
    "    if max(agde_NP, 0) >= max(agde_NP * 2 - 1, 1):\n",
    "        m = max(agde_NP, 0) + 1\n",
    "    else:\n",
    "        m = max(agde_NP * 2 - 1, 1)\n",
    "    x_p_worst = xx_list[index_of_X_worst(xx_list[max(agde_NP, 0): m], f)]\n",
    "    x_p_best = xx_list[index_of_X_best(xx_list[: max(agde_NP - 1, 1)], f)]\n",
    "    v_delta = np.add(xx_list[r_list], np.multiply(agde_F, np.subtract(x_p_best, x_p_worst)))\n",
    "    return v_delta"
   ],
   "metadata": {
    "collapsed": false,
    "pycharm": {
     "name": "#%%\n"
    }
   }
  },
  {
   "cell_type": "code",
   "execution_count": 216,
   "outputs": [],
   "source": [
    "def AGDE(f):\n",
    "    xx_list = copy.deepcopy(X_list)\n",
    "    x_best = xx_list[0]\n",
    "    # print(xx_list[0])\n",
    "\n",
    "    G = 0\n",
    "    p_j = 0.5\n",
    "    s_j_sum = 0\n",
    "    while G <= T_AGDE:  # iteration of DE\n",
    "        n_s_j = 0\n",
    "        f_j = 1\n",
    "        for i in range(NP):  # iteration of generation\n",
    "            agde_F = random.uniform(0.1, 1)\n",
    "            Cr = 0\n",
    "            if G == 1:\n",
    "                if random.uniform(0, 1) <= 0.5:\n",
    "                    Cr = random.uniform(0.05, 0.15)\n",
    "                else:\n",
    "                    Cr = random.uniform(0.9, 1)\n",
    "            else:\n",
    "                if random.uniform(0, 1) <= p_j:\n",
    "                    Cr = random.uniform(0.05, 0.15)\n",
    "                else:\n",
    "                    Cr = random.uniform(0.9, 1)\n",
    "            j_random = random.randint(1, NP)\n",
    "\n",
    "            u_best = np.empty([Dim])\n",
    "            for j in range(Dim):\n",
    "                vj = agde(xx_list, agde_F, p_j, f)\n",
    "                vj = compare_max(vj)\n",
    "                vj = compare_min(vj)\n",
    "                if random.uniform(0, 1) < Cr or j == j_random:\n",
    "                    u_j = crossover_SBX(xx_list[i], vj, f)\n",
    "                else:\n",
    "                    u_j = xx_list[i]\n",
    "\n",
    "                if j == 0:\n",
    "                    u_best = u_j\n",
    "                else:\n",
    "                    u_best = select_better_fit(u_best, u_j, f)\n",
    "\n",
    "                if f(u_best) <= f(xx_list[i]) and feas(u_best) == 1:\n",
    "                    xx_list[i] = u_best\n",
    "\n",
    "                if f(xx_list[i]) < f(x_best) and feas(xx_list[i]) == 1:\n",
    "                    x_best = xx_list[i]\n",
    "\n",
    "        G += 1\n",
    "\n",
    "        s_j = n_s_j / (n_s_j + f_j) + 0.01\n",
    "        s_j_sum += s_j\n",
    "        p_s_j = s_j / s_j_sum\n",
    "        if (((G - 1) * p_j + p_s_j) / G) < 0.5:\n",
    "            p_j = ((G - 1) * p_j + p_s_j) / G\n",
    "\n",
    "    return x_best"
   ],
   "metadata": {
    "collapsed": false,
    "pycharm": {
     "name": "#%%\n"
    }
   }
  },
  {
   "cell_type": "code",
   "execution_count": 217,
   "outputs": [],
   "source": [
    "\"\"\":parameter: for GSK\"\"\"\n",
    "T_GSK = 100\n",
    "GSK_p = 0.1\n",
    "k_f = 0.01   # 0.5\n",
    "k_r = 0.1   # 0.9\n",
    "K = 10"
   ],
   "metadata": {
    "collapsed": false,
    "pycharm": {
     "name": "#%%\n"
    }
   }
  },
  {
   "cell_type": "code",
   "execution_count": 218,
   "outputs": [],
   "source": [
    "def junior(xx_list, r, i, f):\n",
    "    if random.uniform(0, 1) <= k_r:\n",
    "        if f(xx_list[i]) > f(xx_list[r]):\n",
    "            v_delta = np.add(xx_list[i],\n",
    "                             k_f * np.add(np.subtract(xx_list[max(0, i - 1)], xx_list[min(NP - 1, i + 1)]),\n",
    "                                          np.subtract(xx_list[r], xx_list[i])))\n",
    "        else:\n",
    "            v_delta = np.add(xx_list[i],\n",
    "                             k_f * np.add(np.subtract(xx_list[max(0, i - 1)], xx_list[min(NP - 1, i + 1)]),\n",
    "                                          np.subtract(xx_list[i], xx_list[r])))\n",
    "    else:\n",
    "        v_delta = xx_list[i]\n",
    "    return v_delta\n",
    "\n",
    "\n",
    "def senior(xx_list, i, D_junior, f):\n",
    "    if random.uniform(0, 1) <= k_r:\n",
    "        D_senior = NP - D_junior\n",
    "        NP_1 = int(D_senior * GSK_p)\n",
    "        r_list = random.randint(D_junior - 1 + NP_1 * 2, NP - 1)\n",
    "        if max(D_junior - 1 + NP_1, 0) >= max(D_junior - 1 + NP_1 * 2 - 1, 1):\n",
    "            m = max(D_junior - 1 + NP_1, 0) + 1\n",
    "        else:\n",
    "            m = max(D_junior - 1 + NP_1 * 2 - 1, 1)\n",
    "        if max(D_junior - 1, 0) >= max(D_junior - 1 + NP_1 - 1, 1):\n",
    "            n = max(D_junior - 1, 0) + 1\n",
    "        else:\n",
    "            n = max(D_junior - 1 + NP_1 - 1, 1)\n",
    "        x_p_worst = xx_list[index_of_X_worst(xx_list[max(D_junior - 1 + NP_1, 0): m], f)]\n",
    "        x_p_best = xx_list[index_of_X_best(xx_list[max(D_junior - 1, 0): n], f)]\n",
    "        if f(xx_list[i]) > f(xx_list[r_list]):\n",
    "            v_delta = np.add(xx_list[i],\n",
    "                             k_f * np.add(np.subtract(x_p_best, x_p_worst),\n",
    "                                          np.subtract(xx_list[r_list], xx_list[i])))\n",
    "        else:\n",
    "            v_delta = np.add(xx_list[i],\n",
    "                             k_f * np.add(np.subtract(x_p_best, x_p_worst),\n",
    "                                          np.subtract(xx_list[i], xx_list[r_list])))\n",
    "    else:\n",
    "        v_delta = xx_list[i]\n",
    "    return v_delta\n"
   ],
   "metadata": {
    "collapsed": false,
    "pycharm": {
     "name": "#%%\n"
    }
   }
  },
  {
   "cell_type": "code",
   "execution_count": 219,
   "outputs": [],
   "source": [
    "def GSK(f):\n",
    "    \"\"\"\n",
    "    DE algorithm\n",
    "    :param x_list:\n",
    "    :return: best x by DE\n",
    "    \"\"\"\n",
    "    xxx_list = copy.deepcopy(X_list)\n",
    "\n",
    "    x_best = xxx_list[0]\n",
    "    # print(xxx_list[0])\n",
    "    G = 0\n",
    "\n",
    "    while G <= T_GSK:  # iteration of DE\n",
    "        D_junior = int(NP * pow((1 - G / T_GSK), K))\n",
    "\n",
    "        for i in range(NP):  # iteration of generation\n",
    "\n",
    "            u_best = np.empty([Dim])\n",
    "            for j in range(NP):\n",
    "                vj = np.empty([Dim])\n",
    "                r = random.randint(0, NP - 1)\n",
    "                if j <= D_junior:\n",
    "                    vj = junior(xxx_list, r, j, f)\n",
    "                else:\n",
    "                    vj = senior(xxx_list, j, D_junior, f)\n",
    "\n",
    "                vj = compare_max(vj)\n",
    "                vj = compare_min(vj)\n",
    "\n",
    "                if j == 0:\n",
    "                    u_best = vj\n",
    "                else:\n",
    "                    u_best = select_better_fit(u_best, vj, f)\n",
    "\n",
    "                if f(u_best) <= f(xxx_list[i]) and feas(u_best) == 1:\n",
    "                    xxx_list[i] = u_best\n",
    "\n",
    "                if f(xxx_list[i]) < f(x_best) and feas(xxx_list[i]) == 1:\n",
    "                    x_best = xxx_list[i]\n",
    "\n",
    "        G += 1\n",
    "\n",
    "    return x_best\n"
   ],
   "metadata": {
    "collapsed": false,
    "pycharm": {
     "name": "#%%\n"
    }
   }
  },
  {
   "cell_type": "code",
   "execution_count": null,
   "outputs": [
    {
     "name": "stdout",
     "output_type": "stream",
     "text": [
      "f1 621692918185.876 1338703143714.7659 1558888698300.045 \n",
      "\n",
      "f2 4.5419843425716937e+49 1.7699151034196922e+57 2.514791965506047e+57 \n",
      "\n",
      "f3 112893.12275432023 182644.4075510517 397944671186.54584 \n",
      "\n",
      "f4 23122.901637684306 29500.183702251194 69300.17668747719 \n",
      "\n",
      "f5 832.1093795123306 1001.428841379546 1176.298381170675 \n",
      "\n",
      "f6 705.7269913207831 751.4250295719805 793.1626936425527 \n",
      "\n",
      "f7 1322.9168096876829 1816.1602192570076 3168.5565996486303 \n",
      "\n",
      "f8 1163.0729560223767 1222.6570623055159 1398.5916713316924 \n",
      "\n",
      "f9 10699.148301218254 21912.43690918436 29645.719830354315 \n",
      "\n",
      "f10 8804.674945704919 10283.7402258047 11156.875641482791 \n",
      "\n",
      "f11 26300.498494679952 32713.33029121297 493177.8612294843 \n",
      "\n",
      "f12 106393517598.55502 194984984232.53607 285733292044.8676 \n",
      "\n",
      "f13 68963393706.96211 414260403090.77 725239382071.5557 \n",
      "\n"
     ]
    }
   ],
   "source": [
    "import os\n",
    "i = 0\n",
    "test_list = np.empty([len(functions.all_functions), 3])\n",
    "test_path = r'D:\\profile\\codes\\python_projects\\ocp\\test\\output\\D30_cpu'\n",
    "for i in range(51):\n",
    "    for f in functions.all_functions:\n",
    "        x_best_DE_fit = 0\n",
    "        x_best_AGDE_fit = 0\n",
    "        x_best_GSK_fit = 0\n",
    "        x_best_DE_fit = f(DE(f))\n",
    "        x_best_AGDE_fit = f(AGDE(f))\n",
    "        x_best_GSK_fit = f(GSK(f))\n",
    "        print(f.__name__, x_best_DE_fit, x_best_AGDE_fit, x_best_GSK_fit, \"\\n\")\n",
    "        test_list[i][0] = x_best_DE_fit\n",
    "        test_list[i][1] = x_best_AGDE_fit\n",
    "        test_list[i][2] = x_best_GSK_fit\n",
    "\n",
    "    i += 1\n",
    "    np.savetxt(os.path.join(test_path, str(i) + \".text\"), test_list)\n",
    "\n",
    "\n"
   ],
   "metadata": {
    "collapsed": false,
    "pycharm": {
     "name": "#%%\n",
     "is_executing": true
    }
   }
  },
  {
   "cell_type": "code",
   "execution_count": null,
   "outputs": [],
   "source": [
    "import cec2017.utils as utils\n",
    "for f in functions.all_functions:\n",
    "    utils.surface_plot(f, points=120, dimension=Dim)"
   ],
   "metadata": {
    "collapsed": false,
    "pycharm": {
     "name": "#%%\n",
     "is_executing": true
    }
   }
  }
 ],
 "metadata": {
  "kernelspec": {
   "display_name": "Python 3",
   "language": "python",
   "name": "python3"
  },
  "language_info": {
   "codemirror_mode": {
    "name": "ipython",
    "version": 2
   },
   "file_extension": ".py",
   "mimetype": "text/x-python",
   "name": "python",
   "nbconvert_exporter": "python",
   "pygments_lexer": "ipython2",
   "version": "2.7.6"
  }
 },
 "nbformat": 4,
 "nbformat_minor": 0
}