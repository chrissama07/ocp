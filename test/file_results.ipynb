{
 "cells": [
  {
   "cell_type": "code",
   "execution_count": 1,
   "metadata": {
    "collapsed": true,
    "pycharm": {
     "name": "#%%\n"
    }
   },
   "outputs": [],
   "source": [
    "import test_pathes\n",
    "import os\n",
    "import numpy as np\n",
    "import pandas as pd"
   ]
  },
  {
   "cell_type": "code",
   "execution_count": 2,
   "outputs": [],
   "source": [
    "indexes = ['f1', 'f2', 'f3', 'f4', 'f5', 'f6', 'f7', 'f8', 'f9', 'f10', 'f11', 'f12', 'f13', 'f14', 'f15', 'f16', 'f18', 'f19', 'f21', 'f22', 'f23', 'f24', 'f25', 'f26', 'f27', 'f28', 'f30']\n",
    "\n",
    "for i in range(1, 52):\n",
    "    D10 = os.path.join(test_pathes.path_D10, str(i) + '.txt')\n",
    "    D10_csv = os.path.join(test_pathes.path_D10_csv, str(i) + '.csv')\n",
    "    result = np.loadtxt(D10)\n",
    "    result = np.delete(result, 28, axis=0)\n",
    "    result = np.delete(result, 19, axis=0)\n",
    "    result = np.delete(result, 16, axis=0)\n",
    "    df = pd.DataFrame(result, columns=['DESA', 'AGDE', 'GSK'], index=indexes).to_csv(D10_csv)"
   ],
   "metadata": {
    "collapsed": false,
    "pycharm": {
     "name": "#%%\n"
    }
   }
  },
  {
   "cell_type": "code",
   "execution_count": 3,
   "outputs": [
    {
     "data": {
      "text/plain": "   Unnamed: 0          DESA          AGDE           GSK\n0          f1  1.891030e+11  2.444501e+11  2.507417e+11\n1          f2  2.532388e+11  4.870523e+12  8.511417e+18\n2          f3  1.600901e+04  2.490054e+04  3.945903e+04\n3          f4  2.538022e+03  3.928372e+03  4.341379e+03\n4          f5  6.275611e+02  6.677219e+02  7.238103e+02\n5          f6  6.636164e+02  6.963855e+02  7.410950e+02\n6          f7  8.325502e+02  1.036670e+03  1.133022e+03\n7          f8  8.578938e+02  9.113130e+02  9.669788e+02\n8          f9  1.639984e+03  2.211503e+03  6.017957e+03\n9         f10  2.594884e+03  3.464133e+03  3.748646e+03\n10        f11  7.846287e+03  1.291789e+04  1.553829e+04\n11        f12  1.145276e+09  2.016913e+09  3.243322e+09\n12        f13  1.547197e+06  1.788763e+08  3.592203e+09\n13        f14  3.307112e+03  1.899153e+03  1.314788e+06\n14        f15  7.882788e+03  1.678463e+04  1.428790e+10\n15        f16  2.329130e+03  2.406858e+03  3.271871e+03\n16        f18  3.749868e+09  8.028238e+09  8.502211e+09\n17        f19  5.383356e+08  9.545102e+09  1.160939e+10\n18        f21  2.452746e+03  2.455027e+03  2.511470e+03\n19        f22  2.658157e+03  3.294163e+03  3.421326e+03\n20        f23  2.991009e+03  2.978302e+03  3.583551e+03\n21        f24  2.939269e+03  3.416109e+03  3.662574e+03\n22        f25  3.679332e+03  4.892096e+03  4.898756e+03\n23        f26  4.560362e+03  4.913206e+03  5.445277e+03\n24        f27  3.327357e+03  4.645891e+03  4.612721e+03\n25        f28  3.848723e+03  4.004991e+03  4.463128e+03\n26        f30  2.738961e+07  1.353902e+08  2.366099e+08",
      "text/html": "<div>\n<style scoped>\n    .dataframe tbody tr th:only-of-type {\n        vertical-align: middle;\n    }\n\n    .dataframe tbody tr th {\n        vertical-align: top;\n    }\n\n    .dataframe thead th {\n        text-align: right;\n    }\n</style>\n<table border=\"1\" class=\"dataframe\">\n  <thead>\n    <tr style=\"text-align: right;\">\n      <th></th>\n      <th>Unnamed: 0</th>\n      <th>DESA</th>\n      <th>AGDE</th>\n      <th>GSK</th>\n    </tr>\n  </thead>\n  <tbody>\n    <tr>\n      <th>0</th>\n      <td>f1</td>\n      <td>1.891030e+11</td>\n      <td>2.444501e+11</td>\n      <td>2.507417e+11</td>\n    </tr>\n    <tr>\n      <th>1</th>\n      <td>f2</td>\n      <td>2.532388e+11</td>\n      <td>4.870523e+12</td>\n      <td>8.511417e+18</td>\n    </tr>\n    <tr>\n      <th>2</th>\n      <td>f3</td>\n      <td>1.600901e+04</td>\n      <td>2.490054e+04</td>\n      <td>3.945903e+04</td>\n    </tr>\n    <tr>\n      <th>3</th>\n      <td>f4</td>\n      <td>2.538022e+03</td>\n      <td>3.928372e+03</td>\n      <td>4.341379e+03</td>\n    </tr>\n    <tr>\n      <th>4</th>\n      <td>f5</td>\n      <td>6.275611e+02</td>\n      <td>6.677219e+02</td>\n      <td>7.238103e+02</td>\n    </tr>\n    <tr>\n      <th>5</th>\n      <td>f6</td>\n      <td>6.636164e+02</td>\n      <td>6.963855e+02</td>\n      <td>7.410950e+02</td>\n    </tr>\n    <tr>\n      <th>6</th>\n      <td>f7</td>\n      <td>8.325502e+02</td>\n      <td>1.036670e+03</td>\n      <td>1.133022e+03</td>\n    </tr>\n    <tr>\n      <th>7</th>\n      <td>f8</td>\n      <td>8.578938e+02</td>\n      <td>9.113130e+02</td>\n      <td>9.669788e+02</td>\n    </tr>\n    <tr>\n      <th>8</th>\n      <td>f9</td>\n      <td>1.639984e+03</td>\n      <td>2.211503e+03</td>\n      <td>6.017957e+03</td>\n    </tr>\n    <tr>\n      <th>9</th>\n      <td>f10</td>\n      <td>2.594884e+03</td>\n      <td>3.464133e+03</td>\n      <td>3.748646e+03</td>\n    </tr>\n    <tr>\n      <th>10</th>\n      <td>f11</td>\n      <td>7.846287e+03</td>\n      <td>1.291789e+04</td>\n      <td>1.553829e+04</td>\n    </tr>\n    <tr>\n      <th>11</th>\n      <td>f12</td>\n      <td>1.145276e+09</td>\n      <td>2.016913e+09</td>\n      <td>3.243322e+09</td>\n    </tr>\n    <tr>\n      <th>12</th>\n      <td>f13</td>\n      <td>1.547197e+06</td>\n      <td>1.788763e+08</td>\n      <td>3.592203e+09</td>\n    </tr>\n    <tr>\n      <th>13</th>\n      <td>f14</td>\n      <td>3.307112e+03</td>\n      <td>1.899153e+03</td>\n      <td>1.314788e+06</td>\n    </tr>\n    <tr>\n      <th>14</th>\n      <td>f15</td>\n      <td>7.882788e+03</td>\n      <td>1.678463e+04</td>\n      <td>1.428790e+10</td>\n    </tr>\n    <tr>\n      <th>15</th>\n      <td>f16</td>\n      <td>2.329130e+03</td>\n      <td>2.406858e+03</td>\n      <td>3.271871e+03</td>\n    </tr>\n    <tr>\n      <th>16</th>\n      <td>f18</td>\n      <td>3.749868e+09</td>\n      <td>8.028238e+09</td>\n      <td>8.502211e+09</td>\n    </tr>\n    <tr>\n      <th>17</th>\n      <td>f19</td>\n      <td>5.383356e+08</td>\n      <td>9.545102e+09</td>\n      <td>1.160939e+10</td>\n    </tr>\n    <tr>\n      <th>18</th>\n      <td>f21</td>\n      <td>2.452746e+03</td>\n      <td>2.455027e+03</td>\n      <td>2.511470e+03</td>\n    </tr>\n    <tr>\n      <th>19</th>\n      <td>f22</td>\n      <td>2.658157e+03</td>\n      <td>3.294163e+03</td>\n      <td>3.421326e+03</td>\n    </tr>\n    <tr>\n      <th>20</th>\n      <td>f23</td>\n      <td>2.991009e+03</td>\n      <td>2.978302e+03</td>\n      <td>3.583551e+03</td>\n    </tr>\n    <tr>\n      <th>21</th>\n      <td>f24</td>\n      <td>2.939269e+03</td>\n      <td>3.416109e+03</td>\n      <td>3.662574e+03</td>\n    </tr>\n    <tr>\n      <th>22</th>\n      <td>f25</td>\n      <td>3.679332e+03</td>\n      <td>4.892096e+03</td>\n      <td>4.898756e+03</td>\n    </tr>\n    <tr>\n      <th>23</th>\n      <td>f26</td>\n      <td>4.560362e+03</td>\n      <td>4.913206e+03</td>\n      <td>5.445277e+03</td>\n    </tr>\n    <tr>\n      <th>24</th>\n      <td>f27</td>\n      <td>3.327357e+03</td>\n      <td>4.645891e+03</td>\n      <td>4.612721e+03</td>\n    </tr>\n    <tr>\n      <th>25</th>\n      <td>f28</td>\n      <td>3.848723e+03</td>\n      <td>4.004991e+03</td>\n      <td>4.463128e+03</td>\n    </tr>\n    <tr>\n      <th>26</th>\n      <td>f30</td>\n      <td>2.738961e+07</td>\n      <td>1.353902e+08</td>\n      <td>2.366099e+08</td>\n    </tr>\n  </tbody>\n</table>\n</div>"
     },
     "execution_count": 3,
     "metadata": {},
     "output_type": "execute_result"
    }
   ],
   "source": [
    "D10_csv = os.path.join(test_pathes.path_D10_csv, str(1) + '.csv')\n",
    "df = pd.read_csv(D10_csv)\n",
    "df\n",
    "# df[['DESA', 'AGDE', 'GSK']].values"
   ],
   "metadata": {
    "collapsed": false,
    "pycharm": {
     "name": "#%%\n"
    }
   }
  },
  {
   "cell_type": "code",
   "execution_count": 4,
   "outputs": [
    {
     "data": {
      "text/plain": "array([[1.89102974e+11, 2.44450107e+11, 2.50741725e+11],\n       [2.53238825e+11, 4.87052271e+12, 8.51141699e+18],\n       [1.60090081e+04, 2.49005433e+04, 3.94590327e+04],\n       ...,\n       [3.52937805e+03, 3.79142922e+03, 4.56247717e+03],\n       [3.86000214e+03, 3.99328055e+03, 4.46475751e+03],\n       [1.06758795e+08, 3.16443924e+07, 2.36609905e+08]])"
     },
     "execution_count": 4,
     "metadata": {},
     "output_type": "execute_result"
    }
   ],
   "source": [
    "all_result = np.empty([1, 3])\n",
    "for i in range(1, 52):\n",
    "    D10_csv = os.path.join(test_pathes.path_D10_csv, str(i) + '.csv')\n",
    "    df = pd.read_csv(D10_csv)\n",
    "    df = df[['DESA', 'AGDE', 'GSK']].values\n",
    "    all_result = np.concatenate((all_result, df), axis=0)\n",
    "\n",
    "all_result = np.delete(all_result, 0, axis=0)\n",
    "all_result"
   ],
   "metadata": {
    "collapsed": false,
    "pycharm": {
     "name": "#%%\n"
    }
   }
  },
  {
   "cell_type": "code",
   "execution_count": 5,
   "outputs": [],
   "source": [
    "for j in range(27):\n",
    "    compare_result = np.empty([3, 5])\n",
    "    for i in range(3):\n",
    "        a_result = np.empty([51])\n",
    "        for m in range(51):\n",
    "            a_result[m] = all_result[j + 27 * m][i]\n",
    "\n",
    "        compare_result[i][0] = a_result.min()\n",
    "        compare_result[i][1] = np.median(a_result)\n",
    "        compare_result[i][2] = a_result.max()\n",
    "        compare_result[i][3] = a_result.mean()\n",
    "        compare_result[i][4] = a_result.std()\n",
    "\n",
    "    if j < 16:\n",
    "        df = pd.DataFrame(compare_result, columns=['Best', 'Median', 'Worst', 'Mean', 'Std'], index=['DESA', 'AGDE', 'GSK']).to_csv(os.path.join(test_pathes.result_path_D10, str(j + 1) + '.csv'))\n",
    "    elif j < 18:\n",
    "        df = pd.DataFrame(compare_result, columns=['Best', 'Median', 'Worst', 'Mean', 'Std'], index=['DESA', 'AGDE', 'GSK']).to_csv(os.path.join(test_pathes.result_path_D10, str(j + 2) + '.csv'))\n",
    "    elif j < 26:\n",
    "        df = pd.DataFrame(compare_result, columns=['Best', 'Median', 'Worst', 'Mean', 'Std'], index=['DESA', 'AGDE', 'GSK']).to_csv(os.path.join(test_pathes.result_path_D10, str(j + 3) + '.csv'))\n",
    "    else:\n",
    "        df = pd.DataFrame(compare_result, columns=['Best', 'Median', 'Worst', 'Mean', 'Std'], index=['DESA', 'AGDE', 'GSK']).to_csv(os.path.join(test_pathes.result_path_D10, str(j + 4) + '.csv'))\n"
   ],
   "metadata": {
    "collapsed": false,
    "pycharm": {
     "name": "#%%\n"
    }
   }
  },
  {
   "cell_type": "markdown",
   "source": [
    "D30"
   ],
   "metadata": {
    "collapsed": false,
    "pycharm": {
     "name": "#%% md\n"
    }
   }
  },
  {
   "cell_type": "code",
   "execution_count": 6,
   "outputs": [],
   "source": [
    "for i in range(1, 52):\n",
    "    D30 = os.path.join(test_pathes.path_D30, str(i) + '.txt')\n",
    "    D30_csv = os.path.join(test_pathes.path_D30_csv, str(i) + '.csv')\n",
    "    result = np.loadtxt(D30)\n",
    "    result = np.delete(result, 28, axis=0)\n",
    "    result = np.delete(result, 19, axis=0)\n",
    "    result = np.delete(result, 16, axis=0)\n",
    "    df = pd.DataFrame(result, columns=['DESA', 'AGDE', 'GSK'], index=indexes).to_csv(D30_csv)"
   ],
   "metadata": {
    "collapsed": false,
    "pycharm": {
     "name": "#%%\n"
    }
   }
  },
  {
   "cell_type": "code",
   "execution_count": 7,
   "outputs": [
    {
     "data": {
      "text/plain": "   Unnamed: 0          DESA          AGDE           GSK\n0          f1  4.210535e+11  5.551490e+11  1.294318e+12\n1          f2  2.171962e+46  6.914143e+51  5.726065e+51\n2          f3  1.090972e+05  2.836969e+05  1.852725e+08\n3          f4  1.443411e+04  5.561928e+04  7.275688e+04\n4          f5  8.775568e+02  1.006875e+03  1.155108e+03\n5          f6  7.154071e+02  7.295854e+02  8.102411e+02\n6          f7  1.347484e+03  1.881628e+03  2.877023e+03\n7          f8  1.138634e+03  1.299545e+03  1.469320e+03\n8          f9  6.694298e+03  1.132719e+04  2.880971e+04\n9         f10  8.290337e+03  1.015626e+04  1.218398e+04\n10        f11  1.193766e+04  2.878465e+04  7.272069e+06\n11        f12  3.840948e+10  1.925743e+11  3.175323e+11\n12        f13  1.055740e+11  1.601875e+11  3.080991e+11\n13        f14  2.366459e+05  9.581914e+05  1.165116e+07\n14        f15  4.333191e+08  1.034341e+11  1.514217e+11\n15        f16  4.486869e+03  1.132573e+04  1.247200e+04\n16        f18  3.188591e+07  2.450656e+08  1.650320e+09\n17        f19  5.308748e+09  6.088047e+09  6.953797e+10\n18        f21  2.731038e+03  2.963702e+03  3.029091e+03\n19        f22  6.982313e+03  1.036415e+04  1.301757e+04\n20        f23  3.651935e+03  4.554725e+03  4.875488e+03\n21        f24  4.029215e+03  4.407014e+03  5.197147e+03\n22        f25  6.858796e+03  1.321735e+04  2.501423e+04\n23        f26  1.186132e+04  1.506190e+04  1.682177e+04\n24        f27  4.915102e+03  5.573181e+03  5.435871e+03\n25        f28  7.654119e+03  1.420766e+04  1.832708e+04\n26        f30  1.496467e+09  4.244672e+10  7.414280e+10",
      "text/html": "<div>\n<style scoped>\n    .dataframe tbody tr th:only-of-type {\n        vertical-align: middle;\n    }\n\n    .dataframe tbody tr th {\n        vertical-align: top;\n    }\n\n    .dataframe thead th {\n        text-align: right;\n    }\n</style>\n<table border=\"1\" class=\"dataframe\">\n  <thead>\n    <tr style=\"text-align: right;\">\n      <th></th>\n      <th>Unnamed: 0</th>\n      <th>DESA</th>\n      <th>AGDE</th>\n      <th>GSK</th>\n    </tr>\n  </thead>\n  <tbody>\n    <tr>\n      <th>0</th>\n      <td>f1</td>\n      <td>4.210535e+11</td>\n      <td>5.551490e+11</td>\n      <td>1.294318e+12</td>\n    </tr>\n    <tr>\n      <th>1</th>\n      <td>f2</td>\n      <td>2.171962e+46</td>\n      <td>6.914143e+51</td>\n      <td>5.726065e+51</td>\n    </tr>\n    <tr>\n      <th>2</th>\n      <td>f3</td>\n      <td>1.090972e+05</td>\n      <td>2.836969e+05</td>\n      <td>1.852725e+08</td>\n    </tr>\n    <tr>\n      <th>3</th>\n      <td>f4</td>\n      <td>1.443411e+04</td>\n      <td>5.561928e+04</td>\n      <td>7.275688e+04</td>\n    </tr>\n    <tr>\n      <th>4</th>\n      <td>f5</td>\n      <td>8.775568e+02</td>\n      <td>1.006875e+03</td>\n      <td>1.155108e+03</td>\n    </tr>\n    <tr>\n      <th>5</th>\n      <td>f6</td>\n      <td>7.154071e+02</td>\n      <td>7.295854e+02</td>\n      <td>8.102411e+02</td>\n    </tr>\n    <tr>\n      <th>6</th>\n      <td>f7</td>\n      <td>1.347484e+03</td>\n      <td>1.881628e+03</td>\n      <td>2.877023e+03</td>\n    </tr>\n    <tr>\n      <th>7</th>\n      <td>f8</td>\n      <td>1.138634e+03</td>\n      <td>1.299545e+03</td>\n      <td>1.469320e+03</td>\n    </tr>\n    <tr>\n      <th>8</th>\n      <td>f9</td>\n      <td>6.694298e+03</td>\n      <td>1.132719e+04</td>\n      <td>2.880971e+04</td>\n    </tr>\n    <tr>\n      <th>9</th>\n      <td>f10</td>\n      <td>8.290337e+03</td>\n      <td>1.015626e+04</td>\n      <td>1.218398e+04</td>\n    </tr>\n    <tr>\n      <th>10</th>\n      <td>f11</td>\n      <td>1.193766e+04</td>\n      <td>2.878465e+04</td>\n      <td>7.272069e+06</td>\n    </tr>\n    <tr>\n      <th>11</th>\n      <td>f12</td>\n      <td>3.840948e+10</td>\n      <td>1.925743e+11</td>\n      <td>3.175323e+11</td>\n    </tr>\n    <tr>\n      <th>12</th>\n      <td>f13</td>\n      <td>1.055740e+11</td>\n      <td>1.601875e+11</td>\n      <td>3.080991e+11</td>\n    </tr>\n    <tr>\n      <th>13</th>\n      <td>f14</td>\n      <td>2.366459e+05</td>\n      <td>9.581914e+05</td>\n      <td>1.165116e+07</td>\n    </tr>\n    <tr>\n      <th>14</th>\n      <td>f15</td>\n      <td>4.333191e+08</td>\n      <td>1.034341e+11</td>\n      <td>1.514217e+11</td>\n    </tr>\n    <tr>\n      <th>15</th>\n      <td>f16</td>\n      <td>4.486869e+03</td>\n      <td>1.132573e+04</td>\n      <td>1.247200e+04</td>\n    </tr>\n    <tr>\n      <th>16</th>\n      <td>f18</td>\n      <td>3.188591e+07</td>\n      <td>2.450656e+08</td>\n      <td>1.650320e+09</td>\n    </tr>\n    <tr>\n      <th>17</th>\n      <td>f19</td>\n      <td>5.308748e+09</td>\n      <td>6.088047e+09</td>\n      <td>6.953797e+10</td>\n    </tr>\n    <tr>\n      <th>18</th>\n      <td>f21</td>\n      <td>2.731038e+03</td>\n      <td>2.963702e+03</td>\n      <td>3.029091e+03</td>\n    </tr>\n    <tr>\n      <th>19</th>\n      <td>f22</td>\n      <td>6.982313e+03</td>\n      <td>1.036415e+04</td>\n      <td>1.301757e+04</td>\n    </tr>\n    <tr>\n      <th>20</th>\n      <td>f23</td>\n      <td>3.651935e+03</td>\n      <td>4.554725e+03</td>\n      <td>4.875488e+03</td>\n    </tr>\n    <tr>\n      <th>21</th>\n      <td>f24</td>\n      <td>4.029215e+03</td>\n      <td>4.407014e+03</td>\n      <td>5.197147e+03</td>\n    </tr>\n    <tr>\n      <th>22</th>\n      <td>f25</td>\n      <td>6.858796e+03</td>\n      <td>1.321735e+04</td>\n      <td>2.501423e+04</td>\n    </tr>\n    <tr>\n      <th>23</th>\n      <td>f26</td>\n      <td>1.186132e+04</td>\n      <td>1.506190e+04</td>\n      <td>1.682177e+04</td>\n    </tr>\n    <tr>\n      <th>24</th>\n      <td>f27</td>\n      <td>4.915102e+03</td>\n      <td>5.573181e+03</td>\n      <td>5.435871e+03</td>\n    </tr>\n    <tr>\n      <th>25</th>\n      <td>f28</td>\n      <td>7.654119e+03</td>\n      <td>1.420766e+04</td>\n      <td>1.832708e+04</td>\n    </tr>\n    <tr>\n      <th>26</th>\n      <td>f30</td>\n      <td>1.496467e+09</td>\n      <td>4.244672e+10</td>\n      <td>7.414280e+10</td>\n    </tr>\n  </tbody>\n</table>\n</div>"
     },
     "execution_count": 7,
     "metadata": {},
     "output_type": "execute_result"
    }
   ],
   "source": [
    "D30_csv = os.path.join(test_pathes.path_D30_csv, str(1) + '.csv')\n",
    "df = pd.read_csv(D30_csv)\n",
    "df"
   ],
   "metadata": {
    "collapsed": false,
    "pycharm": {
     "name": "#%%\n"
    }
   }
  },
  {
   "cell_type": "code",
   "execution_count": 8,
   "outputs": [
    {
     "data": {
      "text/plain": "array([[4.21053526e+11, 5.55148959e+11, 1.29431830e+12],\n       [2.17196176e+46, 6.91414287e+51, 5.72606480e+51],\n       [1.09097220e+05, 2.83696946e+05, 1.85272518e+08],\n       ...,\n       [5.25953789e+03, 5.09469908e+03, 5.53260526e+03],\n       [7.76147571e+03, 1.42947158e+04, 1.84419272e+04],\n       [9.09136943e+08, 2.30236378e+10, 7.49541572e+10]])"
     },
     "execution_count": 8,
     "metadata": {},
     "output_type": "execute_result"
    }
   ],
   "source": [
    "all_result = np.empty([1, 3])\n",
    "for i in range(1, 52):\n",
    "    D30_csv = os.path.join(test_pathes.path_D30_csv, str(i) + '.csv')\n",
    "    df = pd.read_csv(D30_csv)\n",
    "    df = df[['DESA', 'AGDE', 'GSK']].values\n",
    "    all_result = np.concatenate((all_result, df), axis=0)\n",
    "\n",
    "all_result = np.delete(all_result, 0, axis=0)\n",
    "all_result"
   ],
   "metadata": {
    "collapsed": false,
    "pycharm": {
     "name": "#%%\n"
    }
   }
  },
  {
   "cell_type": "code",
   "execution_count": 9,
   "outputs": [],
   "source": [
    "for j in range(27):\n",
    "    compare_result = np.empty([3, 5])\n",
    "    for i in range(3):\n",
    "        a_result = np.empty([51])\n",
    "        for m in range(51):\n",
    "            a_result[m] = all_result[j + 27 * m][i]\n",
    "\n",
    "        compare_result[i][0] = a_result.min()\n",
    "        compare_result[i][1] = np.median(a_result)\n",
    "        compare_result[i][2] = a_result.max()\n",
    "        compare_result[i][3] = a_result.mean()\n",
    "        compare_result[i][4] = a_result.std()\n",
    "\n",
    "    if j < 16:\n",
    "        df = pd.DataFrame(compare_result, columns=['Best', 'Median', 'Worst', 'Mean', 'Std'], index=['DESA', 'AGDE', 'GSK']).to_csv(os.path.join(test_pathes.result_path_D30, str(j + 1) + '.csv'))\n",
    "    elif j < 18:\n",
    "        df = pd.DataFrame(compare_result, columns=['Best', 'Median', 'Worst', 'Mean', 'Std'], index=['DESA', 'AGDE', 'GSK']).to_csv(os.path.join(test_pathes.result_path_D30, str(j + 2) + '.csv'))\n",
    "    elif j < 26:\n",
    "        df = pd.DataFrame(compare_result, columns=['Best', 'Median', 'Worst', 'Mean', 'Std'], index=['DESA', 'AGDE', 'GSK']).to_csv(os.path.join(test_pathes.result_path_D30, str(j + 3) + '.csv'))\n",
    "    else:\n",
    "        df = pd.DataFrame(compare_result, columns=['Best', 'Median', 'Worst', 'Mean', 'Std'], index=['DESA', 'AGDE', 'GSK']).to_csv(os.path.join(test_pathes.result_path_D30, str(j + 4) + '.csv'))\n"
   ],
   "metadata": {
    "collapsed": false,
    "pycharm": {
     "name": "#%%\n"
    }
   }
  },
  {
   "cell_type": "markdown",
   "source": [
    "D50"
   ],
   "metadata": {
    "collapsed": false,
    "pycharm": {
     "name": "#%% md\n"
    }
   }
  },
  {
   "cell_type": "code",
   "execution_count": 10,
   "outputs": [],
   "source": [
    "for i in range(1, 52):\n",
    "    D50 = os.path.join(test_pathes.path_D50, str(i) + '.txt')\n",
    "    D50_csv = os.path.join(test_pathes.path_D50_csv, str(i) + '.csv')\n",
    "    result = np.loadtxt(D50)\n",
    "    result = np.delete(result, 28, axis=0)\n",
    "    result = np.delete(result, 19, axis=0)\n",
    "    result = np.delete(result, 16, axis=0)\n",
    "    df = pd.DataFrame(result, columns=['DESA', 'AGDE', 'GSK'], index=indexes).to_csv(D50_csv)"
   ],
   "metadata": {
    "collapsed": false,
    "pycharm": {
     "name": "#%%\n"
    }
   }
  },
  {
   "cell_type": "code",
   "execution_count": 11,
   "outputs": [
    {
     "data": {
      "text/plain": "   Unnamed: 0          DESA          AGDE           GSK\n0          f1  1.093160e+12  1.583597e+12  2.660666e+12\n1          f2  1.124738e+79  2.777256e+88  8.361994e+94\n2          f3  2.497615e+05  4.897401e+05  1.969013e+12\n3          f4  4.869021e+04  8.408970e+04  1.304167e+05\n4          f5  1.186745e+03  1.337071e+03  1.789869e+03\n5          f6  7.351936e+02  7.868253e+02  8.030916e+02\n6          f7  1.875997e+03  3.650064e+03  6.870676e+03\n7          f8  1.484526e+03  1.614089e+03  1.930720e+03\n8          f9  3.262239e+04  6.303986e+04  9.582747e+04\n9         f10  1.483501e+04  1.602069e+04  1.925664e+04\n10        f11  3.194470e+04  4.988150e+04  9.180771e+04\n11        f12  9.778761e+11  1.256819e+12  1.852361e+12\n12        f13  4.330780e+11  8.116359e+11  1.230012e+12\n13        f14  2.031850e+08  7.502183e+08  2.259634e+09\n14        f15  2.251983e+10  1.373156e+11  6.010099e+11\n15        f16  8.731007e+03  9.269218e+03  1.526236e+04\n16        f18  2.913774e+08  8.022405e+08  2.797942e+09\n17        f19  2.480132e+10  4.064462e+10  1.610272e+11\n18        f21  3.284824e+03  3.616202e+03  3.770347e+03\n19        f22  1.686677e+04  1.988804e+04  2.104671e+04\n20        f23  5.299695e+03  6.261914e+03  6.887892e+03\n21        f24  5.323120e+03  7.134090e+03  7.080921e+03\n22        f25  1.254382e+04  3.812380e+04  6.050099e+04\n23        f26  1.834926e+04  2.739179e+04  4.402048e+04\n24        f27  6.432074e+03  1.014282e+04  1.050447e+04\n25        f28  1.023015e+04  2.214349e+04  3.550850e+04\n26        f30  6.583900e+10  1.028510e+11  1.646377e+11",
      "text/html": "<div>\n<style scoped>\n    .dataframe tbody tr th:only-of-type {\n        vertical-align: middle;\n    }\n\n    .dataframe tbody tr th {\n        vertical-align: top;\n    }\n\n    .dataframe thead th {\n        text-align: right;\n    }\n</style>\n<table border=\"1\" class=\"dataframe\">\n  <thead>\n    <tr style=\"text-align: right;\">\n      <th></th>\n      <th>Unnamed: 0</th>\n      <th>DESA</th>\n      <th>AGDE</th>\n      <th>GSK</th>\n    </tr>\n  </thead>\n  <tbody>\n    <tr>\n      <th>0</th>\n      <td>f1</td>\n      <td>1.093160e+12</td>\n      <td>1.583597e+12</td>\n      <td>2.660666e+12</td>\n    </tr>\n    <tr>\n      <th>1</th>\n      <td>f2</td>\n      <td>1.124738e+79</td>\n      <td>2.777256e+88</td>\n      <td>8.361994e+94</td>\n    </tr>\n    <tr>\n      <th>2</th>\n      <td>f3</td>\n      <td>2.497615e+05</td>\n      <td>4.897401e+05</td>\n      <td>1.969013e+12</td>\n    </tr>\n    <tr>\n      <th>3</th>\n      <td>f4</td>\n      <td>4.869021e+04</td>\n      <td>8.408970e+04</td>\n      <td>1.304167e+05</td>\n    </tr>\n    <tr>\n      <th>4</th>\n      <td>f5</td>\n      <td>1.186745e+03</td>\n      <td>1.337071e+03</td>\n      <td>1.789869e+03</td>\n    </tr>\n    <tr>\n      <th>5</th>\n      <td>f6</td>\n      <td>7.351936e+02</td>\n      <td>7.868253e+02</td>\n      <td>8.030916e+02</td>\n    </tr>\n    <tr>\n      <th>6</th>\n      <td>f7</td>\n      <td>1.875997e+03</td>\n      <td>3.650064e+03</td>\n      <td>6.870676e+03</td>\n    </tr>\n    <tr>\n      <th>7</th>\n      <td>f8</td>\n      <td>1.484526e+03</td>\n      <td>1.614089e+03</td>\n      <td>1.930720e+03</td>\n    </tr>\n    <tr>\n      <th>8</th>\n      <td>f9</td>\n      <td>3.262239e+04</td>\n      <td>6.303986e+04</td>\n      <td>9.582747e+04</td>\n    </tr>\n    <tr>\n      <th>9</th>\n      <td>f10</td>\n      <td>1.483501e+04</td>\n      <td>1.602069e+04</td>\n      <td>1.925664e+04</td>\n    </tr>\n    <tr>\n      <th>10</th>\n      <td>f11</td>\n      <td>3.194470e+04</td>\n      <td>4.988150e+04</td>\n      <td>9.180771e+04</td>\n    </tr>\n    <tr>\n      <th>11</th>\n      <td>f12</td>\n      <td>9.778761e+11</td>\n      <td>1.256819e+12</td>\n      <td>1.852361e+12</td>\n    </tr>\n    <tr>\n      <th>12</th>\n      <td>f13</td>\n      <td>4.330780e+11</td>\n      <td>8.116359e+11</td>\n      <td>1.230012e+12</td>\n    </tr>\n    <tr>\n      <th>13</th>\n      <td>f14</td>\n      <td>2.031850e+08</td>\n      <td>7.502183e+08</td>\n      <td>2.259634e+09</td>\n    </tr>\n    <tr>\n      <th>14</th>\n      <td>f15</td>\n      <td>2.251983e+10</td>\n      <td>1.373156e+11</td>\n      <td>6.010099e+11</td>\n    </tr>\n    <tr>\n      <th>15</th>\n      <td>f16</td>\n      <td>8.731007e+03</td>\n      <td>9.269218e+03</td>\n      <td>1.526236e+04</td>\n    </tr>\n    <tr>\n      <th>16</th>\n      <td>f18</td>\n      <td>2.913774e+08</td>\n      <td>8.022405e+08</td>\n      <td>2.797942e+09</td>\n    </tr>\n    <tr>\n      <th>17</th>\n      <td>f19</td>\n      <td>2.480132e+10</td>\n      <td>4.064462e+10</td>\n      <td>1.610272e+11</td>\n    </tr>\n    <tr>\n      <th>18</th>\n      <td>f21</td>\n      <td>3.284824e+03</td>\n      <td>3.616202e+03</td>\n      <td>3.770347e+03</td>\n    </tr>\n    <tr>\n      <th>19</th>\n      <td>f22</td>\n      <td>1.686677e+04</td>\n      <td>1.988804e+04</td>\n      <td>2.104671e+04</td>\n    </tr>\n    <tr>\n      <th>20</th>\n      <td>f23</td>\n      <td>5.299695e+03</td>\n      <td>6.261914e+03</td>\n      <td>6.887892e+03</td>\n    </tr>\n    <tr>\n      <th>21</th>\n      <td>f24</td>\n      <td>5.323120e+03</td>\n      <td>7.134090e+03</td>\n      <td>7.080921e+03</td>\n    </tr>\n    <tr>\n      <th>22</th>\n      <td>f25</td>\n      <td>1.254382e+04</td>\n      <td>3.812380e+04</td>\n      <td>6.050099e+04</td>\n    </tr>\n    <tr>\n      <th>23</th>\n      <td>f26</td>\n      <td>1.834926e+04</td>\n      <td>2.739179e+04</td>\n      <td>4.402048e+04</td>\n    </tr>\n    <tr>\n      <th>24</th>\n      <td>f27</td>\n      <td>6.432074e+03</td>\n      <td>1.014282e+04</td>\n      <td>1.050447e+04</td>\n    </tr>\n    <tr>\n      <th>25</th>\n      <td>f28</td>\n      <td>1.023015e+04</td>\n      <td>2.214349e+04</td>\n      <td>3.550850e+04</td>\n    </tr>\n    <tr>\n      <th>26</th>\n      <td>f30</td>\n      <td>6.583900e+10</td>\n      <td>1.028510e+11</td>\n      <td>1.646377e+11</td>\n    </tr>\n  </tbody>\n</table>\n</div>"
     },
     "execution_count": 11,
     "metadata": {},
     "output_type": "execute_result"
    }
   ],
   "source": [
    "D50_csv = os.path.join(test_pathes.path_D50_csv, str(1) + '.csv')\n",
    "df = pd.read_csv(D50_csv)\n",
    "df"
   ],
   "metadata": {
    "collapsed": false,
    "pycharm": {
     "name": "#%%\n"
    }
   }
  },
  {
   "cell_type": "code",
   "execution_count": 12,
   "outputs": [
    {
     "data": {
      "text/plain": "array([[1.09315953e+12, 1.58359670e+12, 2.66066609e+12],\n       [1.12473826e+79, 2.77725585e+88, 8.36199412e+94],\n       [2.49761463e+05, 4.89740093e+05, 1.96901342e+12],\n       ...,\n       [6.82631786e+03, 9.21482399e+03, 1.04629947e+04],\n       [1.19801503e+04, 2.14879945e+04, 3.55085033e+04],\n       [7.86689875e+10, 1.18684619e+11, 1.64637659e+11]])"
     },
     "execution_count": 12,
     "metadata": {},
     "output_type": "execute_result"
    }
   ],
   "source": [
    "all_result = np.empty([1, 3])\n",
    "for i in range(1, 52):\n",
    "    D50_csv = os.path.join(test_pathes.path_D50_csv, str(i) + '.csv')\n",
    "    df = pd.read_csv(D50_csv)\n",
    "    df = df[['DESA', 'AGDE', 'GSK']].values\n",
    "    all_result = np.concatenate((all_result, df), axis=0)\n",
    "\n",
    "all_result = np.delete(all_result, 0, axis=0)\n",
    "all_result"
   ],
   "metadata": {
    "collapsed": false,
    "pycharm": {
     "name": "#%%\n"
    }
   }
  },
  {
   "cell_type": "code",
   "execution_count": 13,
   "outputs": [],
   "source": [
    "for j in range(27):\n",
    "    compare_result = np.empty([3, 5])\n",
    "    for i in range(3):\n",
    "        a_result = np.empty([51])\n",
    "        for m in range(51):\n",
    "            a_result[m] = all_result[j + 27 * m][i]\n",
    "\n",
    "        compare_result[i][0] = a_result.min()\n",
    "        compare_result[i][1] = np.median(a_result)\n",
    "        compare_result[i][2] = a_result.max()\n",
    "        compare_result[i][3] = a_result.mean()\n",
    "        compare_result[i][4] = a_result.std()\n",
    "\n",
    "    if j < 16:\n",
    "        df = pd.DataFrame(compare_result, columns=['Best', 'Median', 'Worst', 'Mean', 'Std'], index=['DESA', 'AGDE', 'GSK']).to_csv(os.path.join(test_pathes.result_path_D50, str(j + 1) + '.csv'))\n",
    "    elif j < 18:\n",
    "        df = pd.DataFrame(compare_result, columns=['Best', 'Median', 'Worst', 'Mean', 'Std'], index=['DESA', 'AGDE', 'GSK']).to_csv(os.path.join(test_pathes.result_path_D50, str(j + 2) + '.csv'))\n",
    "    elif j < 26:\n",
    "        df = pd.DataFrame(compare_result, columns=['Best', 'Median', 'Worst', 'Mean', 'Std'], index=['DESA', 'AGDE', 'GSK']).to_csv(os.path.join(test_pathes.result_path_D50, str(j + 3) + '.csv'))\n",
    "    else:\n",
    "        df = pd.DataFrame(compare_result, columns=['Best', 'Median', 'Worst', 'Mean', 'Std'], index=['DESA', 'AGDE', 'GSK']).to_csv(os.path.join(test_pathes.result_path_D50, str(j + 4) + '.csv'))"
   ],
   "metadata": {
    "collapsed": false,
    "pycharm": {
     "name": "#%%\n"
    }
   }
  }
 ],
 "metadata": {
  "kernelspec": {
   "display_name": "Python 3",
   "language": "python",
   "name": "python3"
  },
  "language_info": {
   "codemirror_mode": {
    "name": "ipython",
    "version": 2
   },
   "file_extension": ".py",
   "mimetype": "text/x-python",
   "name": "python",
   "nbconvert_exporter": "python",
   "pygments_lexer": "ipython2",
   "version": "2.7.6"
  }
 },
 "nbformat": 4,
 "nbformat_minor": 0
}